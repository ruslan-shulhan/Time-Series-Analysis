{
  "nbformat": 4,
  "nbformat_minor": 0,
  "metadata": {
    "colab": {
      "name": "Time_Series_Analysis_5-Forecasting_Google_Stock_Price_With_Moving_Average_Processes_FINAL.ipynb",
      "provenance": [],
      "collapsed_sections": []
    },
    "kernelspec": {
      "name": "python3",
      "display_name": "Python 3"
    },
    "language_info": {
      "name": "python"
    }
  },
  "cells": [
    {
      "cell_type": "markdown",
      "source": [
        "### **Time Series - Moving Average (MA) Implementations on Google Stock**"
      ],
      "metadata": {
        "id": "Idi6shSeBunM"
      }
    },
    {
      "cell_type": "markdown",
      "source": [
        "**Objective:** forecast Google stock for the last two weeks of Dec 2021, by using historical data of the whole year of 2021"
      ],
      "metadata": {
        "id": "1_yHzH89B91z"
      }
    },
    {
      "cell_type": "markdown",
      "source": [
        "**Data was taken from:** [link text](https://finance.yahoo.com/quote/GOOG/history/)"
      ],
      "metadata": {
        "id": "0DgxWKTPCdoq"
      }
    },
    {
      "cell_type": "markdown",
      "source": [
        "![temp_1.png](data:image/png;base64,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)"
      ],
      "metadata": {
        "id": "edTV8urAC0xF"
      }
    },
    {
      "cell_type": "markdown",
      "source": [
        "Above is a simple example of the Moving Average formula. Where 't' is the time period and 's' is the size of a sliding window."
      ],
      "metadata": {
        "id": "Vw21q7kxC7Nn"
      }
    },
    {
      "cell_type": "code",
      "source": [
        "# loading labraries\n",
        "import warnings\n",
        "warnings.filterwarnings('ignore')\n",
        "%matplotlib inline\n",
        "\n",
        "import numpy as np\n",
        "import pandas as pd\n",
        "\n",
        "import matplotlib.pyplot as plt\n",
        "import seaborn as sns\n",
        "plt.figure(figsize = (12, 6))\n",
        "sns.set(rc={'figure.figsize':(11.7,7.27)})\n",
        "sns.set_style(\"darkgrid\", {\"grid.color\": \".6\", \"grid.linestyle\": \":\"})\n",
        "\n",
        "from statsmodels.tsa.seasonal import seasonal_decompose\n",
        "from cycler import cycler\n",
        "\n",
        "from statsmodels.tsa.arima_model import ARMA\n",
        "from sklearn.metrics import mean_squared_error, mean_absolute_error\n",
        "from statsmodels.tsa.stattools import adfuller"
      ],
      "metadata": {
        "colab": {
          "base_uri": "https://localhost:8080/",
          "height": 34
        },
        "id": "rWj5YSQhCcRJ",
        "outputId": "f0e57bdc-e447-4ffc-f368-1a4ff8c911a7"
      },
      "execution_count": null,
      "outputs": [
        {
          "output_type": "display_data",
          "data": {
            "text/plain": [
              "<Figure size 864x432 with 0 Axes>"
            ]
          },
          "metadata": {}
        }
      ]
    },
    {
      "cell_type": "code",
      "execution_count": null,
      "metadata": {
        "colab": {
          "base_uri": "https://localhost:8080/",
          "height": 423
        },
        "id": "CeoOKhWEBe_L",
        "outputId": "154ac8e0-c247-4f23-b1bc-fcd914dc95df"
      },
      "outputs": [
        {
          "output_type": "execute_result",
          "data": {
            "text/html": [
              "\n",
              "  <div id=\"df-56b99201-fc89-476e-b2cd-e146a9624188\">\n",
              "    <div class=\"colab-df-container\">\n",
              "      <div>\n",
              "<style scoped>\n",
              "    .dataframe tbody tr th:only-of-type {\n",
              "        vertical-align: middle;\n",
              "    }\n",
              "\n",
              "    .dataframe tbody tr th {\n",
              "        vertical-align: top;\n",
              "    }\n",
              "\n",
              "    .dataframe thead th {\n",
              "        text-align: right;\n",
              "    }\n",
              "</style>\n",
              "<table border=\"1\" class=\"dataframe\">\n",
              "  <thead>\n",
              "    <tr style=\"text-align: right;\">\n",
              "      <th></th>\n",
              "      <th>Date</th>\n",
              "      <th>Open</th>\n",
              "      <th>High</th>\n",
              "      <th>Low</th>\n",
              "      <th>Close</th>\n",
              "      <th>Adj Close</th>\n",
              "      <th>Volume</th>\n",
              "    </tr>\n",
              "  </thead>\n",
              "  <tbody>\n",
              "    <tr>\n",
              "      <th>0</th>\n",
              "      <td>2021-01-04</td>\n",
              "      <td>1757.540039</td>\n",
              "      <td>1760.650024</td>\n",
              "      <td>1707.849976</td>\n",
              "      <td>1728.239990</td>\n",
              "      <td>1728.239990</td>\n",
              "      <td>1901900</td>\n",
              "    </tr>\n",
              "    <tr>\n",
              "      <th>1</th>\n",
              "      <td>2021-01-05</td>\n",
              "      <td>1725.000000</td>\n",
              "      <td>1747.670044</td>\n",
              "      <td>1718.015015</td>\n",
              "      <td>1740.920044</td>\n",
              "      <td>1740.920044</td>\n",
              "      <td>1145300</td>\n",
              "    </tr>\n",
              "    <tr>\n",
              "      <th>2</th>\n",
              "      <td>2021-01-06</td>\n",
              "      <td>1702.630005</td>\n",
              "      <td>1748.000000</td>\n",
              "      <td>1699.000000</td>\n",
              "      <td>1735.290039</td>\n",
              "      <td>1735.290039</td>\n",
              "      <td>2602100</td>\n",
              "    </tr>\n",
              "    <tr>\n",
              "      <th>3</th>\n",
              "      <td>2021-01-07</td>\n",
              "      <td>1740.060059</td>\n",
              "      <td>1788.400024</td>\n",
              "      <td>1737.050049</td>\n",
              "      <td>1787.250000</td>\n",
              "      <td>1787.250000</td>\n",
              "      <td>2265000</td>\n",
              "    </tr>\n",
              "    <tr>\n",
              "      <th>4</th>\n",
              "      <td>2021-01-08</td>\n",
              "      <td>1787.979980</td>\n",
              "      <td>1809.839966</td>\n",
              "      <td>1773.535034</td>\n",
              "      <td>1807.209961</td>\n",
              "      <td>1807.209961</td>\n",
              "      <td>2050600</td>\n",
              "    </tr>\n",
              "    <tr>\n",
              "      <th>...</th>\n",
              "      <td>...</td>\n",
              "      <td>...</td>\n",
              "      <td>...</td>\n",
              "      <td>...</td>\n",
              "      <td>...</td>\n",
              "      <td>...</td>\n",
              "      <td>...</td>\n",
              "    </tr>\n",
              "    <tr>\n",
              "      <th>248</th>\n",
              "      <td>2021-12-28</td>\n",
              "      <td>2967.489990</td>\n",
              "      <td>2967.489990</td>\n",
              "      <td>2918.709961</td>\n",
              "      <td>2928.959961</td>\n",
              "      <td>2928.959961</td>\n",
              "      <td>931200</td>\n",
              "    </tr>\n",
              "    <tr>\n",
              "      <th>249</th>\n",
              "      <td>2021-12-29</td>\n",
              "      <td>2928.590088</td>\n",
              "      <td>2943.675049</td>\n",
              "      <td>2910.090088</td>\n",
              "      <td>2930.090088</td>\n",
              "      <td>2930.090088</td>\n",
              "      <td>851100</td>\n",
              "    </tr>\n",
              "    <tr>\n",
              "      <th>250</th>\n",
              "      <td>2021-12-30</td>\n",
              "      <td>2929.000000</td>\n",
              "      <td>2941.250000</td>\n",
              "      <td>2915.169922</td>\n",
              "      <td>2920.050049</td>\n",
              "      <td>2920.050049</td>\n",
              "      <td>648900</td>\n",
              "    </tr>\n",
              "    <tr>\n",
              "      <th>251</th>\n",
              "      <td>2021-12-31</td>\n",
              "      <td>2910.879883</td>\n",
              "      <td>2927.300049</td>\n",
              "      <td>2893.550049</td>\n",
              "      <td>2893.590088</td>\n",
              "      <td>2893.590088</td>\n",
              "      <td>864400</td>\n",
              "    </tr>\n",
              "    <tr>\n",
              "      <th>252</th>\n",
              "      <td>2022-01-03</td>\n",
              "      <td>2889.510010</td>\n",
              "      <td>2911.000000</td>\n",
              "      <td>2870.060059</td>\n",
              "      <td>2901.489990</td>\n",
              "      <td>2901.489990</td>\n",
              "      <td>1167129</td>\n",
              "    </tr>\n",
              "  </tbody>\n",
              "</table>\n",
              "<p>253 rows × 7 columns</p>\n",
              "</div>\n",
              "      <button class=\"colab-df-convert\" onclick=\"convertToInteractive('df-56b99201-fc89-476e-b2cd-e146a9624188')\"\n",
              "              title=\"Convert this dataframe to an interactive table.\"\n",
              "              style=\"display:none;\">\n",
              "        \n",
              "  <svg xmlns=\"http://www.w3.org/2000/svg\" height=\"24px\"viewBox=\"0 0 24 24\"\n",
              "       width=\"24px\">\n",
              "    <path d=\"M0 0h24v24H0V0z\" fill=\"none\"/>\n",
              "    <path d=\"M18.56 5.44l.94 2.06.94-2.06 2.06-.94-2.06-.94-.94-2.06-.94 2.06-2.06.94zm-11 1L8.5 8.5l.94-2.06 2.06-.94-2.06-.94L8.5 2.5l-.94 2.06-2.06.94zm10 10l.94 2.06.94-2.06 2.06-.94-2.06-.94-.94-2.06-.94 2.06-2.06.94z\"/><path d=\"M17.41 7.96l-1.37-1.37c-.4-.4-.92-.59-1.43-.59-.52 0-1.04.2-1.43.59L10.3 9.45l-7.72 7.72c-.78.78-.78 2.05 0 2.83L4 21.41c.39.39.9.59 1.41.59.51 0 1.02-.2 1.41-.59l7.78-7.78 2.81-2.81c.8-.78.8-2.07 0-2.86zM5.41 20L4 18.59l7.72-7.72 1.47 1.35L5.41 20z\"/>\n",
              "  </svg>\n",
              "      </button>\n",
              "      \n",
              "  <style>\n",
              "    .colab-df-container {\n",
              "      display:flex;\n",
              "      flex-wrap:wrap;\n",
              "      gap: 12px;\n",
              "    }\n",
              "\n",
              "    .colab-df-convert {\n",
              "      background-color: #E8F0FE;\n",
              "      border: none;\n",
              "      border-radius: 50%;\n",
              "      cursor: pointer;\n",
              "      display: none;\n",
              "      fill: #1967D2;\n",
              "      height: 32px;\n",
              "      padding: 0 0 0 0;\n",
              "      width: 32px;\n",
              "    }\n",
              "\n",
              "    .colab-df-convert:hover {\n",
              "      background-color: #E2EBFA;\n",
              "      box-shadow: 0px 1px 2px rgba(60, 64, 67, 0.3), 0px 1px 3px 1px rgba(60, 64, 67, 0.15);\n",
              "      fill: #174EA6;\n",
              "    }\n",
              "\n",
              "    [theme=dark] .colab-df-convert {\n",
              "      background-color: #3B4455;\n",
              "      fill: #D2E3FC;\n",
              "    }\n",
              "\n",
              "    [theme=dark] .colab-df-convert:hover {\n",
              "      background-color: #434B5C;\n",
              "      box-shadow: 0px 1px 3px 1px rgba(0, 0, 0, 0.15);\n",
              "      filter: drop-shadow(0px 1px 2px rgba(0, 0, 0, 0.3));\n",
              "      fill: #FFFFFF;\n",
              "    }\n",
              "  </style>\n",
              "\n",
              "      <script>\n",
              "        const buttonEl =\n",
              "          document.querySelector('#df-56b99201-fc89-476e-b2cd-e146a9624188 button.colab-df-convert');\n",
              "        buttonEl.style.display =\n",
              "          google.colab.kernel.accessAllowed ? 'block' : 'none';\n",
              "\n",
              "        async function convertToInteractive(key) {\n",
              "          const element = document.querySelector('#df-56b99201-fc89-476e-b2cd-e146a9624188');\n",
              "          const dataTable =\n",
              "            await google.colab.kernel.invokeFunction('convertToInteractive',\n",
              "                                                     [key], {});\n",
              "          if (!dataTable) return;\n",
              "\n",
              "          const docLinkHtml = 'Like what you see? Visit the ' +\n",
              "            '<a target=\"_blank\" href=https://colab.research.google.com/notebooks/data_table.ipynb>data table notebook</a>'\n",
              "            + ' to learn more about interactive tables.';\n",
              "          element.innerHTML = '';\n",
              "          dataTable['output_type'] = 'display_data';\n",
              "          await google.colab.output.renderOutput(dataTable, element);\n",
              "          const docLink = document.createElement('div');\n",
              "          docLink.innerHTML = docLinkHtml;\n",
              "          element.appendChild(docLink);\n",
              "        }\n",
              "      </script>\n",
              "    </div>\n",
              "  </div>\n",
              "  "
            ],
            "text/plain": [
              "           Date         Open         High  ...        Close    Adj Close   Volume\n",
              "0    2021-01-04  1757.540039  1760.650024  ...  1728.239990  1728.239990  1901900\n",
              "1    2021-01-05  1725.000000  1747.670044  ...  1740.920044  1740.920044  1145300\n",
              "2    2021-01-06  1702.630005  1748.000000  ...  1735.290039  1735.290039  2602100\n",
              "3    2021-01-07  1740.060059  1788.400024  ...  1787.250000  1787.250000  2265000\n",
              "4    2021-01-08  1787.979980  1809.839966  ...  1807.209961  1807.209961  2050600\n",
              "..          ...          ...          ...  ...          ...          ...      ...\n",
              "248  2021-12-28  2967.489990  2967.489990  ...  2928.959961  2928.959961   931200\n",
              "249  2021-12-29  2928.590088  2943.675049  ...  2930.090088  2930.090088   851100\n",
              "250  2021-12-30  2929.000000  2941.250000  ...  2920.050049  2920.050049   648900\n",
              "251  2021-12-31  2910.879883  2927.300049  ...  2893.590088  2893.590088   864400\n",
              "252  2022-01-03  2889.510010  2911.000000  ...  2901.489990  2901.489990  1167129\n",
              "\n",
              "[253 rows x 7 columns]"
            ]
          },
          "metadata": {},
          "execution_count": 2
        }
      ],
      "source": [
        "# loading dataset\n",
        "path = \"/content/drive/MyDrive/Colab Notebooks/data/4/GOOG.csv\"\n",
        "df = pd.read_csv(path)\n",
        "df"
      ]
    },
    {
      "cell_type": "code",
      "source": [
        "# checking for dtypes\n",
        "df.info()"
      ],
      "metadata": {
        "colab": {
          "base_uri": "https://localhost:8080/"
        },
        "id": "bKYI90JvEFOi",
        "outputId": "7be5d14d-3e94-48e2-b299-dada3b097d77"
      },
      "execution_count": null,
      "outputs": [
        {
          "output_type": "stream",
          "name": "stdout",
          "text": [
            "<class 'pandas.core.frame.DataFrame'>\n",
            "RangeIndex: 253 entries, 0 to 252\n",
            "Data columns (total 7 columns):\n",
            " #   Column     Non-Null Count  Dtype  \n",
            "---  ------     --------------  -----  \n",
            " 0   Date       253 non-null    object \n",
            " 1   Open       253 non-null    float64\n",
            " 2   High       253 non-null    float64\n",
            " 3   Low        253 non-null    float64\n",
            " 4   Close      253 non-null    float64\n",
            " 5   Adj Close  253 non-null    float64\n",
            " 6   Volume     253 non-null    int64  \n",
            "dtypes: float64(5), int64(1), object(1)\n",
            "memory usage: 14.0+ KB\n"
          ]
        }
      ]
    },
    {
      "cell_type": "code",
      "source": [
        "# converting 'Date' col into datetime\n",
        "df['Date'] = pd.to_datetime(df['Date'])\n",
        "df.dtypes"
      ],
      "metadata": {
        "colab": {
          "base_uri": "https://localhost:8080/"
        },
        "id": "peHYb9GzFe8e",
        "outputId": "a40b9388-fe71-404b-ed67-eb899f984c53"
      },
      "execution_count": null,
      "outputs": [
        {
          "output_type": "execute_result",
          "data": {
            "text/plain": [
              "Date         datetime64[ns]\n",
              "Open                float64\n",
              "High                float64\n",
              "Low                 float64\n",
              "Close               float64\n",
              "Adj Close           float64\n",
              "Volume                int64\n",
              "dtype: object"
            ]
          },
          "metadata": {},
          "execution_count": 4
        }
      ]
    },
    {
      "cell_type": "code",
      "source": [
        "# filtering for the year for 2021 only\n",
        "mask_1 = (df['Date'] > \"2020-12-31\") & (df['Date'] < \"2022-01-01\")\n",
        "df = df[mask_1]\n",
        "df"
      ],
      "metadata": {
        "colab": {
          "base_uri": "https://localhost:8080/",
          "height": 423
        },
        "id": "tIJ-d-z5j8eL",
        "outputId": "094d81dc-10e2-4fc3-aee2-daef066b093b"
      },
      "execution_count": null,
      "outputs": [
        {
          "output_type": "execute_result",
          "data": {
            "text/html": [
              "\n",
              "  <div id=\"df-ceac8913-b26a-49f4-bb47-8d16f1617049\">\n",
              "    <div class=\"colab-df-container\">\n",
              "      <div>\n",
              "<style scoped>\n",
              "    .dataframe tbody tr th:only-of-type {\n",
              "        vertical-align: middle;\n",
              "    }\n",
              "\n",
              "    .dataframe tbody tr th {\n",
              "        vertical-align: top;\n",
              "    }\n",
              "\n",
              "    .dataframe thead th {\n",
              "        text-align: right;\n",
              "    }\n",
              "</style>\n",
              "<table border=\"1\" class=\"dataframe\">\n",
              "  <thead>\n",
              "    <tr style=\"text-align: right;\">\n",
              "      <th></th>\n",
              "      <th>Date</th>\n",
              "      <th>Open</th>\n",
              "      <th>High</th>\n",
              "      <th>Low</th>\n",
              "      <th>Close</th>\n",
              "      <th>Adj Close</th>\n",
              "      <th>Volume</th>\n",
              "    </tr>\n",
              "  </thead>\n",
              "  <tbody>\n",
              "    <tr>\n",
              "      <th>0</th>\n",
              "      <td>2021-01-04</td>\n",
              "      <td>1757.540039</td>\n",
              "      <td>1760.650024</td>\n",
              "      <td>1707.849976</td>\n",
              "      <td>1728.239990</td>\n",
              "      <td>1728.239990</td>\n",
              "      <td>1901900</td>\n",
              "    </tr>\n",
              "    <tr>\n",
              "      <th>1</th>\n",
              "      <td>2021-01-05</td>\n",
              "      <td>1725.000000</td>\n",
              "      <td>1747.670044</td>\n",
              "      <td>1718.015015</td>\n",
              "      <td>1740.920044</td>\n",
              "      <td>1740.920044</td>\n",
              "      <td>1145300</td>\n",
              "    </tr>\n",
              "    <tr>\n",
              "      <th>2</th>\n",
              "      <td>2021-01-06</td>\n",
              "      <td>1702.630005</td>\n",
              "      <td>1748.000000</td>\n",
              "      <td>1699.000000</td>\n",
              "      <td>1735.290039</td>\n",
              "      <td>1735.290039</td>\n",
              "      <td>2602100</td>\n",
              "    </tr>\n",
              "    <tr>\n",
              "      <th>3</th>\n",
              "      <td>2021-01-07</td>\n",
              "      <td>1740.060059</td>\n",
              "      <td>1788.400024</td>\n",
              "      <td>1737.050049</td>\n",
              "      <td>1787.250000</td>\n",
              "      <td>1787.250000</td>\n",
              "      <td>2265000</td>\n",
              "    </tr>\n",
              "    <tr>\n",
              "      <th>4</th>\n",
              "      <td>2021-01-08</td>\n",
              "      <td>1787.979980</td>\n",
              "      <td>1809.839966</td>\n",
              "      <td>1773.535034</td>\n",
              "      <td>1807.209961</td>\n",
              "      <td>1807.209961</td>\n",
              "      <td>2050600</td>\n",
              "    </tr>\n",
              "    <tr>\n",
              "      <th>...</th>\n",
              "      <td>...</td>\n",
              "      <td>...</td>\n",
              "      <td>...</td>\n",
              "      <td>...</td>\n",
              "      <td>...</td>\n",
              "      <td>...</td>\n",
              "      <td>...</td>\n",
              "    </tr>\n",
              "    <tr>\n",
              "      <th>247</th>\n",
              "      <td>2021-12-27</td>\n",
              "      <td>2949.270020</td>\n",
              "      <td>2968.530029</td>\n",
              "      <td>2945.000000</td>\n",
              "      <td>2961.280029</td>\n",
              "      <td>2961.280029</td>\n",
              "      <td>662800</td>\n",
              "    </tr>\n",
              "    <tr>\n",
              "      <th>248</th>\n",
              "      <td>2021-12-28</td>\n",
              "      <td>2967.489990</td>\n",
              "      <td>2967.489990</td>\n",
              "      <td>2918.709961</td>\n",
              "      <td>2928.959961</td>\n",
              "      <td>2928.959961</td>\n",
              "      <td>931200</td>\n",
              "    </tr>\n",
              "    <tr>\n",
              "      <th>249</th>\n",
              "      <td>2021-12-29</td>\n",
              "      <td>2928.590088</td>\n",
              "      <td>2943.675049</td>\n",
              "      <td>2910.090088</td>\n",
              "      <td>2930.090088</td>\n",
              "      <td>2930.090088</td>\n",
              "      <td>851100</td>\n",
              "    </tr>\n",
              "    <tr>\n",
              "      <th>250</th>\n",
              "      <td>2021-12-30</td>\n",
              "      <td>2929.000000</td>\n",
              "      <td>2941.250000</td>\n",
              "      <td>2915.169922</td>\n",
              "      <td>2920.050049</td>\n",
              "      <td>2920.050049</td>\n",
              "      <td>648900</td>\n",
              "    </tr>\n",
              "    <tr>\n",
              "      <th>251</th>\n",
              "      <td>2021-12-31</td>\n",
              "      <td>2910.879883</td>\n",
              "      <td>2927.300049</td>\n",
              "      <td>2893.550049</td>\n",
              "      <td>2893.590088</td>\n",
              "      <td>2893.590088</td>\n",
              "      <td>864400</td>\n",
              "    </tr>\n",
              "  </tbody>\n",
              "</table>\n",
              "<p>252 rows × 7 columns</p>\n",
              "</div>\n",
              "      <button class=\"colab-df-convert\" onclick=\"convertToInteractive('df-ceac8913-b26a-49f4-bb47-8d16f1617049')\"\n",
              "              title=\"Convert this dataframe to an interactive table.\"\n",
              "              style=\"display:none;\">\n",
              "        \n",
              "  <svg xmlns=\"http://www.w3.org/2000/svg\" height=\"24px\"viewBox=\"0 0 24 24\"\n",
              "       width=\"24px\">\n",
              "    <path d=\"M0 0h24v24H0V0z\" fill=\"none\"/>\n",
              "    <path d=\"M18.56 5.44l.94 2.06.94-2.06 2.06-.94-2.06-.94-.94-2.06-.94 2.06-2.06.94zm-11 1L8.5 8.5l.94-2.06 2.06-.94-2.06-.94L8.5 2.5l-.94 2.06-2.06.94zm10 10l.94 2.06.94-2.06 2.06-.94-2.06-.94-.94-2.06-.94 2.06-2.06.94z\"/><path d=\"M17.41 7.96l-1.37-1.37c-.4-.4-.92-.59-1.43-.59-.52 0-1.04.2-1.43.59L10.3 9.45l-7.72 7.72c-.78.78-.78 2.05 0 2.83L4 21.41c.39.39.9.59 1.41.59.51 0 1.02-.2 1.41-.59l7.78-7.78 2.81-2.81c.8-.78.8-2.07 0-2.86zM5.41 20L4 18.59l7.72-7.72 1.47 1.35L5.41 20z\"/>\n",
              "  </svg>\n",
              "      </button>\n",
              "      \n",
              "  <style>\n",
              "    .colab-df-container {\n",
              "      display:flex;\n",
              "      flex-wrap:wrap;\n",
              "      gap: 12px;\n",
              "    }\n",
              "\n",
              "    .colab-df-convert {\n",
              "      background-color: #E8F0FE;\n",
              "      border: none;\n",
              "      border-radius: 50%;\n",
              "      cursor: pointer;\n",
              "      display: none;\n",
              "      fill: #1967D2;\n",
              "      height: 32px;\n",
              "      padding: 0 0 0 0;\n",
              "      width: 32px;\n",
              "    }\n",
              "\n",
              "    .colab-df-convert:hover {\n",
              "      background-color: #E2EBFA;\n",
              "      box-shadow: 0px 1px 2px rgba(60, 64, 67, 0.3), 0px 1px 3px 1px rgba(60, 64, 67, 0.15);\n",
              "      fill: #174EA6;\n",
              "    }\n",
              "\n",
              "    [theme=dark] .colab-df-convert {\n",
              "      background-color: #3B4455;\n",
              "      fill: #D2E3FC;\n",
              "    }\n",
              "\n",
              "    [theme=dark] .colab-df-convert:hover {\n",
              "      background-color: #434B5C;\n",
              "      box-shadow: 0px 1px 3px 1px rgba(0, 0, 0, 0.15);\n",
              "      filter: drop-shadow(0px 1px 2px rgba(0, 0, 0, 0.3));\n",
              "      fill: #FFFFFF;\n",
              "    }\n",
              "  </style>\n",
              "\n",
              "      <script>\n",
              "        const buttonEl =\n",
              "          document.querySelector('#df-ceac8913-b26a-49f4-bb47-8d16f1617049 button.colab-df-convert');\n",
              "        buttonEl.style.display =\n",
              "          google.colab.kernel.accessAllowed ? 'block' : 'none';\n",
              "\n",
              "        async function convertToInteractive(key) {\n",
              "          const element = document.querySelector('#df-ceac8913-b26a-49f4-bb47-8d16f1617049');\n",
              "          const dataTable =\n",
              "            await google.colab.kernel.invokeFunction('convertToInteractive',\n",
              "                                                     [key], {});\n",
              "          if (!dataTable) return;\n",
              "\n",
              "          const docLinkHtml = 'Like what you see? Visit the ' +\n",
              "            '<a target=\"_blank\" href=https://colab.research.google.com/notebooks/data_table.ipynb>data table notebook</a>'\n",
              "            + ' to learn more about interactive tables.';\n",
              "          element.innerHTML = '';\n",
              "          dataTable['output_type'] = 'display_data';\n",
              "          await google.colab.output.renderOutput(dataTable, element);\n",
              "          const docLink = document.createElement('div');\n",
              "          docLink.innerHTML = docLinkHtml;\n",
              "          element.appendChild(docLink);\n",
              "        }\n",
              "      </script>\n",
              "    </div>\n",
              "  </div>\n",
              "  "
            ],
            "text/plain": [
              "          Date         Open         High  ...        Close    Adj Close   Volume\n",
              "0   2021-01-04  1757.540039  1760.650024  ...  1728.239990  1728.239990  1901900\n",
              "1   2021-01-05  1725.000000  1747.670044  ...  1740.920044  1740.920044  1145300\n",
              "2   2021-01-06  1702.630005  1748.000000  ...  1735.290039  1735.290039  2602100\n",
              "3   2021-01-07  1740.060059  1788.400024  ...  1787.250000  1787.250000  2265000\n",
              "4   2021-01-08  1787.979980  1809.839966  ...  1807.209961  1807.209961  2050600\n",
              "..         ...          ...          ...  ...          ...          ...      ...\n",
              "247 2021-12-27  2949.270020  2968.530029  ...  2961.280029  2961.280029   662800\n",
              "248 2021-12-28  2967.489990  2967.489990  ...  2928.959961  2928.959961   931200\n",
              "249 2021-12-29  2928.590088  2943.675049  ...  2930.090088  2930.090088   851100\n",
              "250 2021-12-30  2929.000000  2941.250000  ...  2920.050049  2920.050049   648900\n",
              "251 2021-12-31  2910.879883  2927.300049  ...  2893.590088  2893.590088   864400\n",
              "\n",
              "[252 rows x 7 columns]"
            ]
          },
          "metadata": {},
          "execution_count": 5
        }
      ]
    },
    {
      "cell_type": "code",
      "source": [
        "# setting Date col as index for simplicity\n",
        "df = df[['Date', 'Close']]\n",
        "df_idx = df.set_index('Date')\n",
        "df_idx.head()"
      ],
      "metadata": {
        "colab": {
          "base_uri": "https://localhost:8080/",
          "height": 237
        },
        "id": "VwZboqxKF4l6",
        "outputId": "b506770b-fa4b-4eca-83a9-6f7192892ba6"
      },
      "execution_count": null,
      "outputs": [
        {
          "output_type": "execute_result",
          "data": {
            "text/html": [
              "\n",
              "  <div id=\"df-4e95ab0f-6ebc-402c-9d0d-22596f940868\">\n",
              "    <div class=\"colab-df-container\">\n",
              "      <div>\n",
              "<style scoped>\n",
              "    .dataframe tbody tr th:only-of-type {\n",
              "        vertical-align: middle;\n",
              "    }\n",
              "\n",
              "    .dataframe tbody tr th {\n",
              "        vertical-align: top;\n",
              "    }\n",
              "\n",
              "    .dataframe thead th {\n",
              "        text-align: right;\n",
              "    }\n",
              "</style>\n",
              "<table border=\"1\" class=\"dataframe\">\n",
              "  <thead>\n",
              "    <tr style=\"text-align: right;\">\n",
              "      <th></th>\n",
              "      <th>Close</th>\n",
              "    </tr>\n",
              "    <tr>\n",
              "      <th>Date</th>\n",
              "      <th></th>\n",
              "    </tr>\n",
              "  </thead>\n",
              "  <tbody>\n",
              "    <tr>\n",
              "      <th>2021-01-04</th>\n",
              "      <td>1728.239990</td>\n",
              "    </tr>\n",
              "    <tr>\n",
              "      <th>2021-01-05</th>\n",
              "      <td>1740.920044</td>\n",
              "    </tr>\n",
              "    <tr>\n",
              "      <th>2021-01-06</th>\n",
              "      <td>1735.290039</td>\n",
              "    </tr>\n",
              "    <tr>\n",
              "      <th>2021-01-07</th>\n",
              "      <td>1787.250000</td>\n",
              "    </tr>\n",
              "    <tr>\n",
              "      <th>2021-01-08</th>\n",
              "      <td>1807.209961</td>\n",
              "    </tr>\n",
              "  </tbody>\n",
              "</table>\n",
              "</div>\n",
              "      <button class=\"colab-df-convert\" onclick=\"convertToInteractive('df-4e95ab0f-6ebc-402c-9d0d-22596f940868')\"\n",
              "              title=\"Convert this dataframe to an interactive table.\"\n",
              "              style=\"display:none;\">\n",
              "        \n",
              "  <svg xmlns=\"http://www.w3.org/2000/svg\" height=\"24px\"viewBox=\"0 0 24 24\"\n",
              "       width=\"24px\">\n",
              "    <path d=\"M0 0h24v24H0V0z\" fill=\"none\"/>\n",
              "    <path d=\"M18.56 5.44l.94 2.06.94-2.06 2.06-.94-2.06-.94-.94-2.06-.94 2.06-2.06.94zm-11 1L8.5 8.5l.94-2.06 2.06-.94-2.06-.94L8.5 2.5l-.94 2.06-2.06.94zm10 10l.94 2.06.94-2.06 2.06-.94-2.06-.94-.94-2.06-.94 2.06-2.06.94z\"/><path d=\"M17.41 7.96l-1.37-1.37c-.4-.4-.92-.59-1.43-.59-.52 0-1.04.2-1.43.59L10.3 9.45l-7.72 7.72c-.78.78-.78 2.05 0 2.83L4 21.41c.39.39.9.59 1.41.59.51 0 1.02-.2 1.41-.59l7.78-7.78 2.81-2.81c.8-.78.8-2.07 0-2.86zM5.41 20L4 18.59l7.72-7.72 1.47 1.35L5.41 20z\"/>\n",
              "  </svg>\n",
              "      </button>\n",
              "      \n",
              "  <style>\n",
              "    .colab-df-container {\n",
              "      display:flex;\n",
              "      flex-wrap:wrap;\n",
              "      gap: 12px;\n",
              "    }\n",
              "\n",
              "    .colab-df-convert {\n",
              "      background-color: #E8F0FE;\n",
              "      border: none;\n",
              "      border-radius: 50%;\n",
              "      cursor: pointer;\n",
              "      display: none;\n",
              "      fill: #1967D2;\n",
              "      height: 32px;\n",
              "      padding: 0 0 0 0;\n",
              "      width: 32px;\n",
              "    }\n",
              "\n",
              "    .colab-df-convert:hover {\n",
              "      background-color: #E2EBFA;\n",
              "      box-shadow: 0px 1px 2px rgba(60, 64, 67, 0.3), 0px 1px 3px 1px rgba(60, 64, 67, 0.15);\n",
              "      fill: #174EA6;\n",
              "    }\n",
              "\n",
              "    [theme=dark] .colab-df-convert {\n",
              "      background-color: #3B4455;\n",
              "      fill: #D2E3FC;\n",
              "    }\n",
              "\n",
              "    [theme=dark] .colab-df-convert:hover {\n",
              "      background-color: #434B5C;\n",
              "      box-shadow: 0px 1px 3px 1px rgba(0, 0, 0, 0.15);\n",
              "      filter: drop-shadow(0px 1px 2px rgba(0, 0, 0, 0.3));\n",
              "      fill: #FFFFFF;\n",
              "    }\n",
              "  </style>\n",
              "\n",
              "      <script>\n",
              "        const buttonEl =\n",
              "          document.querySelector('#df-4e95ab0f-6ebc-402c-9d0d-22596f940868 button.colab-df-convert');\n",
              "        buttonEl.style.display =\n",
              "          google.colab.kernel.accessAllowed ? 'block' : 'none';\n",
              "\n",
              "        async function convertToInteractive(key) {\n",
              "          const element = document.querySelector('#df-4e95ab0f-6ebc-402c-9d0d-22596f940868');\n",
              "          const dataTable =\n",
              "            await google.colab.kernel.invokeFunction('convertToInteractive',\n",
              "                                                     [key], {});\n",
              "          if (!dataTable) return;\n",
              "\n",
              "          const docLinkHtml = 'Like what you see? Visit the ' +\n",
              "            '<a target=\"_blank\" href=https://colab.research.google.com/notebooks/data_table.ipynb>data table notebook</a>'\n",
              "            + ' to learn more about interactive tables.';\n",
              "          element.innerHTML = '';\n",
              "          dataTable['output_type'] = 'display_data';\n",
              "          await google.colab.output.renderOutput(dataTable, element);\n",
              "          const docLink = document.createElement('div');\n",
              "          docLink.innerHTML = docLinkHtml;\n",
              "          element.appendChild(docLink);\n",
              "        }\n",
              "      </script>\n",
              "    </div>\n",
              "  </div>\n",
              "  "
            ],
            "text/plain": [
              "                  Close\n",
              "Date                   \n",
              "2021-01-04  1728.239990\n",
              "2021-01-05  1740.920044\n",
              "2021-01-06  1735.290039\n",
              "2021-01-07  1787.250000\n",
              "2021-01-08  1807.209961"
            ]
          },
          "metadata": {},
          "execution_count": 6
        }
      ]
    },
    {
      "cell_type": "code",
      "source": [
        "# checking for missing values\n",
        "df_idx.isnull().sum()"
      ],
      "metadata": {
        "colab": {
          "base_uri": "https://localhost:8080/"
        },
        "id": "FQbMS36DGO-C",
        "outputId": "890abafb-901a-417e-8369-40e11acfd264"
      },
      "execution_count": null,
      "outputs": [
        {
          "output_type": "execute_result",
          "data": {
            "text/plain": [
              "Close    0\n",
              "dtype: int64"
            ]
          },
          "metadata": {},
          "execution_count": 7
        }
      ]
    },
    {
      "cell_type": "code",
      "source": [
        "# plotting our dataset\n",
        "_ = plt.plot(df_idx)\n",
        "_ = plt.title('Google Stock Price - 2021')\n",
        "_ = plt.xlabel('Date')\n",
        "_ = plt.ylabel('Stock Price - USD')\n",
        "plt.show()"
      ],
      "metadata": {
        "colab": {
          "base_uri": "https://localhost:8080/",
          "height": 301
        },
        "id": "ZNkSVuDwGUfL",
        "outputId": "729487bd-a34a-4cff-f1b9-325ea25a60d4"
      },
      "execution_count": null,
      "outputs": [
        {
          "output_type": "display_data",
          "data": {
            "image/png": "[encoded data removed]",
            "text/plain": [
              "<Figure size 432x288 with 1 Axes>"
            ]
          },
          "metadata": {
            "needs_background": "light"
          }
        }
      ]
    },
    {
      "cell_type": "markdown",
      "source": [
        "From the graph above we can see the clear trend of Google stock price to grow up since the beginning of the year. It is also the first reason that our data is most likely not stationary."
      ],
      "metadata": {
        "id": "TTVOVJ40kspk"
      }
    },
    {
      "cell_type": "code",
      "source": [
        "# let's calculate moving averages by using rolling() function\n",
        "df_idx['MA3'] = df_idx['Close'].rolling(window=3).mean()\n",
        "df_idx['MA6'] = df_idx['Close'].rolling(window=6).mean()\n",
        "df_idx['MA12'] = df_idx['Close'].rolling(window=12).mean()\n",
        "\n",
        "df_idx.head()"
      ],
      "metadata": {
        "colab": {
          "base_uri": "https://localhost:8080/",
          "height": 237
        },
        "id": "YU0DCDfPGrmr",
        "outputId": "9a917bab-dfcb-444d-844c-828906628ba4"
      },
      "execution_count": null,
      "outputs": [
        {
          "output_type": "execute_result",
          "data": {
            "text/html": [
              "\n",
              "  <div id=\"df-d97cec8a-c1dc-4f3e-988a-8382a793eff6\">\n",
              "    <div class=\"colab-df-container\">\n",
              "      <div>\n",
              "<style scoped>\n",
              "    .dataframe tbody tr th:only-of-type {\n",
              "        vertical-align: middle;\n",
              "    }\n",
              "\n",
              "    .dataframe tbody tr th {\n",
              "        vertical-align: top;\n",
              "    }\n",
              "\n",
              "    .dataframe thead th {\n",
              "        text-align: right;\n",
              "    }\n",
              "</style>\n",
              "<table border=\"1\" class=\"dataframe\">\n",
              "  <thead>\n",
              "    <tr style=\"text-align: right;\">\n",
              "      <th></th>\n",
              "      <th>Close</th>\n",
              "      <th>MA3</th>\n",
              "      <th>MA6</th>\n",
              "      <th>MA12</th>\n",
              "    </tr>\n",
              "    <tr>\n",
              "      <th>Date</th>\n",
              "      <th></th>\n",
              "      <th></th>\n",
              "      <th></th>\n",
              "      <th></th>\n",
              "    </tr>\n",
              "  </thead>\n",
              "  <tbody>\n",
              "    <tr>\n",
              "      <th>2021-01-04</th>\n",
              "      <td>1728.239990</td>\n",
              "      <td>NaN</td>\n",
              "      <td>NaN</td>\n",
              "      <td>NaN</td>\n",
              "    </tr>\n",
              "    <tr>\n",
              "      <th>2021-01-05</th>\n",
              "      <td>1740.920044</td>\n",
              "      <td>NaN</td>\n",
              "      <td>NaN</td>\n",
              "      <td>NaN</td>\n",
              "    </tr>\n",
              "    <tr>\n",
              "      <th>2021-01-06</th>\n",
              "      <td>1735.290039</td>\n",
              "      <td>1734.816691</td>\n",
              "      <td>NaN</td>\n",
              "      <td>NaN</td>\n",
              "    </tr>\n",
              "    <tr>\n",
              "      <th>2021-01-07</th>\n",
              "      <td>1787.250000</td>\n",
              "      <td>1754.486694</td>\n",
              "      <td>NaN</td>\n",
              "      <td>NaN</td>\n",
              "    </tr>\n",
              "    <tr>\n",
              "      <th>2021-01-08</th>\n",
              "      <td>1807.209961</td>\n",
              "      <td>1776.583333</td>\n",
              "      <td>NaN</td>\n",
              "      <td>NaN</td>\n",
              "    </tr>\n",
              "  </tbody>\n",
              "</table>\n",
              "</div>\n",
              "      <button class=\"colab-df-convert\" onclick=\"convertToInteractive('df-d97cec8a-c1dc-4f3e-988a-8382a793eff6')\"\n",
              "              title=\"Convert this dataframe to an interactive table.\"\n",
              "              style=\"display:none;\">\n",
              "        \n",
              "  <svg xmlns=\"http://www.w3.org/2000/svg\" height=\"24px\"viewBox=\"0 0 24 24\"\n",
              "       width=\"24px\">\n",
              "    <path d=\"M0 0h24v24H0V0z\" fill=\"none\"/>\n",
              "    <path d=\"M18.56 5.44l.94 2.06.94-2.06 2.06-.94-2.06-.94-.94-2.06-.94 2.06-2.06.94zm-11 1L8.5 8.5l.94-2.06 2.06-.94-2.06-.94L8.5 2.5l-.94 2.06-2.06.94zm10 10l.94 2.06.94-2.06 2.06-.94-2.06-.94-.94-2.06-.94 2.06-2.06.94z\"/><path d=\"M17.41 7.96l-1.37-1.37c-.4-.4-.92-.59-1.43-.59-.52 0-1.04.2-1.43.59L10.3 9.45l-7.72 7.72c-.78.78-.78 2.05 0 2.83L4 21.41c.39.39.9.59 1.41.59.51 0 1.02-.2 1.41-.59l7.78-7.78 2.81-2.81c.8-.78.8-2.07 0-2.86zM5.41 20L4 18.59l7.72-7.72 1.47 1.35L5.41 20z\"/>\n",
              "  </svg>\n",
              "      </button>\n",
              "      \n",
              "  <style>\n",
              "    .colab-df-container {\n",
              "      display:flex;\n",
              "      flex-wrap:wrap;\n",
              "      gap: 12px;\n",
              "    }\n",
              "\n",
              "    .colab-df-convert {\n",
              "      background-color: #E8F0FE;\n",
              "      border: none;\n",
              "      border-radius: 50%;\n",
              "      cursor: pointer;\n",
              "      display: none;\n",
              "      fill: #1967D2;\n",
              "      height: 32px;\n",
              "      padding: 0 0 0 0;\n",
              "      width: 32px;\n",
              "    }\n",
              "\n",
              "    .colab-df-convert:hover {\n",
              "      background-color: #E2EBFA;\n",
              "      box-shadow: 0px 1px 2px rgba(60, 64, 67, 0.3), 0px 1px 3px 1px rgba(60, 64, 67, 0.15);\n",
              "      fill: #174EA6;\n",
              "    }\n",
              "\n",
              "    [theme=dark] .colab-df-convert {\n",
              "      background-color: #3B4455;\n",
              "      fill: #D2E3FC;\n",
              "    }\n",
              "\n",
              "    [theme=dark] .colab-df-convert:hover {\n",
              "      background-color: #434B5C;\n",
              "      box-shadow: 0px 1px 3px 1px rgba(0, 0, 0, 0.15);\n",
              "      filter: drop-shadow(0px 1px 2px rgba(0, 0, 0, 0.3));\n",
              "      fill: #FFFFFF;\n",
              "    }\n",
              "  </style>\n",
              "\n",
              "      <script>\n",
              "        const buttonEl =\n",
              "          document.querySelector('#df-d97cec8a-c1dc-4f3e-988a-8382a793eff6 button.colab-df-convert');\n",
              "        buttonEl.style.display =\n",
              "          google.colab.kernel.accessAllowed ? 'block' : 'none';\n",
              "\n",
              "        async function convertToInteractive(key) {\n",
              "          const element = document.querySelector('#df-d97cec8a-c1dc-4f3e-988a-8382a793eff6');\n",
              "          const dataTable =\n",
              "            await google.colab.kernel.invokeFunction('convertToInteractive',\n",
              "                                                     [key], {});\n",
              "          if (!dataTable) return;\n",
              "\n",
              "          const docLinkHtml = 'Like what you see? Visit the ' +\n",
              "            '<a target=\"_blank\" href=https://colab.research.google.com/notebooks/data_table.ipynb>data table notebook</a>'\n",
              "            + ' to learn more about interactive tables.';\n",
              "          element.innerHTML = '';\n",
              "          dataTable['output_type'] = 'display_data';\n",
              "          await google.colab.output.renderOutput(dataTable, element);\n",
              "          const docLink = document.createElement('div');\n",
              "          docLink.innerHTML = docLinkHtml;\n",
              "          element.appendChild(docLink);\n",
              "        }\n",
              "      </script>\n",
              "    </div>\n",
              "  </div>\n",
              "  "
            ],
            "text/plain": [
              "                  Close          MA3  MA6  MA12\n",
              "Date                                           \n",
              "2021-01-04  1728.239990          NaN  NaN   NaN\n",
              "2021-01-05  1740.920044          NaN  NaN   NaN\n",
              "2021-01-06  1735.290039  1734.816691  NaN   NaN\n",
              "2021-01-07  1787.250000  1754.486694  NaN   NaN\n",
              "2021-01-08  1807.209961  1776.583333  NaN   NaN"
            ]
          },
          "metadata": {},
          "execution_count": 9
        }
      ]
    },
    {
      "cell_type": "code",
      "source": [
        "# plotting the results\n",
        "_ = plt.plot(df_idx['Close'], label='Original', color='black')\n",
        "_ = plt.plot(df_idx['MA3'], label='MA3', color='green')\n",
        "_ = plt.plot(df_idx['MA6'], label='MA6', color='red')\n",
        "_ = plt.plot(df_idx['MA12'], label='MA12', color='yellow')\n",
        "_ = plt.title('Google Stock Price 2021 - Moving Average')\n",
        "_ = plt.xlabel('Date')\n",
        "_ = plt.ylabel('Stock Price - USD')\n",
        "_ = plt.legend(loc='best')\n",
        "plt.show()"
      ],
      "metadata": {
        "colab": {
          "base_uri": "https://localhost:8080/",
          "height": 301
        },
        "id": "kmvTAHxUJC4-",
        "outputId": "102ab412-f0f3-4820-e8ba-0b64c3791c96"
      },
      "execution_count": null,
      "outputs": [
        {
          "output_type": "display_data",
          "data": {
            "image/png": "[encoded data removed]",
            "text/plain": [
              "<Figure size 432x288 with 1 Axes>"
            ]
          },
          "metadata": {
            "needs_background": "light"
          }
        }
      ]
    },
    {
      "cell_type": "markdown",
      "source": [
        "Looking at this graph we can ma a few points: moving average time series simply always lag from the original one; picking to small window sliding size will capture irrelevant noise where too big one will skip important moments; also mentioning by averaging we are losing the option to capture information of our picks/downs from original data; the final point is similar weights are assigned to all data points that will cause the confusion of important data for the future prediction."
      ],
      "metadata": {
        "id": "Xugd9RlvKsBX"
      }
    },
    {
      "cell_type": "code",
      "source": [
        "# so, it's time to build our MA model by using ARMA that is build from two\n",
        "# like AR (autoregression model) and MA (moving average model). But, here\n",
        "# we will ignore AR on focus on MA only.\n",
        "# We start with splitting our data into training and testing parts\n",
        "df_idx = df_idx['Close']\n",
        "df_train = df_idx.iloc[ : len(df_idx) - 14]\n",
        "df_test = df_idx.iloc[-14 : ]\n",
        "\n",
        "df_train.shape, df_test.shape"
      ],
      "metadata": {
        "id": "AO4hpvtbKN9w",
        "colab": {
          "base_uri": "https://localhost:8080/"
        },
        "outputId": "3e5d037c-0053-42d5-81ca-642b3f506ba9"
      },
      "execution_count": null,
      "outputs": [
        {
          "output_type": "execute_result",
          "data": {
            "text/plain": [
              "((238,), (14,))"
            ]
          },
          "metadata": {},
          "execution_count": 11
        }
      ]
    },
    {
      "cell_type": "code",
      "source": [
        "# training the model\n",
        "model_1 = ARMA(df_train, order=(0,1))\n",
        "model_1_results = model_1.fit()\n",
        "model_1_results"
      ],
      "metadata": {
        "colab": {
          "base_uri": "https://localhost:8080/"
        },
        "id": "8MxnOQyzm-gE",
        "outputId": "7448d1e9-d8d0-4920-aa99-a575f0866b87"
      },
      "execution_count": null,
      "outputs": [
        {
          "output_type": "stream",
          "name": "stderr",
          "text": [
            "/usr/local/lib/python3.7/dist-packages/statsmodels/tsa/base/tsa_model.py:219: ValueWarning: A date index has been provided, but it has no associated frequency information and so will be ignored when e.g. forecasting.\n",
            "  ' ignored when e.g. forecasting.', ValueWarning)\n"
          ]
        },
        {
          "output_type": "execute_result",
          "data": {
            "text/plain": [
              "<statsmodels.tsa.arima_model.ARMAResultsWrapper at 0x7f840c283a50>"
            ]
          },
          "metadata": {},
          "execution_count": 12
        }
      ]
    },
    {
      "cell_type": "code",
      "source": [
        "# forecasting for the last two weeks of 2021\n",
        "model_1_pred = model_1_results.forecast(steps=14)\n",
        "model_1_pred[0]"
      ],
      "metadata": {
        "colab": {
          "base_uri": "https://localhost:8080/"
        },
        "id": "r_WBngohnwWV",
        "outputId": "290b31a9-e067-48f6-b07e-d60a9a5ed07b"
      },
      "execution_count": null,
      "outputs": [
        {
          "output_type": "execute_result",
          "data": {
            "text/plain": [
              "array([2689.29310136, 2486.09645168, 2486.09645168, 2486.09645168,\n",
              "       2486.09645168, 2486.09645168, 2486.09645168, 2486.09645168,\n",
              "       2486.09645168, 2486.09645168, 2486.09645168, 2486.09645168,\n",
              "       2486.09645168, 2486.09645168])"
            ]
          },
          "metadata": {},
          "execution_count": 13
        }
      ]
    },
    {
      "cell_type": "code",
      "source": [
        "# converting into DF for simplicity and plotting to see the results\n",
        "df_pred_1 = pd.DataFrame({\n",
        "    'Date' : df_test.index,\n",
        "    'Prediction': model_1_pred[0]\n",
        "})\n",
        "\n",
        "df_pred_1.head(2)"
      ],
      "metadata": {
        "colab": {
          "base_uri": "https://localhost:8080/",
          "height": 112
        },
        "id": "iomLqCTTo2Cx",
        "outputId": "07173283-7ce4-4d69-b3e4-fed24a28f646"
      },
      "execution_count": null,
      "outputs": [
        {
          "output_type": "execute_result",
          "data": {
            "text/html": [
              "\n",
              "  <div id=\"df-d06e139d-6918-4637-8452-3ef3ff19ead1\">\n",
              "    <div class=\"colab-df-container\">\n",
              "      <div>\n",
              "<style scoped>\n",
              "    .dataframe tbody tr th:only-of-type {\n",
              "        vertical-align: middle;\n",
              "    }\n",
              "\n",
              "    .dataframe tbody tr th {\n",
              "        vertical-align: top;\n",
              "    }\n",
              "\n",
              "    .dataframe thead th {\n",
              "        text-align: right;\n",
              "    }\n",
              "</style>\n",
              "<table border=\"1\" class=\"dataframe\">\n",
              "  <thead>\n",
              "    <tr style=\"text-align: right;\">\n",
              "      <th></th>\n",
              "      <th>Date</th>\n",
              "      <th>Prediction</th>\n",
              "    </tr>\n",
              "  </thead>\n",
              "  <tbody>\n",
              "    <tr>\n",
              "      <th>0</th>\n",
              "      <td>2021-12-13</td>\n",
              "      <td>2689.293101</td>\n",
              "    </tr>\n",
              "    <tr>\n",
              "      <th>1</th>\n",
              "      <td>2021-12-14</td>\n",
              "      <td>2486.096452</td>\n",
              "    </tr>\n",
              "  </tbody>\n",
              "</table>\n",
              "</div>\n",
              "      <button class=\"colab-df-convert\" onclick=\"convertToInteractive('df-d06e139d-6918-4637-8452-3ef3ff19ead1')\"\n",
              "              title=\"Convert this dataframe to an interactive table.\"\n",
              "              style=\"display:none;\">\n",
              "        \n",
              "  <svg xmlns=\"http://www.w3.org/2000/svg\" height=\"24px\"viewBox=\"0 0 24 24\"\n",
              "       width=\"24px\">\n",
              "    <path d=\"M0 0h24v24H0V0z\" fill=\"none\"/>\n",
              "    <path d=\"M18.56 5.44l.94 2.06.94-2.06 2.06-.94-2.06-.94-.94-2.06-.94 2.06-2.06.94zm-11 1L8.5 8.5l.94-2.06 2.06-.94-2.06-.94L8.5 2.5l-.94 2.06-2.06.94zm10 10l.94 2.06.94-2.06 2.06-.94-2.06-.94-.94-2.06-.94 2.06-2.06.94z\"/><path d=\"M17.41 7.96l-1.37-1.37c-.4-.4-.92-.59-1.43-.59-.52 0-1.04.2-1.43.59L10.3 9.45l-7.72 7.72c-.78.78-.78 2.05 0 2.83L4 21.41c.39.39.9.59 1.41.59.51 0 1.02-.2 1.41-.59l7.78-7.78 2.81-2.81c.8-.78.8-2.07 0-2.86zM5.41 20L4 18.59l7.72-7.72 1.47 1.35L5.41 20z\"/>\n",
              "  </svg>\n",
              "      </button>\n",
              "      \n",
              "  <style>\n",
              "    .colab-df-container {\n",
              "      display:flex;\n",
              "      flex-wrap:wrap;\n",
              "      gap: 12px;\n",
              "    }\n",
              "\n",
              "    .colab-df-convert {\n",
              "      background-color: #E8F0FE;\n",
              "      border: none;\n",
              "      border-radius: 50%;\n",
              "      cursor: pointer;\n",
              "      display: none;\n",
              "      fill: #1967D2;\n",
              "      height: 32px;\n",
              "      padding: 0 0 0 0;\n",
              "      width: 32px;\n",
              "    }\n",
              "\n",
              "    .colab-df-convert:hover {\n",
              "      background-color: #E2EBFA;\n",
              "      box-shadow: 0px 1px 2px rgba(60, 64, 67, 0.3), 0px 1px 3px 1px rgba(60, 64, 67, 0.15);\n",
              "      fill: #174EA6;\n",
              "    }\n",
              "\n",
              "    [theme=dark] .colab-df-convert {\n",
              "      background-color: #3B4455;\n",
              "      fill: #D2E3FC;\n",
              "    }\n",
              "\n",
              "    [theme=dark] .colab-df-convert:hover {\n",
              "      background-color: #434B5C;\n",
              "      box-shadow: 0px 1px 3px 1px rgba(0, 0, 0, 0.15);\n",
              "      filter: drop-shadow(0px 1px 2px rgba(0, 0, 0, 0.3));\n",
              "      fill: #FFFFFF;\n",
              "    }\n",
              "  </style>\n",
              "\n",
              "      <script>\n",
              "        const buttonEl =\n",
              "          document.querySelector('#df-d06e139d-6918-4637-8452-3ef3ff19ead1 button.colab-df-convert');\n",
              "        buttonEl.style.display =\n",
              "          google.colab.kernel.accessAllowed ? 'block' : 'none';\n",
              "\n",
              "        async function convertToInteractive(key) {\n",
              "          const element = document.querySelector('#df-d06e139d-6918-4637-8452-3ef3ff19ead1');\n",
              "          const dataTable =\n",
              "            await google.colab.kernel.invokeFunction('convertToInteractive',\n",
              "                                                     [key], {});\n",
              "          if (!dataTable) return;\n",
              "\n",
              "          const docLinkHtml = 'Like what you see? Visit the ' +\n",
              "            '<a target=\"_blank\" href=https://colab.research.google.com/notebooks/data_table.ipynb>data table notebook</a>'\n",
              "            + ' to learn more about interactive tables.';\n",
              "          element.innerHTML = '';\n",
              "          dataTable['output_type'] = 'display_data';\n",
              "          await google.colab.output.renderOutput(dataTable, element);\n",
              "          const docLink = document.createElement('div');\n",
              "          docLink.innerHTML = docLinkHtml;\n",
              "          element.appendChild(docLink);\n",
              "        }\n",
              "      </script>\n",
              "    </div>\n",
              "  </div>\n",
              "  "
            ],
            "text/plain": [
              "        Date   Prediction\n",
              "0 2021-12-13  2689.293101\n",
              "1 2021-12-14  2486.096452"
            ]
          },
          "metadata": {},
          "execution_count": 14
        }
      ]
    },
    {
      "cell_type": "code",
      "source": [
        "_ = plt.plot(df_train, color='black', label='Train_data')\n",
        "_ = plt.plot(df_test, color='blue', label='Test_data')\n",
        "_ = plt.plot(df_pred_1.set_index('Date'), color='red',\n",
        "             label='Prediction_data')\n",
        "_ = plt.title('Google Stock prediction (last two weeks of 2021) using MA(1)')\n",
        "_ = plt.legend(loc='best')\n",
        "_ = plt.xlabel('Date')\n",
        "_ = plt.ylabel('Stock Price - USD')\n",
        "_ = plt.xticks(rotation=60)\n",
        "plt.show()"
      ],
      "metadata": {
        "colab": {
          "base_uri": "https://localhost:8080/",
          "height": 335
        },
        "id": "tS-9P_G_p6r3",
        "outputId": "5d3cc5e1-33a1-44ba-b0df-7f3887454219"
      },
      "execution_count": null,
      "outputs": [
        {
          "output_type": "display_data",
          "data": {
            "image/png": "[encoded data removed]",
            "text/plain": [
              "<Figure size 432x288 with 1 Axes>"
            ]
          },
          "metadata": {
            "needs_background": "light"
          }
        }
      ]
    },
    {
      "cell_type": "markdown",
      "source": [
        "From the graphs above we can see that our prediction is not great by using MA(1) on not probably stationary dataset. So, standing alone MA(1) is probably not a good choice for this kind of job."
      ],
      "metadata": {
        "id": "irtYjAE3rPvA"
      }
    },
    {
      "cell_type": "code",
      "source": [
        "# let's see metrics\n",
        "def get_metrics(df_test, df_pred_1):\n",
        "  mse_result = mean_squared_error(df_test, df_pred_1.set_index('Date'))\n",
        "  print(f\"MSE: {mse_result}\")\n",
        "  mae = mean_absolute_error(df_test, df_pred_1.set_index('Date'))\n",
        "  print(f\"MAE: {mae}\")\n",
        "  rmse = np.sqrt(mean_squared_error(df_test, df_pred_1.set_index('Date')))\n",
        "  print(f\"RMSE: {mae}\")\n",
        "\n",
        "  return None"
      ],
      "metadata": {
        "id": "DDZKREDFqa38"
      },
      "execution_count": null,
      "outputs": []
    },
    {
      "cell_type": "code",
      "source": [
        "get_metrics(df_test, df_pred_1)"
      ],
      "metadata": {
        "colab": {
          "base_uri": "https://localhost:8080/"
        },
        "id": "T_Otqf5NsMcA",
        "outputId": "11a431ad-cc80-4fc5-940c-863aa2c32ac4"
      },
      "execution_count": null,
      "outputs": [
        {
          "output_type": "stream",
          "name": "stdout",
          "text": [
            "MSE: 173275.31386259428\n",
            "MAE: 412.38524691725223\n",
            "RMSE: 412.38524691725223\n"
          ]
        }
      ]
    },
    {
      "cell_type": "markdown",
      "source": [
        "Probably, we are getting this bad results because our data is not stationary. Let's confirm that our data is not stationary and if so, we will try to make it (by differencing: removing trend) as is supposed to be in the first place  (stationary)."
      ],
      "metadata": {
        "id": "EgZvJuCZtXLT"
      }
    },
    {
      "cell_type": "code",
      "source": [
        "# to check if our data is stationary we will be using Augmented Dickey-Fuller\n",
        "# unit root test, where the null hypothesis says that our data is not \n",
        "# stationary\n",
        "adfuller_results = adfuller(df_train)\n",
        "\n",
        "print(f\"The test statistic: {adfuller_results[0]}\")\n",
        "print(f\"P-value: {adfuller_results[1]}\")\n",
        "if adfuller_results[1] > 0.05:\n",
        "  print(\"We FAIL to reject the null hypothesis that our data is not\\\n",
        "   stationary.\")\n",
        "else:\n",
        "  print(\"We REJECT the null hypothesis that our data is not stationary.\")"
      ],
      "metadata": {
        "colab": {
          "base_uri": "https://localhost:8080/"
        },
        "id": "go9An1vdtPN8",
        "outputId": "a456ccb6-a51a-46ea-f18e-94ad7c649dbf"
      },
      "execution_count": null,
      "outputs": [
        {
          "output_type": "stream",
          "name": "stdout",
          "text": [
            "The test statistic: -1.7827591381606938\n",
            "P-value: 0.3890542708191263\n",
            "We FAIL to reject the null hypothesis that our data is not   stationary.\n"
          ]
        }
      ]
    },
    {
      "cell_type": "markdown",
      "source": [
        "So, the Augmented Dickey-Fuller test confirms that our data is not stationary. Let's try to remove trend (by applying differencing method) to make our data stationary."
      ],
      "metadata": {
        "id": "5HPAxtLhvpBO"
      }
    },
    {
      "cell_type": "code",
      "source": [
        "# https://pandas.pydata.org/docs/reference/api/pandas.DataFrame.diff.html\n",
        "df_idx_diff = df_idx.diff(periods=1)\n",
        "df_idx_diff"
      ],
      "metadata": {
        "colab": {
          "base_uri": "https://localhost:8080/"
        },
        "id": "Jw4FtHPYuQGy",
        "outputId": "b52573e7-9c53-4860-8d81-ad6e2590fa88"
      },
      "execution_count": null,
      "outputs": [
        {
          "output_type": "execute_result",
          "data": {
            "text/plain": [
              "Date\n",
              "2021-01-04          NaN\n",
              "2021-01-05    12.680054\n",
              "2021-01-06    -5.630005\n",
              "2021-01-07    51.959961\n",
              "2021-01-08    19.959961\n",
              "                ...    \n",
              "2021-12-27    18.429931\n",
              "2021-12-28   -32.320068\n",
              "2021-12-29     1.130127\n",
              "2021-12-30   -10.040039\n",
              "2021-12-31   -26.459961\n",
              "Name: Close, Length: 252, dtype: float64"
            ]
          },
          "metadata": {},
          "execution_count": 19
        }
      ]
    },
    {
      "cell_type": "code",
      "source": [
        "# dropping NaNs\n",
        "df_idx_diff = df_idx_diff.dropna()\n",
        "df_idx_diff.isnull().sum()"
      ],
      "metadata": {
        "colab": {
          "base_uri": "https://localhost:8080/"
        },
        "id": "NoYHufSBwW4K",
        "outputId": "bd96110c-95de-431e-999f-ae2e9d088047"
      },
      "execution_count": null,
      "outputs": [
        {
          "output_type": "execute_result",
          "data": {
            "text/plain": [
              "0"
            ]
          },
          "metadata": {},
          "execution_count": 20
        }
      ]
    },
    {
      "cell_type": "code",
      "source": [
        "# graphing results\n",
        "_ = plt.plot(df_idx_diff)\n",
        "_ = plt.title(\"Google stock price (applied differencing method to remove\\\n",
        " trend)\")\n",
        "plt.show()"
      ],
      "metadata": {
        "colab": {
          "base_uri": "https://localhost:8080/",
          "height": 284
        },
        "id": "8eyAwYRFyniQ",
        "outputId": "2e3eec46-2725-490e-f345-28e8c6388b64"
      },
      "execution_count": null,
      "outputs": [
        {
          "output_type": "display_data",
          "data": {
            "image/png": "[encoded data removed]",
            "text/plain": [
              "<Figure size 432x288 with 1 Axes>"
            ]
          },
          "metadata": {
            "needs_background": "light"
          }
        }
      ]
    },
    {
      "cell_type": "code",
      "source": [
        "# checking for stationarity\n",
        "adfuller_results = adfuller(df_idx_diff)\n",
        "\n",
        "print(f\"The test statistic: {adfuller_results[0]}\")\n",
        "print(f\"P-value: {adfuller_results[1]}\")\n",
        "if adfuller_results[1] > 0.05:\n",
        "  print(\"We FAIL to reject the null hypothesis that our data is not\\\n",
        "   stationary.\")\n",
        "else:\n",
        "  print(\"We REJECT the null hypothesis that our data is not stationary.\")"
      ],
      "metadata": {
        "colab": {
          "base_uri": "https://localhost:8080/"
        },
        "id": "2tj-e4SsyVJV",
        "outputId": "d03e8e75-9fac-4877-a0c4-b7fc50987bc7"
      },
      "execution_count": null,
      "outputs": [
        {
          "output_type": "stream",
          "name": "stdout",
          "text": [
            "The test statistic: -9.063684518319148\n",
            "P-value: 4.49195194915277e-15\n",
            "We REJECT the null hypothesis that our data is not stationary.\n"
          ]
        }
      ]
    },
    {
      "cell_type": "markdown",
      "source": [
        "From the test above we can see that removing trend from our dataset we are making our data stationary. Not, let's try applying MA(1) on stationary data."
      ],
      "metadata": {
        "id": "nejVJidMyiM-"
      }
    },
    {
      "cell_type": "code",
      "source": [
        "# splitting our data into training testing parts\n",
        "df_train = df_idx_diff.iloc[ : len(df_idx) - 14]\n",
        "df_test = df_idx_diff.iloc[-14 : ]\n",
        "\n",
        "df_train.shape, df_test.shape"
      ],
      "metadata": {
        "colab": {
          "base_uri": "https://localhost:8080/"
        },
        "id": "yyRAh-9Cyg29",
        "outputId": "15709e76-9860-45f8-b37f-53924d132b4e"
      },
      "execution_count": null,
      "outputs": [
        {
          "output_type": "execute_result",
          "data": {
            "text/plain": [
              "((238,), (14,))"
            ]
          },
          "metadata": {},
          "execution_count": 23
        }
      ]
    },
    {
      "cell_type": "code",
      "source": [
        "# training the model\n",
        "model_2 = ARMA(df_train, order=(0,1))\n",
        "model_2_results = model_2.fit()\n",
        "model_2_results"
      ],
      "metadata": {
        "colab": {
          "base_uri": "https://localhost:8080/"
        },
        "id": "6bBPY6GnzcAf",
        "outputId": "fa12e097-3c5b-4531-f127-5df9c0008121"
      },
      "execution_count": null,
      "outputs": [
        {
          "output_type": "stream",
          "name": "stderr",
          "text": [
            "/usr/local/lib/python3.7/dist-packages/statsmodels/tsa/base/tsa_model.py:219: ValueWarning: A date index has been provided, but it has no associated frequency information and so will be ignored when e.g. forecasting.\n",
            "  ' ignored when e.g. forecasting.', ValueWarning)\n"
          ]
        },
        {
          "output_type": "execute_result",
          "data": {
            "text/plain": [
              "<statsmodels.tsa.arima_model.ARMAResultsWrapper at 0x7f8401be8990>"
            ]
          },
          "metadata": {},
          "execution_count": 24
        }
      ]
    },
    {
      "cell_type": "code",
      "source": [
        "# forecasting for the last two weeks of 2021\n",
        "model_2_pred = model_2_results.forecast(steps=14)\n",
        "model_2_pred[0]"
      ],
      "metadata": {
        "colab": {
          "base_uri": "https://localhost:8080/"
        },
        "id": "pIuwCu3kzU6_",
        "outputId": "010efeeb-8a87-40cf-f3dc-d55e106b3267"
      },
      "execution_count": null,
      "outputs": [
        {
          "output_type": "execute_result",
          "data": {
            "text/plain": [
              "array([6.43337921, 5.07149265, 5.07149265, 5.07149265, 5.07149265,\n",
              "       5.07149265, 5.07149265, 5.07149265, 5.07149265, 5.07149265,\n",
              "       5.07149265, 5.07149265, 5.07149265, 5.07149265])"
            ]
          },
          "metadata": {},
          "execution_count": 25
        }
      ]
    },
    {
      "cell_type": "code",
      "source": [
        "# converting into DF for simplicity and plotting to see the results\n",
        "df_pred_2 = pd.DataFrame({\n",
        "    'Date' : df_test.index,\n",
        "    'Prediction': model_2_pred[0]\n",
        "})\n",
        "\n",
        "df_pred_2.head(2)"
      ],
      "metadata": {
        "colab": {
          "base_uri": "https://localhost:8080/",
          "height": 112
        },
        "id": "7VrYylcPzqLm",
        "outputId": "c6f0da28-e742-46d6-ee2a-b421ea460138"
      },
      "execution_count": null,
      "outputs": [
        {
          "output_type": "execute_result",
          "data": {
            "text/html": [
              "\n",
              "  <div id=\"df-4832a7a9-79ad-4d8a-b072-d8a654f85f1a\">\n",
              "    <div class=\"colab-df-container\">\n",
              "      <div>\n",
              "<style scoped>\n",
              "    .dataframe tbody tr th:only-of-type {\n",
              "        vertical-align: middle;\n",
              "    }\n",
              "\n",
              "    .dataframe tbody tr th {\n",
              "        vertical-align: top;\n",
              "    }\n",
              "\n",
              "    .dataframe thead th {\n",
              "        text-align: right;\n",
              "    }\n",
              "</style>\n",
              "<table border=\"1\" class=\"dataframe\">\n",
              "  <thead>\n",
              "    <tr style=\"text-align: right;\">\n",
              "      <th></th>\n",
              "      <th>Date</th>\n",
              "      <th>Prediction</th>\n",
              "    </tr>\n",
              "  </thead>\n",
              "  <tbody>\n",
              "    <tr>\n",
              "      <th>0</th>\n",
              "      <td>2021-12-13</td>\n",
              "      <td>6.433379</td>\n",
              "    </tr>\n",
              "    <tr>\n",
              "      <th>1</th>\n",
              "      <td>2021-12-14</td>\n",
              "      <td>5.071493</td>\n",
              "    </tr>\n",
              "  </tbody>\n",
              "</table>\n",
              "</div>\n",
              "      <button class=\"colab-df-convert\" onclick=\"convertToInteractive('df-4832a7a9-79ad-4d8a-b072-d8a654f85f1a')\"\n",
              "              title=\"Convert this dataframe to an interactive table.\"\n",
              "              style=\"display:none;\">\n",
              "        \n",
              "  <svg xmlns=\"http://www.w3.org/2000/svg\" height=\"24px\"viewBox=\"0 0 24 24\"\n",
              "       width=\"24px\">\n",
              "    <path d=\"M0 0h24v24H0V0z\" fill=\"none\"/>\n",
              "    <path d=\"M18.56 5.44l.94 2.06.94-2.06 2.06-.94-2.06-.94-.94-2.06-.94 2.06-2.06.94zm-11 1L8.5 8.5l.94-2.06 2.06-.94-2.06-.94L8.5 2.5l-.94 2.06-2.06.94zm10 10l.94 2.06.94-2.06 2.06-.94-2.06-.94-.94-2.06-.94 2.06-2.06.94z\"/><path d=\"M17.41 7.96l-1.37-1.37c-.4-.4-.92-.59-1.43-.59-.52 0-1.04.2-1.43.59L10.3 9.45l-7.72 7.72c-.78.78-.78 2.05 0 2.83L4 21.41c.39.39.9.59 1.41.59.51 0 1.02-.2 1.41-.59l7.78-7.78 2.81-2.81c.8-.78.8-2.07 0-2.86zM5.41 20L4 18.59l7.72-7.72 1.47 1.35L5.41 20z\"/>\n",
              "  </svg>\n",
              "      </button>\n",
              "      \n",
              "  <style>\n",
              "    .colab-df-container {\n",
              "      display:flex;\n",
              "      flex-wrap:wrap;\n",
              "      gap: 12px;\n",
              "    }\n",
              "\n",
              "    .colab-df-convert {\n",
              "      background-color: #E8F0FE;\n",
              "      border: none;\n",
              "      border-radius: 50%;\n",
              "      cursor: pointer;\n",
              "      display: none;\n",
              "      fill: #1967D2;\n",
              "      height: 32px;\n",
              "      padding: 0 0 0 0;\n",
              "      width: 32px;\n",
              "    }\n",
              "\n",
              "    .colab-df-convert:hover {\n",
              "      background-color: #E2EBFA;\n",
              "      box-shadow: 0px 1px 2px rgba(60, 64, 67, 0.3), 0px 1px 3px 1px rgba(60, 64, 67, 0.15);\n",
              "      fill: #174EA6;\n",
              "    }\n",
              "\n",
              "    [theme=dark] .colab-df-convert {\n",
              "      background-color: #3B4455;\n",
              "      fill: #D2E3FC;\n",
              "    }\n",
              "\n",
              "    [theme=dark] .colab-df-convert:hover {\n",
              "      background-color: #434B5C;\n",
              "      box-shadow: 0px 1px 3px 1px rgba(0, 0, 0, 0.15);\n",
              "      filter: drop-shadow(0px 1px 2px rgba(0, 0, 0, 0.3));\n",
              "      fill: #FFFFFF;\n",
              "    }\n",
              "  </style>\n",
              "\n",
              "      <script>\n",
              "        const buttonEl =\n",
              "          document.querySelector('#df-4832a7a9-79ad-4d8a-b072-d8a654f85f1a button.colab-df-convert');\n",
              "        buttonEl.style.display =\n",
              "          google.colab.kernel.accessAllowed ? 'block' : 'none';\n",
              "\n",
              "        async function convertToInteractive(key) {\n",
              "          const element = document.querySelector('#df-4832a7a9-79ad-4d8a-b072-d8a654f85f1a');\n",
              "          const dataTable =\n",
              "            await google.colab.kernel.invokeFunction('convertToInteractive',\n",
              "                                                     [key], {});\n",
              "          if (!dataTable) return;\n",
              "\n",
              "          const docLinkHtml = 'Like what you see? Visit the ' +\n",
              "            '<a target=\"_blank\" href=https://colab.research.google.com/notebooks/data_table.ipynb>data table notebook</a>'\n",
              "            + ' to learn more about interactive tables.';\n",
              "          element.innerHTML = '';\n",
              "          dataTable['output_type'] = 'display_data';\n",
              "          await google.colab.output.renderOutput(dataTable, element);\n",
              "          const docLink = document.createElement('div');\n",
              "          docLink.innerHTML = docLinkHtml;\n",
              "          element.appendChild(docLink);\n",
              "        }\n",
              "      </script>\n",
              "    </div>\n",
              "  </div>\n",
              "  "
            ],
            "text/plain": [
              "        Date  Prediction\n",
              "0 2021-12-13    6.433379\n",
              "1 2021-12-14    5.071493"
            ]
          },
          "metadata": {},
          "execution_count": 26
        }
      ]
    },
    {
      "cell_type": "code",
      "source": [
        "_ = plt.plot(df_train, color='black', label='Train_data')\n",
        "_ = plt.plot(df_test, color='blue', label='Test_data')\n",
        "_ = plt.plot(df_pred_2.set_index('Date'), color='red',\n",
        "             label='Prediction_data')\n",
        "_ = plt.title('Google Stock prediction (last two weeks of 2021) using MA(1)\\\n",
        " on stationary dataset')\n",
        "_ = plt.legend(loc='best')\n",
        "_ = plt.xlabel('Date')\n",
        "_ = plt.ylabel('Stock Price - USD')\n",
        "_ = plt.xticks(rotation=60)\n",
        "plt.show()"
      ],
      "metadata": {
        "colab": {
          "base_uri": "https://localhost:8080/",
          "height": 335
        },
        "id": "FRzm8iOYzzBW",
        "outputId": "117b4bda-afe4-40a0-94c5-4cb83168fb60"
      },
      "execution_count": null,
      "outputs": [
        {
          "output_type": "display_data",
          "data": {
            "image/png": "[encoded data removed]",
            "text/plain": [
              "<Figure size 432x288 with 1 Axes>"
            ]
          },
          "metadata": {
            "needs_background": "light"
          }
        }
      ]
    },
    {
      "cell_type": "code",
      "source": [
        "# let see metrics for stationary dataset\n",
        "get_metrics(df_test, df_pred_2)"
      ],
      "metadata": {
        "colab": {
          "base_uri": "https://localhost:8080/"
        },
        "id": "AonQ_FyOz4f8",
        "outputId": "86e306f4-bcf4-485f-ab19-7eb355d663b9"
      },
      "execution_count": null,
      "outputs": [
        {
          "output_type": "stream",
          "name": "stdout",
          "text": [
            "MSE: 1223.9022155488917\n",
            "MAE: 30.45578060397667\n",
            "RMSE: 30.45578060397667\n"
          ]
        }
      ]
    },
    {
      "cell_type": "markdown",
      "source": [
        "From the graphs above and metrics test, we could say that results are still not promising, but at least we could say they are more relevant to actual data. But still, using MA(1) on its own (even with a stationary dataset) will not give you something incredible, but only the idea that some models are more useful than others for specific tasks (like stock prediction)."
      ],
      "metadata": {
        "id": "nPmv8B0d0ewK"
      }
    }
  ]
}