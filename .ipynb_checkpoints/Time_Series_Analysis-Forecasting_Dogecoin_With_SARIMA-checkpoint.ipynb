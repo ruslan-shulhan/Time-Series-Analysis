{
 "cells": [
  {
   "cell_type": "markdown",
   "metadata": {
    "id": "FkUnDvSC9iDj"
   },
   "source": [
    "### **Time Series Forecasting with (ARIMA, LSTM, Prophet)**"
   ]
  },
  {
   "cell_type": "code",
   "execution_count": 467,
   "metadata": {
    "executionInfo": {
     "elapsed": 13,
     "status": "ok",
     "timestamp": 1641091787998,
     "user": {
      "displayName": "Ruslan Shulhan",
      "photoUrl": "https://lh3.googleusercontent.com/a-/AOh14Gjwuxtlwg9WSlvNyShGXVeX_wkQ56fQFp5e25km=s64",
      "userId": "10991312474810858840"
     },
     "user_tz": 300
    },
    "id": "4rE7yt5U3t3V"
   },
   "outputs": [],
   "source": [
    "# data taken from:\n",
    "# https://finance.yahoo.com/quote/DOGE-USD/history/"
   ]
  },
  {
   "cell_type": "markdown",
   "metadata": {
    "id": "7xwRB90f3_D1"
   },
   "source": [
    "**Introduction**\n",
    "\n",
    "Dogecoin is an open source peer-to-peer digital currency, favored by Shiba Inus worldwide. It is qualitatively more fun while being technically nearly identical to its close relative Bitcoin. This dataset contains its historical stock price in USD on a daily frequency starting from 17 September 2014.\n",
    "\n",
    "For more information refer to https://dogecoin.com/"
   ]
  },
  {
   "cell_type": "markdown",
   "metadata": {
    "id": "3HaHAN4j7vkh"
   },
   "source": [
    "**Objective**\n",
    "\n",
    "Forecast the price of Dogecoin for January, 2022."
   ]
  },
  {
   "cell_type": "markdown",
   "metadata": {
    "id": "beIk21E64W0q"
   },
   "source": [
    "**Citation**\n",
    "\n",
    "Dhruvil Dave, “Dogecoin Historical Data.” Kaggle, 2021, doi: 10.34740/KAGGLE/DS/1179216."
   ]
  },
  {
   "cell_type": "code",
   "execution_count": 468,
   "metadata": {
    "colab": {
     "base_uri": "https://localhost:8080/",
     "height": 34
    },
    "executionInfo": {
     "elapsed": 13,
     "status": "ok",
     "timestamp": 1641091787999,
     "user": {
      "displayName": "Ruslan Shulhan",
      "photoUrl": "https://lh3.googleusercontent.com/a-/AOh14Gjwuxtlwg9WSlvNyShGXVeX_wkQ56fQFp5e25km=s64",
      "userId": "10991312474810858840"
     },
     "user_tz": 300
    },
    "id": "OSKX2STQ32vH",
    "outputId": "32de9bf2-e9ba-477d-c7fc-dafd47a12dd8"
   },
   "outputs": [
    {
     "data": {
      "text/plain": [
       "<Figure size 864x432 with 0 Axes>"
      ]
     },
     "metadata": {},
     "output_type": "display_data"
    }
   ],
   "source": [
    "# import libraries\n",
    "import warnings\n",
    "warnings.filterwarnings('ignore')\n",
    "\n",
    "import numpy as np\n",
    "import pandas as pd\n",
    "\n",
    "import matplotlib.pyplot as plt\n",
    "import seaborn as sns\n",
    "plt.figure(figsize = (12, 6))\n",
    "sns.set(rc={'figure.figsize':(11.7,7.27)})\n",
    "sns.set_style(\"darkgrid\", {\"grid.color\": \".6\", \"grid.linestyle\": \":\"})\n",
    "\n",
    "# stat tools\n",
    "from statsmodels.tsa.stattools import adfuller\n",
    "from statsmodels.tsa.seasonal import seasonal_decompose\n",
    "from statsmodels.tsa.stattools import acf, pacf\n",
    "from statsmodels.graphics.tsaplots import plot_acf, plot_pacf\n",
    "from statsmodels.tsa.arima_model import ARIMA\n",
    "from statsmodels.tsa.statespace.sarimax import SARIMAX\n",
    "from pmdarima import auto_arima\n",
    "\n",
    "# metrics\n",
    "from sklearn.metrics import mean_squared_error\n",
    "from statsmodels.tools.eval_measures import rmse\n",
    "\n",
    "from sklearn.preprocessing import MinMaxScaler\n",
    "\n",
    "#from keras_preprocessing.sequence import TimeseriesGenerator\n",
    "from tensorflow.keras.preprocessing.sequence import TimeseriesGenerator\n",
    "from keras.models import Sequential\n",
    "from keras.layers import Dense\n",
    "from keras.layers import LSTM"
   ]
  },
  {
   "cell_type": "code",
   "execution_count": 469,
   "metadata": {
    "colab": {
     "base_uri": "https://localhost:8080/",
     "height": 423
    },
    "executionInfo": {
     "elapsed": 13,
     "status": "ok",
     "timestamp": 1641091788000,
     "user": {
      "displayName": "Ruslan Shulhan",
      "photoUrl": "https://lh3.googleusercontent.com/a-/AOh14Gjwuxtlwg9WSlvNyShGXVeX_wkQ56fQFp5e25km=s64",
      "userId": "10991312474810858840"
     },
     "user_tz": 300
    },
    "id": "NFbw3l__4hv7",
    "outputId": "0f17389e-3910-435d-dbf6-d531072de0cb"
   },
   "outputs": [
    {
     "data": {
      "text/html": [
       "\n",
       "  <div id=\"df-77dd4c8d-59a8-4bd6-8104-dee1f90b8d86\">\n",
       "    <div class=\"colab-df-container\">\n",
       "      <div>\n",
       "<style scoped>\n",
       "    .dataframe tbody tr th:only-of-type {\n",
       "        vertical-align: middle;\n",
       "    }\n",
       "\n",
       "    .dataframe tbody tr th {\n",
       "        vertical-align: top;\n",
       "    }\n",
       "\n",
       "    .dataframe thead th {\n",
       "        text-align: right;\n",
       "    }\n",
       "</style>\n",
       "<table border=\"1\" class=\"dataframe\">\n",
       "  <thead>\n",
       "    <tr style=\"text-align: right;\">\n",
       "      <th></th>\n",
       "      <th>Date</th>\n",
       "      <th>Open</th>\n",
       "      <th>High</th>\n",
       "      <th>Low</th>\n",
       "      <th>Close</th>\n",
       "      <th>Adj Close</th>\n",
       "      <th>Volume</th>\n",
       "    </tr>\n",
       "  </thead>\n",
       "  <tbody>\n",
       "    <tr>\n",
       "      <th>0</th>\n",
       "      <td>2021-01-02</td>\n",
       "      <td>0.005686</td>\n",
       "      <td>0.013698</td>\n",
       "      <td>0.005584</td>\n",
       "      <td>0.010615</td>\n",
       "      <td>0.010615</td>\n",
       "      <td>3.421563e+09</td>\n",
       "    </tr>\n",
       "    <tr>\n",
       "      <th>1</th>\n",
       "      <td>2021-01-03</td>\n",
       "      <td>0.010602</td>\n",
       "      <td>0.013867</td>\n",
       "      <td>0.009409</td>\n",
       "      <td>0.009771</td>\n",
       "      <td>0.009771</td>\n",
       "      <td>2.707004e+09</td>\n",
       "    </tr>\n",
       "    <tr>\n",
       "      <th>2</th>\n",
       "      <td>2021-01-04</td>\n",
       "      <td>0.009785</td>\n",
       "      <td>0.011421</td>\n",
       "      <td>0.007878</td>\n",
       "      <td>0.009767</td>\n",
       "      <td>0.009767</td>\n",
       "      <td>1.372399e+09</td>\n",
       "    </tr>\n",
       "    <tr>\n",
       "      <th>3</th>\n",
       "      <td>2021-01-05</td>\n",
       "      <td>0.009767</td>\n",
       "      <td>0.010219</td>\n",
       "      <td>0.008972</td>\n",
       "      <td>0.009920</td>\n",
       "      <td>0.009920</td>\n",
       "      <td>6.872561e+08</td>\n",
       "    </tr>\n",
       "    <tr>\n",
       "      <th>4</th>\n",
       "      <td>2021-01-06</td>\n",
       "      <td>0.009923</td>\n",
       "      <td>0.010854</td>\n",
       "      <td>0.009685</td>\n",
       "      <td>0.010465</td>\n",
       "      <td>0.010465</td>\n",
       "      <td>7.499155e+08</td>\n",
       "    </tr>\n",
       "    <tr>\n",
       "      <th>...</th>\n",
       "      <td>...</td>\n",
       "      <td>...</td>\n",
       "      <td>...</td>\n",
       "      <td>...</td>\n",
       "      <td>...</td>\n",
       "      <td>...</td>\n",
       "      <td>...</td>\n",
       "    </tr>\n",
       "    <tr>\n",
       "      <th>361</th>\n",
       "      <td>2021-12-29</td>\n",
       "      <td>0.174095</td>\n",
       "      <td>0.177339</td>\n",
       "      <td>0.166760</td>\n",
       "      <td>0.167765</td>\n",
       "      <td>0.167765</td>\n",
       "      <td>8.236283e+08</td>\n",
       "    </tr>\n",
       "    <tr>\n",
       "      <th>362</th>\n",
       "      <td>2021-12-30</td>\n",
       "      <td>0.168137</td>\n",
       "      <td>0.175771</td>\n",
       "      <td>0.165381</td>\n",
       "      <td>0.171313</td>\n",
       "      <td>0.171313</td>\n",
       "      <td>5.992368e+08</td>\n",
       "    </tr>\n",
       "    <tr>\n",
       "      <th>363</th>\n",
       "      <td>2021-12-31</td>\n",
       "      <td>0.171317</td>\n",
       "      <td>0.175294</td>\n",
       "      <td>0.167307</td>\n",
       "      <td>0.170496</td>\n",
       "      <td>0.170496</td>\n",
       "      <td>6.444167e+08</td>\n",
       "    </tr>\n",
       "    <tr>\n",
       "      <th>364</th>\n",
       "      <td>2022-01-01</td>\n",
       "      <td>NaN</td>\n",
       "      <td>NaN</td>\n",
       "      <td>NaN</td>\n",
       "      <td>NaN</td>\n",
       "      <td>NaN</td>\n",
       "      <td>NaN</td>\n",
       "    </tr>\n",
       "    <tr>\n",
       "      <th>365</th>\n",
       "      <td>2022-01-02</td>\n",
       "      <td>0.173025</td>\n",
       "      <td>0.173139</td>\n",
       "      <td>0.172475</td>\n",
       "      <td>0.172649</td>\n",
       "      <td>0.172649</td>\n",
       "      <td>3.608727e+08</td>\n",
       "    </tr>\n",
       "  </tbody>\n",
       "</table>\n",
       "<p>366 rows × 7 columns</p>\n",
       "</div>\n",
       "      <button class=\"colab-df-convert\" onclick=\"convertToInteractive('df-77dd4c8d-59a8-4bd6-8104-dee1f90b8d86')\"\n",
       "              title=\"Convert this dataframe to an interactive table.\"\n",
       "              style=\"display:none;\">\n",
       "        \n",
       "  <svg xmlns=\"http://www.w3.org/2000/svg\" height=\"24px\"viewBox=\"0 0 24 24\"\n",
       "       width=\"24px\">\n",
       "    <path d=\"M0 0h24v24H0V0z\" fill=\"none\"/>\n",
       "    <path d=\"M18.56 5.44l.94 2.06.94-2.06 2.06-.94-2.06-.94-.94-2.06-.94 2.06-2.06.94zm-11 1L8.5 8.5l.94-2.06 2.06-.94-2.06-.94L8.5 2.5l-.94 2.06-2.06.94zm10 10l.94 2.06.94-2.06 2.06-.94-2.06-.94-.94-2.06-.94 2.06-2.06.94z\"/><path d=\"M17.41 7.96l-1.37-1.37c-.4-.4-.92-.59-1.43-.59-.52 0-1.04.2-1.43.59L10.3 9.45l-7.72 7.72c-.78.78-.78 2.05 0 2.83L4 21.41c.39.39.9.59 1.41.59.51 0 1.02-.2 1.41-.59l7.78-7.78 2.81-2.81c.8-.78.8-2.07 0-2.86zM5.41 20L4 18.59l7.72-7.72 1.47 1.35L5.41 20z\"/>\n",
       "  </svg>\n",
       "      </button>\n",
       "      \n",
       "  <style>\n",
       "    .colab-df-container {\n",
       "      display:flex;\n",
       "      flex-wrap:wrap;\n",
       "      gap: 12px;\n",
       "    }\n",
       "\n",
       "    .colab-df-convert {\n",
       "      background-color: #E8F0FE;\n",
       "      border: none;\n",
       "      border-radius: 50%;\n",
       "      cursor: pointer;\n",
       "      display: none;\n",
       "      fill: #1967D2;\n",
       "      height: 32px;\n",
       "      padding: 0 0 0 0;\n",
       "      width: 32px;\n",
       "    }\n",
       "\n",
       "    .colab-df-convert:hover {\n",
       "      background-color: #E2EBFA;\n",
       "      box-shadow: 0px 1px 2px rgba(60, 64, 67, 0.3), 0px 1px 3px 1px rgba(60, 64, 67, 0.15);\n",
       "      fill: #174EA6;\n",
       "    }\n",
       "\n",
       "    [theme=dark] .colab-df-convert {\n",
       "      background-color: #3B4455;\n",
       "      fill: #D2E3FC;\n",
       "    }\n",
       "\n",
       "    [theme=dark] .colab-df-convert:hover {\n",
       "      background-color: #434B5C;\n",
       "      box-shadow: 0px 1px 3px 1px rgba(0, 0, 0, 0.15);\n",
       "      filter: drop-shadow(0px 1px 2px rgba(0, 0, 0, 0.3));\n",
       "      fill: #FFFFFF;\n",
       "    }\n",
       "  </style>\n",
       "\n",
       "      <script>\n",
       "        const buttonEl =\n",
       "          document.querySelector('#df-77dd4c8d-59a8-4bd6-8104-dee1f90b8d86 button.colab-df-convert');\n",
       "        buttonEl.style.display =\n",
       "          google.colab.kernel.accessAllowed ? 'block' : 'none';\n",
       "\n",
       "        async function convertToInteractive(key) {\n",
       "          const element = document.querySelector('#df-77dd4c8d-59a8-4bd6-8104-dee1f90b8d86');\n",
       "          const dataTable =\n",
       "            await google.colab.kernel.invokeFunction('convertToInteractive',\n",
       "                                                     [key], {});\n",
       "          if (!dataTable) return;\n",
       "\n",
       "          const docLinkHtml = 'Like what you see? Visit the ' +\n",
       "            '<a target=\"_blank\" href=https://colab.research.google.com/notebooks/data_table.ipynb>data table notebook</a>'\n",
       "            + ' to learn more about interactive tables.';\n",
       "          element.innerHTML = '';\n",
       "          dataTable['output_type'] = 'display_data';\n",
       "          await google.colab.output.renderOutput(dataTable, element);\n",
       "          const docLink = document.createElement('div');\n",
       "          docLink.innerHTML = docLinkHtml;\n",
       "          element.appendChild(docLink);\n",
       "        }\n",
       "      </script>\n",
       "    </div>\n",
       "  </div>\n",
       "  "
      ],
      "text/plain": [
       "           Date      Open      High  ...     Close  Adj Close        Volume\n",
       "0    2021-01-02  0.005686  0.013698  ...  0.010615   0.010615  3.421563e+09\n",
       "1    2021-01-03  0.010602  0.013867  ...  0.009771   0.009771  2.707004e+09\n",
       "2    2021-01-04  0.009785  0.011421  ...  0.009767   0.009767  1.372399e+09\n",
       "3    2021-01-05  0.009767  0.010219  ...  0.009920   0.009920  6.872561e+08\n",
       "4    2021-01-06  0.009923  0.010854  ...  0.010465   0.010465  7.499155e+08\n",
       "..          ...       ...       ...  ...       ...        ...           ...\n",
       "361  2021-12-29  0.174095  0.177339  ...  0.167765   0.167765  8.236283e+08\n",
       "362  2021-12-30  0.168137  0.175771  ...  0.171313   0.171313  5.992368e+08\n",
       "363  2021-12-31  0.171317  0.175294  ...  0.170496   0.170496  6.444167e+08\n",
       "364  2022-01-01       NaN       NaN  ...       NaN        NaN           NaN\n",
       "365  2022-01-02  0.173025  0.173139  ...  0.172649   0.172649  3.608727e+08\n",
       "\n",
       "[366 rows x 7 columns]"
      ]
     },
     "execution_count": 469,
     "metadata": {},
     "output_type": "execute_result"
    }
   ],
   "source": [
    "# loading dataset\n",
    "path = \"/content/drive/MyDrive/Colab Notebooks/data/4/DOGE-USD.csv\"\n",
    "# path = \"/content/drive/MyDrive/Colab Notebooks/data/4/ETH-USD.csv\"\n",
    "data = pd.read_csv(path)\n",
    "data"
   ]
  },
  {
   "cell_type": "code",
   "execution_count": 470,
   "metadata": {
    "colab": {
     "base_uri": "https://localhost:8080/",
     "height": 206
    },
    "executionInfo": {
     "elapsed": 48,
     "status": "ok",
     "timestamp": 1641091788275,
     "user": {
      "displayName": "Ruslan Shulhan",
      "photoUrl": "https://lh3.googleusercontent.com/a-/AOh14Gjwuxtlwg9WSlvNyShGXVeX_wkQ56fQFp5e25km=s64",
      "userId": "10991312474810858840"
     },
     "user_tz": 300
    },
    "id": "o1PasT1-BHiG",
    "outputId": "efb1a673-2276-4a72-c545-fadf28f10f81"
   },
   "outputs": [
    {
     "data": {
      "text/html": [
       "\n",
       "  <div id=\"df-36f1e4b1-42b5-4943-b03d-e1ed2ecedc3a\">\n",
       "    <div class=\"colab-df-container\">\n",
       "      <div>\n",
       "<style scoped>\n",
       "    .dataframe tbody tr th:only-of-type {\n",
       "        vertical-align: middle;\n",
       "    }\n",
       "\n",
       "    .dataframe tbody tr th {\n",
       "        vertical-align: top;\n",
       "    }\n",
       "\n",
       "    .dataframe thead th {\n",
       "        text-align: right;\n",
       "    }\n",
       "</style>\n",
       "<table border=\"1\" class=\"dataframe\">\n",
       "  <thead>\n",
       "    <tr style=\"text-align: right;\">\n",
       "      <th></th>\n",
       "      <th>Date</th>\n",
       "      <th>Close</th>\n",
       "    </tr>\n",
       "  </thead>\n",
       "  <tbody>\n",
       "    <tr>\n",
       "      <th>0</th>\n",
       "      <td>2021-01-02</td>\n",
       "      <td>0.010615</td>\n",
       "    </tr>\n",
       "    <tr>\n",
       "      <th>1</th>\n",
       "      <td>2021-01-03</td>\n",
       "      <td>0.009771</td>\n",
       "    </tr>\n",
       "    <tr>\n",
       "      <th>2</th>\n",
       "      <td>2021-01-04</td>\n",
       "      <td>0.009767</td>\n",
       "    </tr>\n",
       "    <tr>\n",
       "      <th>3</th>\n",
       "      <td>2021-01-05</td>\n",
       "      <td>0.009920</td>\n",
       "    </tr>\n",
       "    <tr>\n",
       "      <th>4</th>\n",
       "      <td>2021-01-06</td>\n",
       "      <td>0.010465</td>\n",
       "    </tr>\n",
       "  </tbody>\n",
       "</table>\n",
       "</div>\n",
       "      <button class=\"colab-df-convert\" onclick=\"convertToInteractive('df-36f1e4b1-42b5-4943-b03d-e1ed2ecedc3a')\"\n",
       "              title=\"Convert this dataframe to an interactive table.\"\n",
       "              style=\"display:none;\">\n",
       "        \n",
       "  <svg xmlns=\"http://www.w3.org/2000/svg\" height=\"24px\"viewBox=\"0 0 24 24\"\n",
       "       width=\"24px\">\n",
       "    <path d=\"M0 0h24v24H0V0z\" fill=\"none\"/>\n",
       "    <path d=\"M18.56 5.44l.94 2.06.94-2.06 2.06-.94-2.06-.94-.94-2.06-.94 2.06-2.06.94zm-11 1L8.5 8.5l.94-2.06 2.06-.94-2.06-.94L8.5 2.5l-.94 2.06-2.06.94zm10 10l.94 2.06.94-2.06 2.06-.94-2.06-.94-.94-2.06-.94 2.06-2.06.94z\"/><path d=\"M17.41 7.96l-1.37-1.37c-.4-.4-.92-.59-1.43-.59-.52 0-1.04.2-1.43.59L10.3 9.45l-7.72 7.72c-.78.78-.78 2.05 0 2.83L4 21.41c.39.39.9.59 1.41.59.51 0 1.02-.2 1.41-.59l7.78-7.78 2.81-2.81c.8-.78.8-2.07 0-2.86zM5.41 20L4 18.59l7.72-7.72 1.47 1.35L5.41 20z\"/>\n",
       "  </svg>\n",
       "      </button>\n",
       "      \n",
       "  <style>\n",
       "    .colab-df-container {\n",
       "      display:flex;\n",
       "      flex-wrap:wrap;\n",
       "      gap: 12px;\n",
       "    }\n",
       "\n",
       "    .colab-df-convert {\n",
       "      background-color: #E8F0FE;\n",
       "      border: none;\n",
       "      border-radius: 50%;\n",
       "      cursor: pointer;\n",
       "      display: none;\n",
       "      fill: #1967D2;\n",
       "      height: 32px;\n",
       "      padding: 0 0 0 0;\n",
       "      width: 32px;\n",
       "    }\n",
       "\n",
       "    .colab-df-convert:hover {\n",
       "      background-color: #E2EBFA;\n",
       "      box-shadow: 0px 1px 2px rgba(60, 64, 67, 0.3), 0px 1px 3px 1px rgba(60, 64, 67, 0.15);\n",
       "      fill: #174EA6;\n",
       "    }\n",
       "\n",
       "    [theme=dark] .colab-df-convert {\n",
       "      background-color: #3B4455;\n",
       "      fill: #D2E3FC;\n",
       "    }\n",
       "\n",
       "    [theme=dark] .colab-df-convert:hover {\n",
       "      background-color: #434B5C;\n",
       "      box-shadow: 0px 1px 3px 1px rgba(0, 0, 0, 0.15);\n",
       "      filter: drop-shadow(0px 1px 2px rgba(0, 0, 0, 0.3));\n",
       "      fill: #FFFFFF;\n",
       "    }\n",
       "  </style>\n",
       "\n",
       "      <script>\n",
       "        const buttonEl =\n",
       "          document.querySelector('#df-36f1e4b1-42b5-4943-b03d-e1ed2ecedc3a button.colab-df-convert');\n",
       "        buttonEl.style.display =\n",
       "          google.colab.kernel.accessAllowed ? 'block' : 'none';\n",
       "\n",
       "        async function convertToInteractive(key) {\n",
       "          const element = document.querySelector('#df-36f1e4b1-42b5-4943-b03d-e1ed2ecedc3a');\n",
       "          const dataTable =\n",
       "            await google.colab.kernel.invokeFunction('convertToInteractive',\n",
       "                                                     [key], {});\n",
       "          if (!dataTable) return;\n",
       "\n",
       "          const docLinkHtml = 'Like what you see? Visit the ' +\n",
       "            '<a target=\"_blank\" href=https://colab.research.google.com/notebooks/data_table.ipynb>data table notebook</a>'\n",
       "            + ' to learn more about interactive tables.';\n",
       "          element.innerHTML = '';\n",
       "          dataTable['output_type'] = 'display_data';\n",
       "          await google.colab.output.renderOutput(dataTable, element);\n",
       "          const docLink = document.createElement('div');\n",
       "          docLink.innerHTML = docLinkHtml;\n",
       "          element.appendChild(docLink);\n",
       "        }\n",
       "      </script>\n",
       "    </div>\n",
       "  </div>\n",
       "  "
      ],
      "text/plain": [
       "         Date     Close\n",
       "0  2021-01-02  0.010615\n",
       "1  2021-01-03  0.009771\n",
       "2  2021-01-04  0.009767\n",
       "3  2021-01-05  0.009920\n",
       "4  2021-01-06  0.010465"
      ]
     },
     "execution_count": 470,
     "metadata": {},
     "output_type": "execute_result"
    }
   ],
   "source": [
    "# removing unrelated columns\n",
    "df = data[['Date', 'Close']]\n",
    "df.head()"
   ]
  },
  {
   "cell_type": "code",
   "execution_count": 471,
   "metadata": {
    "colab": {
     "base_uri": "https://localhost:8080/"
    },
    "executionInfo": {
     "elapsed": 46,
     "status": "ok",
     "timestamp": 1641091788276,
     "user": {
      "displayName": "Ruslan Shulhan",
      "photoUrl": "https://lh3.googleusercontent.com/a-/AOh14Gjwuxtlwg9WSlvNyShGXVeX_wkQ56fQFp5e25km=s64",
      "userId": "10991312474810858840"
     },
     "user_tz": 300
    },
    "id": "A5N-1DmsBnuN",
    "outputId": "acdd163d-2faa-4c45-804b-c6332157ccf8"
   },
   "outputs": [
    {
     "name": "stdout",
     "output_type": "stream",
     "text": [
      "<class 'pandas.core.frame.DataFrame'>\n",
      "RangeIndex: 366 entries, 0 to 365\n",
      "Data columns (total 2 columns):\n",
      " #   Column  Non-Null Count  Dtype  \n",
      "---  ------  --------------  -----  \n",
      " 0   Date    366 non-null    object \n",
      " 1   Close   365 non-null    float64\n",
      "dtypes: float64(1), object(1)\n",
      "memory usage: 5.8+ KB\n"
     ]
    }
   ],
   "source": [
    "# checking for datatypes\n",
    "df.info()"
   ]
  },
  {
   "cell_type": "code",
   "execution_count": 472,
   "metadata": {
    "colab": {
     "base_uri": "https://localhost:8080/"
    },
    "executionInfo": {
     "elapsed": 34,
     "status": "ok",
     "timestamp": 1641091788276,
     "user": {
      "displayName": "Ruslan Shulhan",
      "photoUrl": "https://lh3.googleusercontent.com/a-/AOh14Gjwuxtlwg9WSlvNyShGXVeX_wkQ56fQFp5e25km=s64",
      "userId": "10991312474810858840"
     },
     "user_tz": 300
    },
    "id": "q1XP2znVBo4w",
    "outputId": "19ca5769-342e-4ce9-9d30-0151eec71a39"
   },
   "outputs": [
    {
     "data": {
      "text/plain": [
       "Date     datetime64[ns]\n",
       "Close           float64\n",
       "dtype: object"
      ]
     },
     "execution_count": 472,
     "metadata": {},
     "output_type": "execute_result"
    }
   ],
   "source": [
    "# converting 'Date' column into 'datetime' type\n",
    "df['Date'] = pd.to_datetime(df['Date'], errors='coerce')\n",
    "df.dtypes"
   ]
  },
  {
   "cell_type": "code",
   "execution_count": 473,
   "metadata": {
    "colab": {
     "base_uri": "https://localhost:8080/"
    },
    "executionInfo": {
     "elapsed": 31,
     "status": "ok",
     "timestamp": 1641091788277,
     "user": {
      "displayName": "Ruslan Shulhan",
      "photoUrl": "https://lh3.googleusercontent.com/a-/AOh14Gjwuxtlwg9WSlvNyShGXVeX_wkQ56fQFp5e25km=s64",
      "userId": "10991312474810858840"
     },
     "user_tz": 300
    },
    "id": "sMTj-2toB9vC",
    "outputId": "5d505eb7-e2bf-48f3-d4b1-2e2656eb21db"
   },
   "outputs": [
    {
     "data": {
      "text/plain": [
       "Date     0\n",
       "Close    1\n",
       "dtype: int64"
      ]
     },
     "execution_count": 473,
     "metadata": {},
     "output_type": "execute_result"
    }
   ],
   "source": [
    "# checking for missing values\n",
    "df.isnull().sum()"
   ]
  },
  {
   "cell_type": "code",
   "execution_count": 474,
   "metadata": {
    "colab": {
     "base_uri": "https://localhost:8080/",
     "height": 80
    },
    "executionInfo": {
     "elapsed": 28,
     "status": "ok",
     "timestamp": 1641091788277,
     "user": {
      "displayName": "Ruslan Shulhan",
      "photoUrl": "https://lh3.googleusercontent.com/a-/AOh14Gjwuxtlwg9WSlvNyShGXVeX_wkQ56fQFp5e25km=s64",
      "userId": "10991312474810858840"
     },
     "user_tz": 300
    },
    "id": "5ISxoVU6B-GL",
    "outputId": "5673fa3a-840b-4bd4-8f14-7ccbe202b7b1"
   },
   "outputs": [
    {
     "data": {
      "text/html": [
       "\n",
       "  <div id=\"df-d01a25fa-54d7-41bf-92eb-493b2e6e8e0a\">\n",
       "    <div class=\"colab-df-container\">\n",
       "      <div>\n",
       "<style scoped>\n",
       "    .dataframe tbody tr th:only-of-type {\n",
       "        vertical-align: middle;\n",
       "    }\n",
       "\n",
       "    .dataframe tbody tr th {\n",
       "        vertical-align: top;\n",
       "    }\n",
       "\n",
       "    .dataframe thead th {\n",
       "        text-align: right;\n",
       "    }\n",
       "</style>\n",
       "<table border=\"1\" class=\"dataframe\">\n",
       "  <thead>\n",
       "    <tr style=\"text-align: right;\">\n",
       "      <th></th>\n",
       "      <th>Date</th>\n",
       "      <th>Close</th>\n",
       "    </tr>\n",
       "  </thead>\n",
       "  <tbody>\n",
       "    <tr>\n",
       "      <th>364</th>\n",
       "      <td>2022-01-01</td>\n",
       "      <td>NaN</td>\n",
       "    </tr>\n",
       "  </tbody>\n",
       "</table>\n",
       "</div>\n",
       "      <button class=\"colab-df-convert\" onclick=\"convertToInteractive('df-d01a25fa-54d7-41bf-92eb-493b2e6e8e0a')\"\n",
       "              title=\"Convert this dataframe to an interactive table.\"\n",
       "              style=\"display:none;\">\n",
       "        \n",
       "  <svg xmlns=\"http://www.w3.org/2000/svg\" height=\"24px\"viewBox=\"0 0 24 24\"\n",
       "       width=\"24px\">\n",
       "    <path d=\"M0 0h24v24H0V0z\" fill=\"none\"/>\n",
       "    <path d=\"M18.56 5.44l.94 2.06.94-2.06 2.06-.94-2.06-.94-.94-2.06-.94 2.06-2.06.94zm-11 1L8.5 8.5l.94-2.06 2.06-.94-2.06-.94L8.5 2.5l-.94 2.06-2.06.94zm10 10l.94 2.06.94-2.06 2.06-.94-2.06-.94-.94-2.06-.94 2.06-2.06.94z\"/><path d=\"M17.41 7.96l-1.37-1.37c-.4-.4-.92-.59-1.43-.59-.52 0-1.04.2-1.43.59L10.3 9.45l-7.72 7.72c-.78.78-.78 2.05 0 2.83L4 21.41c.39.39.9.59 1.41.59.51 0 1.02-.2 1.41-.59l7.78-7.78 2.81-2.81c.8-.78.8-2.07 0-2.86zM5.41 20L4 18.59l7.72-7.72 1.47 1.35L5.41 20z\"/>\n",
       "  </svg>\n",
       "      </button>\n",
       "      \n",
       "  <style>\n",
       "    .colab-df-container {\n",
       "      display:flex;\n",
       "      flex-wrap:wrap;\n",
       "      gap: 12px;\n",
       "    }\n",
       "\n",
       "    .colab-df-convert {\n",
       "      background-color: #E8F0FE;\n",
       "      border: none;\n",
       "      border-radius: 50%;\n",
       "      cursor: pointer;\n",
       "      display: none;\n",
       "      fill: #1967D2;\n",
       "      height: 32px;\n",
       "      padding: 0 0 0 0;\n",
       "      width: 32px;\n",
       "    }\n",
       "\n",
       "    .colab-df-convert:hover {\n",
       "      background-color: #E2EBFA;\n",
       "      box-shadow: 0px 1px 2px rgba(60, 64, 67, 0.3), 0px 1px 3px 1px rgba(60, 64, 67, 0.15);\n",
       "      fill: #174EA6;\n",
       "    }\n",
       "\n",
       "    [theme=dark] .colab-df-convert {\n",
       "      background-color: #3B4455;\n",
       "      fill: #D2E3FC;\n",
       "    }\n",
       "\n",
       "    [theme=dark] .colab-df-convert:hover {\n",
       "      background-color: #434B5C;\n",
       "      box-shadow: 0px 1px 3px 1px rgba(0, 0, 0, 0.15);\n",
       "      filter: drop-shadow(0px 1px 2px rgba(0, 0, 0, 0.3));\n",
       "      fill: #FFFFFF;\n",
       "    }\n",
       "  </style>\n",
       "\n",
       "      <script>\n",
       "        const buttonEl =\n",
       "          document.querySelector('#df-d01a25fa-54d7-41bf-92eb-493b2e6e8e0a button.colab-df-convert');\n",
       "        buttonEl.style.display =\n",
       "          google.colab.kernel.accessAllowed ? 'block' : 'none';\n",
       "\n",
       "        async function convertToInteractive(key) {\n",
       "          const element = document.querySelector('#df-d01a25fa-54d7-41bf-92eb-493b2e6e8e0a');\n",
       "          const dataTable =\n",
       "            await google.colab.kernel.invokeFunction('convertToInteractive',\n",
       "                                                     [key], {});\n",
       "          if (!dataTable) return;\n",
       "\n",
       "          const docLinkHtml = 'Like what you see? Visit the ' +\n",
       "            '<a target=\"_blank\" href=https://colab.research.google.com/notebooks/data_table.ipynb>data table notebook</a>'\n",
       "            + ' to learn more about interactive tables.';\n",
       "          element.innerHTML = '';\n",
       "          dataTable['output_type'] = 'display_data';\n",
       "          await google.colab.output.renderOutput(dataTable, element);\n",
       "          const docLink = document.createElement('div');\n",
       "          docLink.innerHTML = docLinkHtml;\n",
       "          element.appendChild(docLink);\n",
       "        }\n",
       "      </script>\n",
       "    </div>\n",
       "  </div>\n",
       "  "
      ],
      "text/plain": [
       "          Date  Close\n",
       "364 2022-01-01    NaN"
      ]
     },
     "execution_count": 474,
     "metadata": {},
     "output_type": "execute_result"
    }
   ],
   "source": [
    "mask_1 = df['Close'].isnull()\n",
    "df[mask_1]"
   ]
  },
  {
   "cell_type": "code",
   "execution_count": 475,
   "metadata": {
    "colab": {
     "base_uri": "https://localhost:8080/"
    },
    "executionInfo": {
     "elapsed": 25,
     "status": "ok",
     "timestamp": 1641091788277,
     "user": {
      "displayName": "Ruslan Shulhan",
      "photoUrl": "https://lh3.googleusercontent.com/a-/AOh14Gjwuxtlwg9WSlvNyShGXVeX_wkQ56fQFp5e25km=s64",
      "userId": "10991312474810858840"
     },
     "user_tz": 300
    },
    "id": "-G-XJthgB-YM",
    "outputId": "586b9f58-0cc1-4e77-8aa2-ad0e641be620"
   },
   "outputs": [
    {
     "data": {
      "text/plain": [
       "Date     0\n",
       "Close    0\n",
       "dtype: int64"
      ]
     },
     "execution_count": 475,
     "metadata": {},
     "output_type": "execute_result"
    }
   ],
   "source": [
    "# filling missing values using: 'ffill' method\n",
    "df['Close'] = df['Close'].fillna(method='ffill')\n",
    "df.isnull().sum()"
   ]
  },
  {
   "cell_type": "code",
   "execution_count": 476,
   "metadata": {
    "colab": {
     "base_uri": "https://localhost:8080/",
     "height": 423
    },
    "executionInfo": {
     "elapsed": 20,
     "status": "ok",
     "timestamp": 1641091788278,
     "user": {
      "displayName": "Ruslan Shulhan",
      "photoUrl": "https://lh3.googleusercontent.com/a-/AOh14Gjwuxtlwg9WSlvNyShGXVeX_wkQ56fQFp5e25km=s64",
      "userId": "10991312474810858840"
     },
     "user_tz": 300
    },
    "id": "fJbCoQGZM_w5",
    "outputId": "ce0a8a6e-b93a-4f20-a2b0-bf16ac3d4325"
   },
   "outputs": [
    {
     "data": {
      "text/html": [
       "\n",
       "  <div id=\"df-f2620925-6e46-428c-b38b-e71b480c51f5\">\n",
       "    <div class=\"colab-df-container\">\n",
       "      <div>\n",
       "<style scoped>\n",
       "    .dataframe tbody tr th:only-of-type {\n",
       "        vertical-align: middle;\n",
       "    }\n",
       "\n",
       "    .dataframe tbody tr th {\n",
       "        vertical-align: top;\n",
       "    }\n",
       "\n",
       "    .dataframe thead th {\n",
       "        text-align: right;\n",
       "    }\n",
       "</style>\n",
       "<table border=\"1\" class=\"dataframe\">\n",
       "  <thead>\n",
       "    <tr style=\"text-align: right;\">\n",
       "      <th></th>\n",
       "      <th>Date</th>\n",
       "      <th>Close</th>\n",
       "    </tr>\n",
       "  </thead>\n",
       "  <tbody>\n",
       "    <tr>\n",
       "      <th>0</th>\n",
       "      <td>2021-01-02</td>\n",
       "      <td>0.010615</td>\n",
       "    </tr>\n",
       "    <tr>\n",
       "      <th>1</th>\n",
       "      <td>2021-01-03</td>\n",
       "      <td>0.009771</td>\n",
       "    </tr>\n",
       "    <tr>\n",
       "      <th>2</th>\n",
       "      <td>2021-01-04</td>\n",
       "      <td>0.009767</td>\n",
       "    </tr>\n",
       "    <tr>\n",
       "      <th>3</th>\n",
       "      <td>2021-01-05</td>\n",
       "      <td>0.009920</td>\n",
       "    </tr>\n",
       "    <tr>\n",
       "      <th>4</th>\n",
       "      <td>2021-01-06</td>\n",
       "      <td>0.010465</td>\n",
       "    </tr>\n",
       "    <tr>\n",
       "      <th>...</th>\n",
       "      <td>...</td>\n",
       "      <td>...</td>\n",
       "    </tr>\n",
       "    <tr>\n",
       "      <th>359</th>\n",
       "      <td>2021-12-27</td>\n",
       "      <td>0.187705</td>\n",
       "    </tr>\n",
       "    <tr>\n",
       "      <th>360</th>\n",
       "      <td>2021-12-28</td>\n",
       "      <td>0.174117</td>\n",
       "    </tr>\n",
       "    <tr>\n",
       "      <th>361</th>\n",
       "      <td>2021-12-29</td>\n",
       "      <td>0.167765</td>\n",
       "    </tr>\n",
       "    <tr>\n",
       "      <th>362</th>\n",
       "      <td>2021-12-30</td>\n",
       "      <td>0.171313</td>\n",
       "    </tr>\n",
       "    <tr>\n",
       "      <th>363</th>\n",
       "      <td>2021-12-31</td>\n",
       "      <td>0.170496</td>\n",
       "    </tr>\n",
       "  </tbody>\n",
       "</table>\n",
       "<p>364 rows × 2 columns</p>\n",
       "</div>\n",
       "      <button class=\"colab-df-convert\" onclick=\"convertToInteractive('df-f2620925-6e46-428c-b38b-e71b480c51f5')\"\n",
       "              title=\"Convert this dataframe to an interactive table.\"\n",
       "              style=\"display:none;\">\n",
       "        \n",
       "  <svg xmlns=\"http://www.w3.org/2000/svg\" height=\"24px\"viewBox=\"0 0 24 24\"\n",
       "       width=\"24px\">\n",
       "    <path d=\"M0 0h24v24H0V0z\" fill=\"none\"/>\n",
       "    <path d=\"M18.56 5.44l.94 2.06.94-2.06 2.06-.94-2.06-.94-.94-2.06-.94 2.06-2.06.94zm-11 1L8.5 8.5l.94-2.06 2.06-.94-2.06-.94L8.5 2.5l-.94 2.06-2.06.94zm10 10l.94 2.06.94-2.06 2.06-.94-2.06-.94-.94-2.06-.94 2.06-2.06.94z\"/><path d=\"M17.41 7.96l-1.37-1.37c-.4-.4-.92-.59-1.43-.59-.52 0-1.04.2-1.43.59L10.3 9.45l-7.72 7.72c-.78.78-.78 2.05 0 2.83L4 21.41c.39.39.9.59 1.41.59.51 0 1.02-.2 1.41-.59l7.78-7.78 2.81-2.81c.8-.78.8-2.07 0-2.86zM5.41 20L4 18.59l7.72-7.72 1.47 1.35L5.41 20z\"/>\n",
       "  </svg>\n",
       "      </button>\n",
       "      \n",
       "  <style>\n",
       "    .colab-df-container {\n",
       "      display:flex;\n",
       "      flex-wrap:wrap;\n",
       "      gap: 12px;\n",
       "    }\n",
       "\n",
       "    .colab-df-convert {\n",
       "      background-color: #E8F0FE;\n",
       "      border: none;\n",
       "      border-radius: 50%;\n",
       "      cursor: pointer;\n",
       "      display: none;\n",
       "      fill: #1967D2;\n",
       "      height: 32px;\n",
       "      padding: 0 0 0 0;\n",
       "      width: 32px;\n",
       "    }\n",
       "\n",
       "    .colab-df-convert:hover {\n",
       "      background-color: #E2EBFA;\n",
       "      box-shadow: 0px 1px 2px rgba(60, 64, 67, 0.3), 0px 1px 3px 1px rgba(60, 64, 67, 0.15);\n",
       "      fill: #174EA6;\n",
       "    }\n",
       "\n",
       "    [theme=dark] .colab-df-convert {\n",
       "      background-color: #3B4455;\n",
       "      fill: #D2E3FC;\n",
       "    }\n",
       "\n",
       "    [theme=dark] .colab-df-convert:hover {\n",
       "      background-color: #434B5C;\n",
       "      box-shadow: 0px 1px 3px 1px rgba(0, 0, 0, 0.15);\n",
       "      filter: drop-shadow(0px 1px 2px rgba(0, 0, 0, 0.3));\n",
       "      fill: #FFFFFF;\n",
       "    }\n",
       "  </style>\n",
       "\n",
       "      <script>\n",
       "        const buttonEl =\n",
       "          document.querySelector('#df-f2620925-6e46-428c-b38b-e71b480c51f5 button.colab-df-convert');\n",
       "        buttonEl.style.display =\n",
       "          google.colab.kernel.accessAllowed ? 'block' : 'none';\n",
       "\n",
       "        async function convertToInteractive(key) {\n",
       "          const element = document.querySelector('#df-f2620925-6e46-428c-b38b-e71b480c51f5');\n",
       "          const dataTable =\n",
       "            await google.colab.kernel.invokeFunction('convertToInteractive',\n",
       "                                                     [key], {});\n",
       "          if (!dataTable) return;\n",
       "\n",
       "          const docLinkHtml = 'Like what you see? Visit the ' +\n",
       "            '<a target=\"_blank\" href=https://colab.research.google.com/notebooks/data_table.ipynb>data table notebook</a>'\n",
       "            + ' to learn more about interactive tables.';\n",
       "          element.innerHTML = '';\n",
       "          dataTable['output_type'] = 'display_data';\n",
       "          await google.colab.output.renderOutput(dataTable, element);\n",
       "          const docLink = document.createElement('div');\n",
       "          docLink.innerHTML = docLinkHtml;\n",
       "          element.appendChild(docLink);\n",
       "        }\n",
       "      </script>\n",
       "    </div>\n",
       "  </div>\n",
       "  "
      ],
      "text/plain": [
       "          Date     Close\n",
       "0   2021-01-02  0.010615\n",
       "1   2021-01-03  0.009771\n",
       "2   2021-01-04  0.009767\n",
       "3   2021-01-05  0.009920\n",
       "4   2021-01-06  0.010465\n",
       "..         ...       ...\n",
       "359 2021-12-27  0.187705\n",
       "360 2021-12-28  0.174117\n",
       "361 2021-12-29  0.167765\n",
       "362 2021-12-30  0.171313\n",
       "363 2021-12-31  0.170496\n",
       "\n",
       "[364 rows x 2 columns]"
      ]
     },
     "execution_count": 476,
     "metadata": {},
     "output_type": "execute_result"
    }
   ],
   "source": [
    "# filtring infromation for 2021 year only\n",
    "mask_2 = (df['Date'] > \"2020-12-31\") & (df['Date'] < \"2022-01-01\")\n",
    "df = df[mask_2]\n",
    "df"
   ]
  },
  {
   "cell_type": "code",
   "execution_count": 477,
   "metadata": {
    "colab": {
     "base_uri": "https://localhost:8080/",
     "height": 455
    },
    "executionInfo": {
     "elapsed": 212,
     "status": "ok",
     "timestamp": 1641091788472,
     "user": {
      "displayName": "Ruslan Shulhan",
      "photoUrl": "https://lh3.googleusercontent.com/a-/AOh14Gjwuxtlwg9WSlvNyShGXVeX_wkQ56fQFp5e25km=s64",
      "userId": "10991312474810858840"
     },
     "user_tz": 300
    },
    "id": "UlRO254OCeuI",
    "outputId": "58b2e42c-f53a-4b7b-fbdc-2db1cf0a9e19"
   },
   "outputs": [
    {
     "data": {
      "text/html": [
       "\n",
       "  <div id=\"df-6e614b10-1955-44fe-b51d-bb2065138f3d\">\n",
       "    <div class=\"colab-df-container\">\n",
       "      <div>\n",
       "<style scoped>\n",
       "    .dataframe tbody tr th:only-of-type {\n",
       "        vertical-align: middle;\n",
       "    }\n",
       "\n",
       "    .dataframe tbody tr th {\n",
       "        vertical-align: top;\n",
       "    }\n",
       "\n",
       "    .dataframe thead th {\n",
       "        text-align: right;\n",
       "    }\n",
       "</style>\n",
       "<table border=\"1\" class=\"dataframe\">\n",
       "  <thead>\n",
       "    <tr style=\"text-align: right;\">\n",
       "      <th></th>\n",
       "      <th>Close</th>\n",
       "    </tr>\n",
       "    <tr>\n",
       "      <th>Date</th>\n",
       "      <th></th>\n",
       "    </tr>\n",
       "  </thead>\n",
       "  <tbody>\n",
       "    <tr>\n",
       "      <th>2021-01-02</th>\n",
       "      <td>0.010615</td>\n",
       "    </tr>\n",
       "    <tr>\n",
       "      <th>2021-01-03</th>\n",
       "      <td>0.009771</td>\n",
       "    </tr>\n",
       "    <tr>\n",
       "      <th>2021-01-04</th>\n",
       "      <td>0.009767</td>\n",
       "    </tr>\n",
       "    <tr>\n",
       "      <th>2021-01-05</th>\n",
       "      <td>0.009920</td>\n",
       "    </tr>\n",
       "    <tr>\n",
       "      <th>2021-01-06</th>\n",
       "      <td>0.010465</td>\n",
       "    </tr>\n",
       "    <tr>\n",
       "      <th>...</th>\n",
       "      <td>...</td>\n",
       "    </tr>\n",
       "    <tr>\n",
       "      <th>2021-12-27</th>\n",
       "      <td>0.187705</td>\n",
       "    </tr>\n",
       "    <tr>\n",
       "      <th>2021-12-28</th>\n",
       "      <td>0.174117</td>\n",
       "    </tr>\n",
       "    <tr>\n",
       "      <th>2021-12-29</th>\n",
       "      <td>0.167765</td>\n",
       "    </tr>\n",
       "    <tr>\n",
       "      <th>2021-12-30</th>\n",
       "      <td>0.171313</td>\n",
       "    </tr>\n",
       "    <tr>\n",
       "      <th>2021-12-31</th>\n",
       "      <td>0.170496</td>\n",
       "    </tr>\n",
       "  </tbody>\n",
       "</table>\n",
       "<p>364 rows × 1 columns</p>\n",
       "</div>\n",
       "      <button class=\"colab-df-convert\" onclick=\"convertToInteractive('df-6e614b10-1955-44fe-b51d-bb2065138f3d')\"\n",
       "              title=\"Convert this dataframe to an interactive table.\"\n",
       "              style=\"display:none;\">\n",
       "        \n",
       "  <svg xmlns=\"http://www.w3.org/2000/svg\" height=\"24px\"viewBox=\"0 0 24 24\"\n",
       "       width=\"24px\">\n",
       "    <path d=\"M0 0h24v24H0V0z\" fill=\"none\"/>\n",
       "    <path d=\"M18.56 5.44l.94 2.06.94-2.06 2.06-.94-2.06-.94-.94-2.06-.94 2.06-2.06.94zm-11 1L8.5 8.5l.94-2.06 2.06-.94-2.06-.94L8.5 2.5l-.94 2.06-2.06.94zm10 10l.94 2.06.94-2.06 2.06-.94-2.06-.94-.94-2.06-.94 2.06-2.06.94z\"/><path d=\"M17.41 7.96l-1.37-1.37c-.4-.4-.92-.59-1.43-.59-.52 0-1.04.2-1.43.59L10.3 9.45l-7.72 7.72c-.78.78-.78 2.05 0 2.83L4 21.41c.39.39.9.59 1.41.59.51 0 1.02-.2 1.41-.59l7.78-7.78 2.81-2.81c.8-.78.8-2.07 0-2.86zM5.41 20L4 18.59l7.72-7.72 1.47 1.35L5.41 20z\"/>\n",
       "  </svg>\n",
       "      </button>\n",
       "      \n",
       "  <style>\n",
       "    .colab-df-container {\n",
       "      display:flex;\n",
       "      flex-wrap:wrap;\n",
       "      gap: 12px;\n",
       "    }\n",
       "\n",
       "    .colab-df-convert {\n",
       "      background-color: #E8F0FE;\n",
       "      border: none;\n",
       "      border-radius: 50%;\n",
       "      cursor: pointer;\n",
       "      display: none;\n",
       "      fill: #1967D2;\n",
       "      height: 32px;\n",
       "      padding: 0 0 0 0;\n",
       "      width: 32px;\n",
       "    }\n",
       "\n",
       "    .colab-df-convert:hover {\n",
       "      background-color: #E2EBFA;\n",
       "      box-shadow: 0px 1px 2px rgba(60, 64, 67, 0.3), 0px 1px 3px 1px rgba(60, 64, 67, 0.15);\n",
       "      fill: #174EA6;\n",
       "    }\n",
       "\n",
       "    [theme=dark] .colab-df-convert {\n",
       "      background-color: #3B4455;\n",
       "      fill: #D2E3FC;\n",
       "    }\n",
       "\n",
       "    [theme=dark] .colab-df-convert:hover {\n",
       "      background-color: #434B5C;\n",
       "      box-shadow: 0px 1px 3px 1px rgba(0, 0, 0, 0.15);\n",
       "      filter: drop-shadow(0px 1px 2px rgba(0, 0, 0, 0.3));\n",
       "      fill: #FFFFFF;\n",
       "    }\n",
       "  </style>\n",
       "\n",
       "      <script>\n",
       "        const buttonEl =\n",
       "          document.querySelector('#df-6e614b10-1955-44fe-b51d-bb2065138f3d button.colab-df-convert');\n",
       "        buttonEl.style.display =\n",
       "          google.colab.kernel.accessAllowed ? 'block' : 'none';\n",
       "\n",
       "        async function convertToInteractive(key) {\n",
       "          const element = document.querySelector('#df-6e614b10-1955-44fe-b51d-bb2065138f3d');\n",
       "          const dataTable =\n",
       "            await google.colab.kernel.invokeFunction('convertToInteractive',\n",
       "                                                     [key], {});\n",
       "          if (!dataTable) return;\n",
       "\n",
       "          const docLinkHtml = 'Like what you see? Visit the ' +\n",
       "            '<a target=\"_blank\" href=https://colab.research.google.com/notebooks/data_table.ipynb>data table notebook</a>'\n",
       "            + ' to learn more about interactive tables.';\n",
       "          element.innerHTML = '';\n",
       "          dataTable['output_type'] = 'display_data';\n",
       "          await google.colab.output.renderOutput(dataTable, element);\n",
       "          const docLink = document.createElement('div');\n",
       "          docLink.innerHTML = docLinkHtml;\n",
       "          element.appendChild(docLink);\n",
       "        }\n",
       "      </script>\n",
       "    </div>\n",
       "  </div>\n",
       "  "
      ],
      "text/plain": [
       "               Close\n",
       "Date                \n",
       "2021-01-02  0.010615\n",
       "2021-01-03  0.009771\n",
       "2021-01-04  0.009767\n",
       "2021-01-05  0.009920\n",
       "2021-01-06  0.010465\n",
       "...              ...\n",
       "2021-12-27  0.187705\n",
       "2021-12-28  0.174117\n",
       "2021-12-29  0.167765\n",
       "2021-12-30  0.171313\n",
       "2021-12-31  0.170496\n",
       "\n",
       "[364 rows x 1 columns]"
      ]
     },
     "execution_count": 477,
     "metadata": {},
     "output_type": "execute_result"
    }
   ],
   "source": [
    "# setting 'Date' column as index for graphical visualization\n",
    "df_idx = df.set_index(['Date'])\n",
    "df_idx"
   ]
  },
  {
   "cell_type": "code",
   "execution_count": 478,
   "metadata": {
    "executionInfo": {
     "elapsed": 7,
     "status": "ok",
     "timestamp": 1641091788474,
     "user": {
      "displayName": "Ruslan Shulhan",
      "photoUrl": "https://lh3.googleusercontent.com/a-/AOh14Gjwuxtlwg9WSlvNyShGXVeX_wkQ56fQFp5e25km=s64",
      "userId": "10991312474810858840"
     },
     "user_tz": 300
    },
    "id": "hfap0K7rCfHN"
   },
   "outputs": [],
   "source": [
    "# downsampling from days to months for simplicity\n",
    "# df_idx_grp = df_idx.groupby(pd.Grouper(freq='D')).mean()\n",
    "# df_idx_grp = df_idx_grp.sort_index()\n",
    "# df_idx_grp.shape\n",
    "df_idx_grp = df_idx"
   ]
  },
  {
   "cell_type": "markdown",
   "metadata": {
    "id": "pNg43LHI_R1_"
   },
   "source": [
    "**Forcasting using: ARIMA (Autoregressive Integrated Moving Average) model**"
   ]
  },
  {
   "cell_type": "markdown",
   "metadata": {
    "id": "zUyBkqOEA8Go"
   },
   "source": [
    "ARIMA models are applied in some cases where data show evidence of non-stationarity in the sense of mean (but not variance/autocovariance), where an initial differencing step (corresponding to the \"integrated\" part of the model) can be applied one or more times to eliminate the non-stationarity of the mean function (i.e., the trend).\n",
    "\n",
    "[link text](https://en.wikipedia.org/wiki/Autoregressive_integrated_moving_average)"
   ]
  },
  {
   "cell_type": "code",
   "execution_count": 479,
   "metadata": {
    "colab": {
     "base_uri": "https://localhost:8080/",
     "height": 479
    },
    "executionInfo": {
     "elapsed": 410,
     "status": "ok",
     "timestamp": 1641091788877,
     "user": {
      "displayName": "Ruslan Shulhan",
      "photoUrl": "https://lh3.googleusercontent.com/a-/AOh14Gjwuxtlwg9WSlvNyShGXVeX_wkQ56fQFp5e25km=s64",
      "userId": "10991312474810858840"
     },
     "user_tz": 300
    },
    "id": "4gHxjVXeEdgJ",
    "outputId": "6f86949d-54d5-45cf-da7c-78e4d8a4a1eb"
   },
   "outputs": [
    {
     "data": {
      "image/png": "[encoded data removed]",
      "text/plain": [
       "<Figure size 842.4x523.44 with 1 Axes>"
      ]
     },
     "metadata": {},
     "output_type": "display_data"
    }
   ],
   "source": [
    "# plotting graph\n",
    "_ = sns.lineplot(data=df_idx_grp)\n",
    "_ = plt.ylabel('Close price: USD')\n",
    "_ = plt.title('Line plot - Stock price for DogeCoin 2021')\n",
    "plt.show()"
   ]
  },
  {
   "cell_type": "markdown",
   "metadata": {
    "id": "ecNoOgaMG46h"
   },
   "source": [
    "It's difficult to see from this graph, but there is a seasonality in data. Thereby, we will be using SARIMA (Seasonal ARIMA) instead of ARIMA. \n",
    "\n",
    "[link text](https://en.wikipedia.org/wiki/Autoregressive_integrated_moving_average)"
   ]
  },
  {
   "cell_type": "code",
   "execution_count": 480,
   "metadata": {
    "executionInfo": {
     "elapsed": 6,
     "status": "ok",
     "timestamp": 1641091788878,
     "user": {
      "displayName": "Ruslan Shulhan",
      "photoUrl": "https://lh3.googleusercontent.com/a-/AOh14Gjwuxtlwg9WSlvNyShGXVeX_wkQ56fQFp5e25km=s64",
      "userId": "10991312474810858840"
     },
     "user_tz": 300
    },
    "id": "STmXi21yFHXe"
   },
   "outputs": [],
   "source": [
    "# applying Seasonal decomposition using moving averages\n",
    "# https://www.statsmodels.org/stable/generated/statsmodels.tsa.seasonal.seasonal_decompose.html\n",
    "seas_components = seasonal_decompose(df_idx_grp['Close'], model='multiplicative')"
   ]
  },
  {
   "cell_type": "code",
   "execution_count": 481,
   "metadata": {
    "colab": {
     "base_uri": "https://localhost:8080/",
     "height": 528
    },
    "executionInfo": {
     "elapsed": 1825,
     "status": "ok",
     "timestamp": 1641091790699,
     "user": {
      "displayName": "Ruslan Shulhan",
      "photoUrl": "https://lh3.googleusercontent.com/a-/AOh14Gjwuxtlwg9WSlvNyShGXVeX_wkQ56fQFp5e25km=s64",
      "userId": "10991312474810858840"
     },
     "user_tz": 300
    },
    "id": "KLHdkU20H0-V",
    "outputId": "0b4c9235-345f-409d-dae6-018515e635c9"
   },
   "outputs": [
    {
     "data": {
      "image/png": "[encoded data removed]",
      "text/plain": [
       "<Figure size 842.4x523.44 with 4 Axes>"
      ]
     },
     "metadata": {},
     "output_type": "display_data"
    }
   ],
   "source": [
    "seas_components.plot()\n",
    "plt.show()"
   ]
  },
  {
   "cell_type": "code",
   "execution_count": 482,
   "metadata": {
    "colab": {
     "base_uri": "https://localhost:8080/",
     "height": 462
    },
    "executionInfo": {
     "elapsed": 576,
     "status": "ok",
     "timestamp": 1641091791270,
     "user": {
      "displayName": "Ruslan Shulhan",
      "photoUrl": "https://lh3.googleusercontent.com/a-/AOh14Gjwuxtlwg9WSlvNyShGXVeX_wkQ56fQFp5e25km=s64",
      "userId": "10991312474810858840"
     },
     "user_tz": 300
    },
    "id": "4EoOIYQVH26q",
    "outputId": "733960ba-772a-4f37-d19a-20ac07143e64"
   },
   "outputs": [
    {
     "data": {
      "image/png": "[encoded data removed]",
      "text/plain": [
       "<Figure size 842.4x523.44 with 1 Axes>"
      ]
     },
     "metadata": {},
     "output_type": "display_data"
    }
   ],
   "source": [
    "# let's see seasonality of our data closer\n",
    "_ = plt.plot(seas_components.seasonal)\n",
    "_ = plt.title(\"Seasonality of 'Dogecoin' price\")"
   ]
  },
  {
   "cell_type": "markdown",
   "metadata": {
    "id": "_cHqL7NvJufA"
   },
   "source": [
    "ARIMA forecasting.\n",
    "We'll start with auto_arima() function that automatically discover the optimal order for an ARIMA model: p, d, q, P, D, Q \n",
    "\n",
    "[link text](https://alkaline-ml.com/pmdarima/modules/generated/pmdarima.arima.auto_arima.html)"
   ]
  },
  {
   "cell_type": "code",
   "execution_count": 483,
   "metadata": {
    "colab": {
     "base_uri": "https://localhost:8080/",
     "height": 486
    },
    "executionInfo": {
     "elapsed": 130876,
     "status": "ok",
     "timestamp": 1641091922137,
     "user": {
      "displayName": "Ruslan Shulhan",
      "photoUrl": "https://lh3.googleusercontent.com/a-/AOh14Gjwuxtlwg9WSlvNyShGXVeX_wkQ56fQFp5e25km=s64",
      "userId": "10991312474810858840"
     },
     "user_tz": 300
    },
    "id": "dvR0MNHeIPYe",
    "outputId": "865e31b4-7033-4d66-967b-10441f7ed3ea"
   },
   "outputs": [
    {
     "data": {
      "text/html": [
       "<table class=\"simpletable\">\n",
       "<caption>SARIMAX Results</caption>\n",
       "<tr>\n",
       "  <th>Dep. Variable:</th>                   <td>y</td>                <th>  No. Observations:  </th>    <td>364</td>   \n",
       "</tr>\n",
       "<tr>\n",
       "  <th>Model:</th>           <td>SARIMAX(0, 1, 3)x(1, 0, [1], 12)</td> <th>  Log Likelihood     </th>  <td>811.683</td> \n",
       "</tr>\n",
       "<tr>\n",
       "  <th>Date:</th>                    <td>Sun, 02 Jan 2022</td>         <th>  AIC                </th> <td>-1611.366</td>\n",
       "</tr>\n",
       "<tr>\n",
       "  <th>Time:</th>                        <td>02:52:02</td>             <th>  BIC                </th> <td>-1588.000</td>\n",
       "</tr>\n",
       "<tr>\n",
       "  <th>Sample:</th>                          <td>0</td>                <th>  HQIC               </th> <td>-1602.078</td>\n",
       "</tr>\n",
       "<tr>\n",
       "  <th></th>                              <td> - 364</td>              <th>                     </th>     <td> </td>    \n",
       "</tr>\n",
       "<tr>\n",
       "  <th>Covariance Type:</th>                <td>opg</td>               <th>                     </th>     <td> </td>    \n",
       "</tr>\n",
       "</table>\n",
       "<table class=\"simpletable\">\n",
       "<tr>\n",
       "      <td></td>        <th>coef</th>     <th>std err</th>      <th>z</th>      <th>P>|z|</th>  <th>[0.025</th>    <th>0.975]</th>  \n",
       "</tr>\n",
       "<tr>\n",
       "  <th>ma.L1</th>    <td>   -0.1422</td> <td>    0.025</td> <td>   -5.793</td> <td> 0.000</td> <td>   -0.190</td> <td>   -0.094</td>\n",
       "</tr>\n",
       "<tr>\n",
       "  <th>ma.L2</th>    <td>    0.1506</td> <td>    0.033</td> <td>    4.624</td> <td> 0.000</td> <td>    0.087</td> <td>    0.214</td>\n",
       "</tr>\n",
       "<tr>\n",
       "  <th>ma.L3</th>    <td>    0.1747</td> <td>    0.027</td> <td>    6.584</td> <td> 0.000</td> <td>    0.123</td> <td>    0.227</td>\n",
       "</tr>\n",
       "<tr>\n",
       "  <th>ar.S.L12</th> <td>    0.6372</td> <td>    0.195</td> <td>    3.274</td> <td> 0.001</td> <td>    0.256</td> <td>    1.019</td>\n",
       "</tr>\n",
       "<tr>\n",
       "  <th>ma.S.L12</th> <td>   -0.7740</td> <td>    0.179</td> <td>   -4.336</td> <td> 0.000</td> <td>   -1.124</td> <td>   -0.424</td>\n",
       "</tr>\n",
       "<tr>\n",
       "  <th>sigma2</th>   <td>    0.0007</td> <td> 2.03e-05</td> <td>   32.765</td> <td> 0.000</td> <td>    0.001</td> <td>    0.001</td>\n",
       "</tr>\n",
       "</table>\n",
       "<table class=\"simpletable\">\n",
       "<tr>\n",
       "  <th>Ljung-Box (L1) (Q):</th>     <td>0.00</td> <th>  Jarque-Bera (JB):  </th> <td>2492.58</td>\n",
       "</tr>\n",
       "<tr>\n",
       "  <th>Prob(Q):</th>                <td>0.97</td> <th>  Prob(JB):          </th>  <td>0.00</td>  \n",
       "</tr>\n",
       "<tr>\n",
       "  <th>Heteroskedasticity (H):</th> <td>0.26</td> <th>  Skew:              </th>  <td>1.18</td>  \n",
       "</tr>\n",
       "<tr>\n",
       "  <th>Prob(H) (two-sided):</th>    <td>0.00</td> <th>  Kurtosis:          </th>  <td>15.62</td> \n",
       "</tr>\n",
       "</table><br/><br/>Warnings:<br/>[1] Covariance matrix calculated using the outer product of gradients (complex-step)."
      ],
      "text/plain": [
       "<class 'statsmodels.iolib.summary.Summary'>\n",
       "\"\"\"\n",
       "                                      SARIMAX Results                                       \n",
       "============================================================================================\n",
       "Dep. Variable:                                    y   No. Observations:                  364\n",
       "Model:             SARIMAX(0, 1, 3)x(1, 0, [1], 12)   Log Likelihood                 811.683\n",
       "Date:                              Sun, 02 Jan 2022   AIC                          -1611.366\n",
       "Time:                                      02:52:02   BIC                          -1588.000\n",
       "Sample:                                           0   HQIC                         -1602.078\n",
       "                                              - 364                                         \n",
       "Covariance Type:                                opg                                         \n",
       "==============================================================================\n",
       "                 coef    std err          z      P>|z|      [0.025      0.975]\n",
       "------------------------------------------------------------------------------\n",
       "ma.L1         -0.1422      0.025     -5.793      0.000      -0.190      -0.094\n",
       "ma.L2          0.1506      0.033      4.624      0.000       0.087       0.214\n",
       "ma.L3          0.1747      0.027      6.584      0.000       0.123       0.227\n",
       "ar.S.L12       0.6372      0.195      3.274      0.001       0.256       1.019\n",
       "ma.S.L12      -0.7740      0.179     -4.336      0.000      -1.124      -0.424\n",
       "sigma2         0.0007   2.03e-05     32.765      0.000       0.001       0.001\n",
       "===================================================================================\n",
       "Ljung-Box (L1) (Q):                   0.00   Jarque-Bera (JB):              2492.58\n",
       "Prob(Q):                              0.97   Prob(JB):                         0.00\n",
       "Heteroskedasticity (H):               0.26   Skew:                             1.18\n",
       "Prob(H) (two-sided):                  0.00   Kurtosis:                        15.62\n",
       "===================================================================================\n",
       "\n",
       "Warnings:\n",
       "[1] Covariance matrix calculated using the outer product of gradients (complex-step).\n",
       "\"\"\""
      ]
     },
     "execution_count": 483,
     "metadata": {},
     "output_type": "execute_result"
    }
   ],
   "source": [
    "# applying auto_arima\n",
    "# https://towardsdatascience.com/time-series-forecasting-using-auto-arima-in-python-bb83e49210cd  \n",
    "auto_arima_results = auto_arima(df_idx_grp['Close'], m=12, max_p=7, max_P=4,\n",
    "                                max_d=5, max_D=4, max_q=7, max_Q=4)\n",
    "\n",
    "auto_arima_results.summary()"
   ]
  },
  {
   "cell_type": "markdown",
   "metadata": {
    "id": "GoEL7rXgeuk2"
   },
   "source": [
    "So, we can see that auto_function() was able to choose best model for us with parameters: SARIMAX(0, 1, 3)x(1, 0, [1], 12)"
   ]
  },
  {
   "cell_type": "code",
   "execution_count": 484,
   "metadata": {
    "executionInfo": {
     "elapsed": 10,
     "status": "ok",
     "timestamp": 1641091922138,
     "user": {
      "displayName": "Ruslan Shulhan",
      "photoUrl": "https://lh3.googleusercontent.com/a-/AOh14Gjwuxtlwg9WSlvNyShGXVeX_wkQ56fQFp5e25km=s64",
      "userId": "10991312474810858840"
     },
     "user_tz": 300
    },
    "id": "D_MiNrxiLhVd"
   },
   "outputs": [],
   "source": [
    "# splitting our data into train/test parts\n",
    "train_data = df_idx_grp[:len(df_idx_grp) - 15]\n",
    "test_data = df_idx_grp[len(df_idx_grp) - 15:]"
   ]
  },
  {
   "cell_type": "code",
   "execution_count": 485,
   "metadata": {
    "colab": {
     "base_uri": "https://localhost:8080/",
     "height": 486
    },
    "executionInfo": {
     "elapsed": 1612,
     "status": "ok",
     "timestamp": 1641091923742,
     "user": {
      "displayName": "Ruslan Shulhan",
      "photoUrl": "https://lh3.googleusercontent.com/a-/AOh14Gjwuxtlwg9WSlvNyShGXVeX_wkQ56fQFp5e25km=s64",
      "userId": "10991312474810858840"
     },
     "user_tz": 300
    },
    "id": "nQ95RlS4ad4R",
    "outputId": "9194b0d9-340b-4e63-bbaf-9e3db991ec82"
   },
   "outputs": [
    {
     "data": {
      "text/html": [
       "<table class=\"simpletable\">\n",
       "<caption>SARIMAX Results</caption>\n",
       "<tr>\n",
       "  <th>Dep. Variable:</th>                 <td>Close</td>              <th>  No. Observations:  </th>    <td>349</td>   \n",
       "</tr>\n",
       "<tr>\n",
       "  <th>Model:</th>           <td>SARIMAX(0, 1, 3)x(1, 0, [1], 12)</td> <th>  Log Likelihood     </th>  <td>771.389</td> \n",
       "</tr>\n",
       "<tr>\n",
       "  <th>Date:</th>                    <td>Sun, 02 Jan 2022</td>         <th>  AIC                </th> <td>-1530.778</td>\n",
       "</tr>\n",
       "<tr>\n",
       "  <th>Time:</th>                        <td>02:52:04</td>             <th>  BIC                </th> <td>-1507.665</td>\n",
       "</tr>\n",
       "<tr>\n",
       "  <th>Sample:</th>                     <td>01-02-2021</td>            <th>  HQIC               </th> <td>-1521.576</td>\n",
       "</tr>\n",
       "<tr>\n",
       "  <th></th>                           <td>- 12-16-2021</td>           <th>                     </th>     <td> </td>    \n",
       "</tr>\n",
       "<tr>\n",
       "  <th>Covariance Type:</th>                <td>opg</td>               <th>                     </th>     <td> </td>    \n",
       "</tr>\n",
       "</table>\n",
       "<table class=\"simpletable\">\n",
       "<tr>\n",
       "      <td></td>        <th>coef</th>     <th>std err</th>      <th>z</th>      <th>P>|z|</th>  <th>[0.025</th>    <th>0.975]</th>  \n",
       "</tr>\n",
       "<tr>\n",
       "  <th>ma.L1</th>    <td>   -0.1448</td> <td>    0.026</td> <td>   -5.650</td> <td> 0.000</td> <td>   -0.195</td> <td>   -0.095</td>\n",
       "</tr>\n",
       "<tr>\n",
       "  <th>ma.L2</th>    <td>    0.1540</td> <td>    0.034</td> <td>    4.526</td> <td> 0.000</td> <td>    0.087</td> <td>    0.221</td>\n",
       "</tr>\n",
       "<tr>\n",
       "  <th>ma.L3</th>    <td>    0.1709</td> <td>    0.028</td> <td>    6.185</td> <td> 0.000</td> <td>    0.117</td> <td>    0.225</td>\n",
       "</tr>\n",
       "<tr>\n",
       "  <th>ar.S.L12</th> <td>    0.6364</td> <td>    0.198</td> <td>    3.213</td> <td> 0.001</td> <td>    0.248</td> <td>    1.025</td>\n",
       "</tr>\n",
       "<tr>\n",
       "  <th>ma.S.L12</th> <td>   -0.7754</td> <td>    0.181</td> <td>   -4.274</td> <td> 0.000</td> <td>   -1.131</td> <td>   -0.420</td>\n",
       "</tr>\n",
       "<tr>\n",
       "  <th>sigma2</th>   <td>    0.0007</td> <td>  2.2e-05</td> <td>   31.461</td> <td> 0.000</td> <td>    0.001</td> <td>    0.001</td>\n",
       "</tr>\n",
       "</table>\n",
       "<table class=\"simpletable\">\n",
       "<tr>\n",
       "  <th>Ljung-Box (L1) (Q):</th>     <td>0.00</td> <th>  Jarque-Bera (JB):  </th> <td>2189.41</td>\n",
       "</tr>\n",
       "<tr>\n",
       "  <th>Prob(Q):</th>                <td>0.98</td> <th>  Prob(JB):          </th>  <td>0.00</td>  \n",
       "</tr>\n",
       "<tr>\n",
       "  <th>Heteroskedasticity (H):</th> <td>0.32</td> <th>  Skew:              </th>  <td>1.16</td>  \n",
       "</tr>\n",
       "<tr>\n",
       "  <th>Prob(H) (two-sided):</th>    <td>0.00</td> <th>  Kurtosis:          </th>  <td>15.07</td> \n",
       "</tr>\n",
       "</table><br/><br/>Warnings:<br/>[1] Covariance matrix calculated using the outer product of gradients (complex-step)."
      ],
      "text/plain": [
       "<class 'statsmodels.iolib.summary.Summary'>\n",
       "\"\"\"\n",
       "                                      SARIMAX Results                                       \n",
       "============================================================================================\n",
       "Dep. Variable:                                Close   No. Observations:                  349\n",
       "Model:             SARIMAX(0, 1, 3)x(1, 0, [1], 12)   Log Likelihood                 771.389\n",
       "Date:                              Sun, 02 Jan 2022   AIC                          -1530.778\n",
       "Time:                                      02:52:04   BIC                          -1507.665\n",
       "Sample:                                  01-02-2021   HQIC                         -1521.576\n",
       "                                       - 12-16-2021                                         \n",
       "Covariance Type:                                opg                                         \n",
       "==============================================================================\n",
       "                 coef    std err          z      P>|z|      [0.025      0.975]\n",
       "------------------------------------------------------------------------------\n",
       "ma.L1         -0.1448      0.026     -5.650      0.000      -0.195      -0.095\n",
       "ma.L2          0.1540      0.034      4.526      0.000       0.087       0.221\n",
       "ma.L3          0.1709      0.028      6.185      0.000       0.117       0.225\n",
       "ar.S.L12       0.6364      0.198      3.213      0.001       0.248       1.025\n",
       "ma.S.L12      -0.7754      0.181     -4.274      0.000      -1.131      -0.420\n",
       "sigma2         0.0007    2.2e-05     31.461      0.000       0.001       0.001\n",
       "===================================================================================\n",
       "Ljung-Box (L1) (Q):                   0.00   Jarque-Bera (JB):              2189.41\n",
       "Prob(Q):                              0.98   Prob(JB):                         0.00\n",
       "Heteroskedasticity (H):               0.32   Skew:                             1.16\n",
       "Prob(H) (two-sided):                  0.00   Kurtosis:                        15.07\n",
       "===================================================================================\n",
       "\n",
       "Warnings:\n",
       "[1] Covariance matrix calculated using the outer product of gradients (complex-step).\n",
       "\"\"\""
      ]
     },
     "execution_count": 485,
     "metadata": {},
     "output_type": "execute_result"
    }
   ],
   "source": [
    "# applying SARIMA model\t  \n",
    "model_1 = SARIMAX(train_data['Close'], order=(0, 1, 3),\n",
    "                  seasonal_order=(1, 0, 1, 12))\n",
    "model_1_result = model_1.fit()\n",
    "model_1_result.summary()"
   ]
  },
  {
   "cell_type": "code",
   "execution_count": 486,
   "metadata": {
    "colab": {
     "base_uri": "https://localhost:8080/"
    },
    "executionInfo": {
     "elapsed": 6,
     "status": "ok",
     "timestamp": 1641091923743,
     "user": {
      "displayName": "Ruslan Shulhan",
      "photoUrl": "https://lh3.googleusercontent.com/a-/AOh14Gjwuxtlwg9WSlvNyShGXVeX_wkQ56fQFp5e25km=s64",
      "userId": "10991312474810858840"
     },
     "user_tz": 300
    },
    "id": "oRuO--ySf_bV",
    "outputId": "5d3ab497-437a-4a4d-b3c1-02b8eeec9695"
   },
   "outputs": [
    {
     "data": {
      "text/plain": [
       "2021-12-17    0.179695\n",
       "2021-12-18    0.178867\n",
       "2021-12-19    0.177248\n",
       "2021-12-20    0.178839\n",
       "2021-12-21    0.181003\n",
       "2021-12-22    0.183166\n",
       "2021-12-23    0.180418\n",
       "2021-12-24    0.182719\n",
       "2021-12-25    0.184297\n",
       "2021-12-26    0.181330\n",
       "2021-12-27    0.179333\n",
       "2021-12-28    0.184848\n",
       "2021-12-29    0.183927\n",
       "2021-12-30    0.184007\n",
       "2021-12-31    0.184739\n",
       "Freq: D, Name: predicted_mean, dtype: float64"
      ]
     },
     "execution_count": 486,
     "metadata": {},
     "output_type": "execute_result"
    }
   ],
   "source": [
    "# let's see the predicted results from SARIMA \n",
    "model_1_pred = model_1_result.predict(start=len(train_data),\n",
    "                                      end=len(df_idx_grp)-1, typ='levels')\n",
    "model_1_pred"
   ]
  },
  {
   "cell_type": "code",
   "execution_count": 487,
   "metadata": {
    "colab": {
     "base_uri": "https://localhost:8080/",
     "height": 462
    },
    "executionInfo": {
     "elapsed": 546,
     "status": "ok",
     "timestamp": 1641091924285,
     "user": {
      "displayName": "Ruslan Shulhan",
      "photoUrl": "https://lh3.googleusercontent.com/a-/AOh14Gjwuxtlwg9WSlvNyShGXVeX_wkQ56fQFp5e25km=s64",
      "userId": "10991312474810858840"
     },
     "user_tz": 300
    },
    "id": "XXME8fjNhkh-",
    "outputId": "2fcd5544-c00b-44d8-eb32-8a3b45662031"
   },
   "outputs": [
    {
     "data": {
      "image/png": "[encoded data removed]",
      "text/plain": [
       "<Figure size 842.4x523.44 with 1 Axes>"
      ]
     },
     "metadata": {},
     "output_type": "display_data"
    }
   ],
   "source": [
    "# plotting results\n",
    "_ = plt.plot(test_data, color='red', label='Original')\n",
    "_ = plt.plot(model_1_pred, color='blue', label='Predicted')\n",
    "_ = plt.title(\"Prediction results\")\n",
    "_ = plt.legend(loc='best')\n",
    "_ = plt.show()"
   ]
  },
  {
   "cell_type": "code",
   "execution_count": 488,
   "metadata": {
    "executionInfo": {
     "elapsed": 10,
     "status": "ok",
     "timestamp": 1641091924285,
     "user": {
      "displayName": "Ruslan Shulhan",
      "photoUrl": "https://lh3.googleusercontent.com/a-/AOh14Gjwuxtlwg9WSlvNyShGXVeX_wkQ56fQFp5e25km=s64",
      "userId": "10991312474810858840"
     },
     "user_tz": 300
    },
    "id": "GUiMmla7h5G2"
   },
   "outputs": [],
   "source": [
    "# identifying the metrics between predicted values and original ones\n",
    "def get_error_metrics(data):\n",
    "  rmse_error = rmse(test_data['Close'], data)\n",
    "  mse_error = rmse_error ** 2\n",
    "  mean_value = df_idx_grp['Close'].mean()\n",
    "\n",
    "  print(f\"RMSE Error: {rmse_error}\")\n",
    "  print(f\"MSE Error: {mse_error}\")\n",
    "  print(f\"Mean Value: {mean_value}\")\n",
    "\n",
    "  return {\n",
    "      \"RMSE Error\": rmse_error,\n",
    "      \"MSE Error\": mse_error\n",
    "      }"
   ]
  },
  {
   "cell_type": "code",
   "execution_count": 489,
   "metadata": {
    "colab": {
     "base_uri": "https://localhost:8080/"
    },
    "executionInfo": {
     "elapsed": 10,
     "status": "ok",
     "timestamp": 1641091924286,
     "user": {
      "displayName": "Ruslan Shulhan",
      "photoUrl": "https://lh3.googleusercontent.com/a-/AOh14Gjwuxtlwg9WSlvNyShGXVeX_wkQ56fQFp5e25km=s64",
      "userId": "10991312474810858840"
     },
     "user_tz": 300
    },
    "id": "SVdAOxh9jMQX",
    "outputId": "09e16499-edb8-40c4-9609-9d359a84d72e"
   },
   "outputs": [
    {
     "name": "stdout",
     "output_type": "stream",
     "text": [
      "RMSE Error: 0.010004450118278316\n",
      "MSE Error: 0.00010008902216911901\n",
      "Mean Value: 0.20526992582417591\n"
     ]
    }
   ],
   "source": [
    "model_1_error_metrics = get_error_metrics(model_1_pred)"
   ]
  },
  {
   "cell_type": "code",
   "execution_count": 490,
   "metadata": {
    "colab": {
     "base_uri": "https://localhost:8080/",
     "height": 551
    },
    "executionInfo": {
     "elapsed": 9,
     "status": "ok",
     "timestamp": 1641091924287,
     "user": {
      "displayName": "Ruslan Shulhan",
      "photoUrl": "https://lh3.googleusercontent.com/a-/AOh14Gjwuxtlwg9WSlvNyShGXVeX_wkQ56fQFp5e25km=s64",
      "userId": "10991312474810858840"
     },
     "user_tz": 300
    },
    "id": "Y5AUztpPkVvJ",
    "outputId": "79e81efb-ff93-4fd9-a821-e87d7ec955fa"
   },
   "outputs": [
    {
     "data": {
      "text/html": [
       "\n",
       "  <div id=\"df-c985f817-1424-4b0e-8741-5992fbf1496e\">\n",
       "    <div class=\"colab-df-container\">\n",
       "      <div>\n",
       "<style scoped>\n",
       "    .dataframe tbody tr th:only-of-type {\n",
       "        vertical-align: middle;\n",
       "    }\n",
       "\n",
       "    .dataframe tbody tr th {\n",
       "        vertical-align: top;\n",
       "    }\n",
       "\n",
       "    .dataframe thead th {\n",
       "        text-align: right;\n",
       "    }\n",
       "</style>\n",
       "<table border=\"1\" class=\"dataframe\">\n",
       "  <thead>\n",
       "    <tr style=\"text-align: right;\">\n",
       "      <th></th>\n",
       "      <th>Close</th>\n",
       "      <th>SARIMAX_Predictions</th>\n",
       "    </tr>\n",
       "    <tr>\n",
       "      <th>Date</th>\n",
       "      <th></th>\n",
       "      <th></th>\n",
       "    </tr>\n",
       "  </thead>\n",
       "  <tbody>\n",
       "    <tr>\n",
       "      <th>2021-12-17</th>\n",
       "      <td>0.169010</td>\n",
       "      <td>0.179695</td>\n",
       "    </tr>\n",
       "    <tr>\n",
       "      <th>2021-12-18</th>\n",
       "      <td>0.172400</td>\n",
       "      <td>0.178867</td>\n",
       "    </tr>\n",
       "    <tr>\n",
       "      <th>2021-12-19</th>\n",
       "      <td>0.169576</td>\n",
       "      <td>0.177248</td>\n",
       "    </tr>\n",
       "    <tr>\n",
       "      <th>2021-12-20</th>\n",
       "      <td>0.167322</td>\n",
       "      <td>0.178839</td>\n",
       "    </tr>\n",
       "    <tr>\n",
       "      <th>2021-12-21</th>\n",
       "      <td>0.171175</td>\n",
       "      <td>0.181003</td>\n",
       "    </tr>\n",
       "    <tr>\n",
       "      <th>2021-12-22</th>\n",
       "      <td>0.173214</td>\n",
       "      <td>0.183166</td>\n",
       "    </tr>\n",
       "    <tr>\n",
       "      <th>2021-12-23</th>\n",
       "      <td>0.184490</td>\n",
       "      <td>0.180418</td>\n",
       "    </tr>\n",
       "    <tr>\n",
       "      <th>2021-12-24</th>\n",
       "      <td>0.186622</td>\n",
       "      <td>0.182719</td>\n",
       "    </tr>\n",
       "    <tr>\n",
       "      <th>2021-12-25</th>\n",
       "      <td>0.190657</td>\n",
       "      <td>0.184297</td>\n",
       "    </tr>\n",
       "    <tr>\n",
       "      <th>2021-12-26</th>\n",
       "      <td>0.190020</td>\n",
       "      <td>0.181330</td>\n",
       "    </tr>\n",
       "    <tr>\n",
       "      <th>2021-12-27</th>\n",
       "      <td>0.187705</td>\n",
       "      <td>0.179333</td>\n",
       "    </tr>\n",
       "    <tr>\n",
       "      <th>2021-12-28</th>\n",
       "      <td>0.174117</td>\n",
       "      <td>0.184848</td>\n",
       "    </tr>\n",
       "    <tr>\n",
       "      <th>2021-12-29</th>\n",
       "      <td>0.167765</td>\n",
       "      <td>0.183927</td>\n",
       "    </tr>\n",
       "    <tr>\n",
       "      <th>2021-12-30</th>\n",
       "      <td>0.171313</td>\n",
       "      <td>0.184007</td>\n",
       "    </tr>\n",
       "    <tr>\n",
       "      <th>2021-12-31</th>\n",
       "      <td>0.170496</td>\n",
       "      <td>0.184739</td>\n",
       "    </tr>\n",
       "  </tbody>\n",
       "</table>\n",
       "</div>\n",
       "      <button class=\"colab-df-convert\" onclick=\"convertToInteractive('df-c985f817-1424-4b0e-8741-5992fbf1496e')\"\n",
       "              title=\"Convert this dataframe to an interactive table.\"\n",
       "              style=\"display:none;\">\n",
       "        \n",
       "  <svg xmlns=\"http://www.w3.org/2000/svg\" height=\"24px\"viewBox=\"0 0 24 24\"\n",
       "       width=\"24px\">\n",
       "    <path d=\"M0 0h24v24H0V0z\" fill=\"none\"/>\n",
       "    <path d=\"M18.56 5.44l.94 2.06.94-2.06 2.06-.94-2.06-.94-.94-2.06-.94 2.06-2.06.94zm-11 1L8.5 8.5l.94-2.06 2.06-.94-2.06-.94L8.5 2.5l-.94 2.06-2.06.94zm10 10l.94 2.06.94-2.06 2.06-.94-2.06-.94-.94-2.06-.94 2.06-2.06.94z\"/><path d=\"M17.41 7.96l-1.37-1.37c-.4-.4-.92-.59-1.43-.59-.52 0-1.04.2-1.43.59L10.3 9.45l-7.72 7.72c-.78.78-.78 2.05 0 2.83L4 21.41c.39.39.9.59 1.41.59.51 0 1.02-.2 1.41-.59l7.78-7.78 2.81-2.81c.8-.78.8-2.07 0-2.86zM5.41 20L4 18.59l7.72-7.72 1.47 1.35L5.41 20z\"/>\n",
       "  </svg>\n",
       "      </button>\n",
       "      \n",
       "  <style>\n",
       "    .colab-df-container {\n",
       "      display:flex;\n",
       "      flex-wrap:wrap;\n",
       "      gap: 12px;\n",
       "    }\n",
       "\n",
       "    .colab-df-convert {\n",
       "      background-color: #E8F0FE;\n",
       "      border: none;\n",
       "      border-radius: 50%;\n",
       "      cursor: pointer;\n",
       "      display: none;\n",
       "      fill: #1967D2;\n",
       "      height: 32px;\n",
       "      padding: 0 0 0 0;\n",
       "      width: 32px;\n",
       "    }\n",
       "\n",
       "    .colab-df-convert:hover {\n",
       "      background-color: #E2EBFA;\n",
       "      box-shadow: 0px 1px 2px rgba(60, 64, 67, 0.3), 0px 1px 3px 1px rgba(60, 64, 67, 0.15);\n",
       "      fill: #174EA6;\n",
       "    }\n",
       "\n",
       "    [theme=dark] .colab-df-convert {\n",
       "      background-color: #3B4455;\n",
       "      fill: #D2E3FC;\n",
       "    }\n",
       "\n",
       "    [theme=dark] .colab-df-convert:hover {\n",
       "      background-color: #434B5C;\n",
       "      box-shadow: 0px 1px 3px 1px rgba(0, 0, 0, 0.15);\n",
       "      filter: drop-shadow(0px 1px 2px rgba(0, 0, 0, 0.3));\n",
       "      fill: #FFFFFF;\n",
       "    }\n",
       "  </style>\n",
       "\n",
       "      <script>\n",
       "        const buttonEl =\n",
       "          document.querySelector('#df-c985f817-1424-4b0e-8741-5992fbf1496e button.colab-df-convert');\n",
       "        buttonEl.style.display =\n",
       "          google.colab.kernel.accessAllowed ? 'block' : 'none';\n",
       "\n",
       "        async function convertToInteractive(key) {\n",
       "          const element = document.querySelector('#df-c985f817-1424-4b0e-8741-5992fbf1496e');\n",
       "          const dataTable =\n",
       "            await google.colab.kernel.invokeFunction('convertToInteractive',\n",
       "                                                     [key], {});\n",
       "          if (!dataTable) return;\n",
       "\n",
       "          const docLinkHtml = 'Like what you see? Visit the ' +\n",
       "            '<a target=\"_blank\" href=https://colab.research.google.com/notebooks/data_table.ipynb>data table notebook</a>'\n",
       "            + ' to learn more about interactive tables.';\n",
       "          element.innerHTML = '';\n",
       "          dataTable['output_type'] = 'display_data';\n",
       "          await google.colab.output.renderOutput(dataTable, element);\n",
       "          const docLink = document.createElement('div');\n",
       "          docLink.innerHTML = docLinkHtml;\n",
       "          element.appendChild(docLink);\n",
       "        }\n",
       "      </script>\n",
       "    </div>\n",
       "  </div>\n",
       "  "
      ],
      "text/plain": [
       "               Close  SARIMAX_Predictions\n",
       "Date                                     \n",
       "2021-12-17  0.169010             0.179695\n",
       "2021-12-18  0.172400             0.178867\n",
       "2021-12-19  0.169576             0.177248\n",
       "2021-12-20  0.167322             0.178839\n",
       "2021-12-21  0.171175             0.181003\n",
       "2021-12-22  0.173214             0.183166\n",
       "2021-12-23  0.184490             0.180418\n",
       "2021-12-24  0.186622             0.182719\n",
       "2021-12-25  0.190657             0.184297\n",
       "2021-12-26  0.190020             0.181330\n",
       "2021-12-27  0.187705             0.179333\n",
       "2021-12-28  0.174117             0.184848\n",
       "2021-12-29  0.167765             0.183927\n",
       "2021-12-30  0.171313             0.184007\n",
       "2021-12-31  0.170496             0.184739"
      ]
     },
     "execution_count": 490,
     "metadata": {},
     "output_type": "execute_result"
    }
   ],
   "source": [
    "test_data['SARIMAX_Predictions'] = model_1_pred\n",
    "test_data"
   ]
  },
  {
   "cell_type": "code",
   "execution_count": 491,
   "metadata": {
    "colab": {
     "base_uri": "https://localhost:8080/",
     "height": 486
    },
    "executionInfo": {
     "elapsed": 1622,
     "status": "ok",
     "timestamp": 1641091925902,
     "user": {
      "displayName": "Ruslan Shulhan",
      "photoUrl": "https://lh3.googleusercontent.com/a-/AOh14Gjwuxtlwg9WSlvNyShGXVeX_wkQ56fQFp5e25km=s64",
      "userId": "10991312474810858840"
     },
     "user_tz": 300
    },
    "id": "jOLnLIK2kQcj",
    "outputId": "255c08ea-8752-427e-a8cd-cf4790f9fd67"
   },
   "outputs": [
    {
     "data": {
      "text/html": [
       "<table class=\"simpletable\">\n",
       "<caption>SARIMAX Results</caption>\n",
       "<tr>\n",
       "  <th>Dep. Variable:</th>                 <td>Close</td>              <th>  No. Observations:  </th>    <td>349</td>   \n",
       "</tr>\n",
       "<tr>\n",
       "  <th>Model:</th>           <td>SARIMAX(0, 1, 3)x(1, 0, [1], 12)</td> <th>  Log Likelihood     </th>  <td>771.389</td> \n",
       "</tr>\n",
       "<tr>\n",
       "  <th>Date:</th>                    <td>Sun, 02 Jan 2022</td>         <th>  AIC                </th> <td>-1530.778</td>\n",
       "</tr>\n",
       "<tr>\n",
       "  <th>Time:</th>                        <td>02:52:06</td>             <th>  BIC                </th> <td>-1507.665</td>\n",
       "</tr>\n",
       "<tr>\n",
       "  <th>Sample:</th>                     <td>01-02-2021</td>            <th>  HQIC               </th> <td>-1521.576</td>\n",
       "</tr>\n",
       "<tr>\n",
       "  <th></th>                           <td>- 12-16-2021</td>           <th>                     </th>     <td> </td>    \n",
       "</tr>\n",
       "<tr>\n",
       "  <th>Covariance Type:</th>                <td>opg</td>               <th>                     </th>     <td> </td>    \n",
       "</tr>\n",
       "</table>\n",
       "<table class=\"simpletable\">\n",
       "<tr>\n",
       "      <td></td>        <th>coef</th>     <th>std err</th>      <th>z</th>      <th>P>|z|</th>  <th>[0.025</th>    <th>0.975]</th>  \n",
       "</tr>\n",
       "<tr>\n",
       "  <th>ma.L1</th>    <td>   -0.1448</td> <td>    0.026</td> <td>   -5.650</td> <td> 0.000</td> <td>   -0.195</td> <td>   -0.095</td>\n",
       "</tr>\n",
       "<tr>\n",
       "  <th>ma.L2</th>    <td>    0.1540</td> <td>    0.034</td> <td>    4.526</td> <td> 0.000</td> <td>    0.087</td> <td>    0.221</td>\n",
       "</tr>\n",
       "<tr>\n",
       "  <th>ma.L3</th>    <td>    0.1709</td> <td>    0.028</td> <td>    6.185</td> <td> 0.000</td> <td>    0.117</td> <td>    0.225</td>\n",
       "</tr>\n",
       "<tr>\n",
       "  <th>ar.S.L12</th> <td>    0.6364</td> <td>    0.198</td> <td>    3.213</td> <td> 0.001</td> <td>    0.248</td> <td>    1.025</td>\n",
       "</tr>\n",
       "<tr>\n",
       "  <th>ma.S.L12</th> <td>   -0.7754</td> <td>    0.181</td> <td>   -4.274</td> <td> 0.000</td> <td>   -1.131</td> <td>   -0.420</td>\n",
       "</tr>\n",
       "<tr>\n",
       "  <th>sigma2</th>   <td>    0.0007</td> <td>  2.2e-05</td> <td>   31.461</td> <td> 0.000</td> <td>    0.001</td> <td>    0.001</td>\n",
       "</tr>\n",
       "</table>\n",
       "<table class=\"simpletable\">\n",
       "<tr>\n",
       "  <th>Ljung-Box (L1) (Q):</th>     <td>0.00</td> <th>  Jarque-Bera (JB):  </th> <td>2189.41</td>\n",
       "</tr>\n",
       "<tr>\n",
       "  <th>Prob(Q):</th>                <td>0.98</td> <th>  Prob(JB):          </th>  <td>0.00</td>  \n",
       "</tr>\n",
       "<tr>\n",
       "  <th>Heteroskedasticity (H):</th> <td>0.32</td> <th>  Skew:              </th>  <td>1.16</td>  \n",
       "</tr>\n",
       "<tr>\n",
       "  <th>Prob(H) (two-sided):</th>    <td>0.00</td> <th>  Kurtosis:          </th>  <td>15.07</td> \n",
       "</tr>\n",
       "</table><br/><br/>Warnings:<br/>[1] Covariance matrix calculated using the outer product of gradients (complex-step)."
      ],
      "text/plain": [
       "<class 'statsmodels.iolib.summary.Summary'>\n",
       "\"\"\"\n",
       "                                      SARIMAX Results                                       \n",
       "============================================================================================\n",
       "Dep. Variable:                                Close   No. Observations:                  349\n",
       "Model:             SARIMAX(0, 1, 3)x(1, 0, [1], 12)   Log Likelihood                 771.389\n",
       "Date:                              Sun, 02 Jan 2022   AIC                          -1530.778\n",
       "Time:                                      02:52:06   BIC                          -1507.665\n",
       "Sample:                                  01-02-2021   HQIC                         -1521.576\n",
       "                                       - 12-16-2021                                         \n",
       "Covariance Type:                                opg                                         \n",
       "==============================================================================\n",
       "                 coef    std err          z      P>|z|      [0.025      0.975]\n",
       "------------------------------------------------------------------------------\n",
       "ma.L1         -0.1448      0.026     -5.650      0.000      -0.195      -0.095\n",
       "ma.L2          0.1540      0.034      4.526      0.000       0.087       0.221\n",
       "ma.L3          0.1709      0.028      6.185      0.000       0.117       0.225\n",
       "ar.S.L12       0.6364      0.198      3.213      0.001       0.248       1.025\n",
       "ma.S.L12      -0.7754      0.181     -4.274      0.000      -1.131      -0.420\n",
       "sigma2         0.0007    2.2e-05     31.461      0.000       0.001       0.001\n",
       "===================================================================================\n",
       "Ljung-Box (L1) (Q):                   0.00   Jarque-Bera (JB):              2189.41\n",
       "Prob(Q):                              0.98   Prob(JB):                         0.00\n",
       "Heteroskedasticity (H):               0.32   Skew:                             1.16\n",
       "Prob(H) (two-sided):                  0.00   Kurtosis:                        15.07\n",
       "===================================================================================\n",
       "\n",
       "Warnings:\n",
       "[1] Covariance matrix calculated using the outer product of gradients (complex-step).\n",
       "\"\"\""
      ]
     },
     "execution_count": 491,
     "metadata": {},
     "output_type": "execute_result"
    }
   ],
   "source": [
    "# applying SARIMA model for whole dataset\n",
    "model_1_final = SARIMAX(df_idx_grp['Close'], order=(0, 1, 3),\n",
    "                  seasonal_order=(1, 0, 1, 12))\n",
    "model_1_result_final = model_1.fit()\n",
    "model_1_result_final.summary()"
   ]
  },
  {
   "cell_type": "code",
   "execution_count": 492,
   "metadata": {
    "colab": {
     "base_uri": "https://localhost:8080/"
    },
    "executionInfo": {
     "elapsed": 12,
     "status": "ok",
     "timestamp": 1641091925904,
     "user": {
      "displayName": "Ruslan Shulhan",
      "photoUrl": "https://lh3.googleusercontent.com/a-/AOh14Gjwuxtlwg9WSlvNyShGXVeX_wkQ56fQFp5e25km=s64",
      "userId": "10991312474810858840"
     },
     "user_tz": 300
    },
    "id": "veofjyjMlSmU",
    "outputId": "16ac99d4-2491-4092-b7ab-43749ccb2ffc"
   },
   "outputs": [
    {
     "data": {
      "text/plain": [
       "2022-01-01    0.185751\n",
       "2022-01-02    0.187129\n",
       "2022-01-03    0.188505\n",
       "2022-01-04    0.186757\n",
       "2022-01-05    0.188221\n",
       "2022-01-06    0.189225\n",
       "2022-01-07    0.187336\n",
       "2022-01-08    0.186066\n",
       "2022-01-09    0.189575\n",
       "2022-01-10    0.188989\n",
       "2022-01-11    0.189040\n",
       "2022-01-12    0.189506\n",
       "2022-01-13    0.190150\n",
       "2022-01-14    0.191027\n",
       "2022-01-15    0.191902\n",
       "2022-01-16    0.190790\n",
       "Freq: D, Name: predicted_mean, dtype: float64"
      ]
     },
     "execution_count": 492,
     "metadata": {},
     "output_type": "execute_result"
    }
   ],
   "source": [
    "# let's see the predicted results from SARIMA for whole dataset \n",
    "model_1_pred_final = model_1_result_final.predict(start=len(df_idx_grp),\n",
    "                                      end=len(df_idx_grp)+15, typ='levels')\n",
    "model_1_pred_final"
   ]
  },
  {
   "cell_type": "code",
   "execution_count": 493,
   "metadata": {
    "colab": {
     "base_uri": "https://localhost:8080/",
     "height": 551
    },
    "executionInfo": {
     "elapsed": 10,
     "status": "ok",
     "timestamp": 1641091925905,
     "user": {
      "displayName": "Ruslan Shulhan",
      "photoUrl": "https://lh3.googleusercontent.com/a-/AOh14Gjwuxtlwg9WSlvNyShGXVeX_wkQ56fQFp5e25km=s64",
      "userId": "10991312474810858840"
     },
     "user_tz": 300
    },
    "id": "zw4z3Q_4maM-",
    "outputId": "03338bdc-9873-48c8-8533-28edf4f4277e"
   },
   "outputs": [
    {
     "data": {
      "text/html": [
       "\n",
       "  <div id=\"df-2f22bb49-7af7-42e2-97fb-a0176e2d179d\">\n",
       "    <div class=\"colab-df-container\">\n",
       "      <div>\n",
       "<style scoped>\n",
       "    .dataframe tbody tr th:only-of-type {\n",
       "        vertical-align: middle;\n",
       "    }\n",
       "\n",
       "    .dataframe tbody tr th {\n",
       "        vertical-align: top;\n",
       "    }\n",
       "\n",
       "    .dataframe thead th {\n",
       "        text-align: right;\n",
       "    }\n",
       "</style>\n",
       "<table border=\"1\" class=\"dataframe\">\n",
       "  <thead>\n",
       "    <tr style=\"text-align: right;\">\n",
       "      <th></th>\n",
       "      <th>DatetimeIndex</th>\n",
       "      <th>SARIMAX_2022</th>\n",
       "    </tr>\n",
       "  </thead>\n",
       "  <tbody>\n",
       "    <tr>\n",
       "      <th>0</th>\n",
       "      <td>2022-01-01</td>\n",
       "      <td>0.185751</td>\n",
       "    </tr>\n",
       "    <tr>\n",
       "      <th>1</th>\n",
       "      <td>2022-01-02</td>\n",
       "      <td>0.187129</td>\n",
       "    </tr>\n",
       "    <tr>\n",
       "      <th>2</th>\n",
       "      <td>2022-01-03</td>\n",
       "      <td>0.188505</td>\n",
       "    </tr>\n",
       "    <tr>\n",
       "      <th>3</th>\n",
       "      <td>2022-01-04</td>\n",
       "      <td>0.186757</td>\n",
       "    </tr>\n",
       "    <tr>\n",
       "      <th>4</th>\n",
       "      <td>2022-01-05</td>\n",
       "      <td>0.188221</td>\n",
       "    </tr>\n",
       "    <tr>\n",
       "      <th>5</th>\n",
       "      <td>2022-01-06</td>\n",
       "      <td>0.189225</td>\n",
       "    </tr>\n",
       "    <tr>\n",
       "      <th>6</th>\n",
       "      <td>2022-01-07</td>\n",
       "      <td>0.187336</td>\n",
       "    </tr>\n",
       "    <tr>\n",
       "      <th>7</th>\n",
       "      <td>2022-01-08</td>\n",
       "      <td>0.186066</td>\n",
       "    </tr>\n",
       "    <tr>\n",
       "      <th>8</th>\n",
       "      <td>2022-01-09</td>\n",
       "      <td>0.189575</td>\n",
       "    </tr>\n",
       "    <tr>\n",
       "      <th>9</th>\n",
       "      <td>2022-01-10</td>\n",
       "      <td>0.188989</td>\n",
       "    </tr>\n",
       "    <tr>\n",
       "      <th>10</th>\n",
       "      <td>2022-01-11</td>\n",
       "      <td>0.189040</td>\n",
       "    </tr>\n",
       "    <tr>\n",
       "      <th>11</th>\n",
       "      <td>2022-01-12</td>\n",
       "      <td>0.189506</td>\n",
       "    </tr>\n",
       "    <tr>\n",
       "      <th>12</th>\n",
       "      <td>2022-01-13</td>\n",
       "      <td>0.190150</td>\n",
       "    </tr>\n",
       "    <tr>\n",
       "      <th>13</th>\n",
       "      <td>2022-01-14</td>\n",
       "      <td>0.191027</td>\n",
       "    </tr>\n",
       "    <tr>\n",
       "      <th>14</th>\n",
       "      <td>2022-01-15</td>\n",
       "      <td>0.191902</td>\n",
       "    </tr>\n",
       "    <tr>\n",
       "      <th>15</th>\n",
       "      <td>2022-01-16</td>\n",
       "      <td>0.190790</td>\n",
       "    </tr>\n",
       "  </tbody>\n",
       "</table>\n",
       "</div>\n",
       "      <button class=\"colab-df-convert\" onclick=\"convertToInteractive('df-2f22bb49-7af7-42e2-97fb-a0176e2d179d')\"\n",
       "              title=\"Convert this dataframe to an interactive table.\"\n",
       "              style=\"display:none;\">\n",
       "        \n",
       "  <svg xmlns=\"http://www.w3.org/2000/svg\" height=\"24px\"viewBox=\"0 0 24 24\"\n",
       "       width=\"24px\">\n",
       "    <path d=\"M0 0h24v24H0V0z\" fill=\"none\"/>\n",
       "    <path d=\"M18.56 5.44l.94 2.06.94-2.06 2.06-.94-2.06-.94-.94-2.06-.94 2.06-2.06.94zm-11 1L8.5 8.5l.94-2.06 2.06-.94-2.06-.94L8.5 2.5l-.94 2.06-2.06.94zm10 10l.94 2.06.94-2.06 2.06-.94-2.06-.94-.94-2.06-.94 2.06-2.06.94z\"/><path d=\"M17.41 7.96l-1.37-1.37c-.4-.4-.92-.59-1.43-.59-.52 0-1.04.2-1.43.59L10.3 9.45l-7.72 7.72c-.78.78-.78 2.05 0 2.83L4 21.41c.39.39.9.59 1.41.59.51 0 1.02-.2 1.41-.59l7.78-7.78 2.81-2.81c.8-.78.8-2.07 0-2.86zM5.41 20L4 18.59l7.72-7.72 1.47 1.35L5.41 20z\"/>\n",
       "  </svg>\n",
       "      </button>\n",
       "      \n",
       "  <style>\n",
       "    .colab-df-container {\n",
       "      display:flex;\n",
       "      flex-wrap:wrap;\n",
       "      gap: 12px;\n",
       "    }\n",
       "\n",
       "    .colab-df-convert {\n",
       "      background-color: #E8F0FE;\n",
       "      border: none;\n",
       "      border-radius: 50%;\n",
       "      cursor: pointer;\n",
       "      display: none;\n",
       "      fill: #1967D2;\n",
       "      height: 32px;\n",
       "      padding: 0 0 0 0;\n",
       "      width: 32px;\n",
       "    }\n",
       "\n",
       "    .colab-df-convert:hover {\n",
       "      background-color: #E2EBFA;\n",
       "      box-shadow: 0px 1px 2px rgba(60, 64, 67, 0.3), 0px 1px 3px 1px rgba(60, 64, 67, 0.15);\n",
       "      fill: #174EA6;\n",
       "    }\n",
       "\n",
       "    [theme=dark] .colab-df-convert {\n",
       "      background-color: #3B4455;\n",
       "      fill: #D2E3FC;\n",
       "    }\n",
       "\n",
       "    [theme=dark] .colab-df-convert:hover {\n",
       "      background-color: #434B5C;\n",
       "      box-shadow: 0px 1px 3px 1px rgba(0, 0, 0, 0.15);\n",
       "      filter: drop-shadow(0px 1px 2px rgba(0, 0, 0, 0.3));\n",
       "      fill: #FFFFFF;\n",
       "    }\n",
       "  </style>\n",
       "\n",
       "      <script>\n",
       "        const buttonEl =\n",
       "          document.querySelector('#df-2f22bb49-7af7-42e2-97fb-a0176e2d179d button.colab-df-convert');\n",
       "        buttonEl.style.display =\n",
       "          google.colab.kernel.accessAllowed ? 'block' : 'none';\n",
       "\n",
       "        async function convertToInteractive(key) {\n",
       "          const element = document.querySelector('#df-2f22bb49-7af7-42e2-97fb-a0176e2d179d');\n",
       "          const dataTable =\n",
       "            await google.colab.kernel.invokeFunction('convertToInteractive',\n",
       "                                                     [key], {});\n",
       "          if (!dataTable) return;\n",
       "\n",
       "          const docLinkHtml = 'Like what you see? Visit the ' +\n",
       "            '<a target=\"_blank\" href=https://colab.research.google.com/notebooks/data_table.ipynb>data table notebook</a>'\n",
       "            + ' to learn more about interactive tables.';\n",
       "          element.innerHTML = '';\n",
       "          dataTable['output_type'] = 'display_data';\n",
       "          await google.colab.output.renderOutput(dataTable, element);\n",
       "          const docLink = document.createElement('div');\n",
       "          docLink.innerHTML = docLinkHtml;\n",
       "          element.appendChild(docLink);\n",
       "        }\n",
       "      </script>\n",
       "    </div>\n",
       "  </div>\n",
       "  "
      ],
      "text/plain": [
       "   DatetimeIndex  SARIMAX_2022\n",
       "0     2022-01-01      0.185751\n",
       "1     2022-01-02      0.187129\n",
       "2     2022-01-03      0.188505\n",
       "3     2022-01-04      0.186757\n",
       "4     2022-01-05      0.188221\n",
       "5     2022-01-06      0.189225\n",
       "6     2022-01-07      0.187336\n",
       "7     2022-01-08      0.186066\n",
       "8     2022-01-09      0.189575\n",
       "9     2022-01-10      0.188989\n",
       "10    2022-01-11      0.189040\n",
       "11    2022-01-12      0.189506\n",
       "12    2022-01-13      0.190150\n",
       "13    2022-01-14      0.191027\n",
       "14    2022-01-15      0.191902\n",
       "15    2022-01-16      0.190790"
      ]
     },
     "execution_count": 493,
     "metadata": {},
     "output_type": "execute_result"
    }
   ],
   "source": [
    "# saving results\n",
    "dogecoin_price_prediction_2022 = {}\n",
    "dogecoin_price_prediction_2022[\"DatetimeIndex\"] = model_1_pred_final.index\n",
    "dogecoin_price_prediction_2022[\"SARIMAX_2022\"] = model_1_pred_final.values\n",
    "dogecoin_price_prediction_2022 = pd.DataFrame(dogecoin_price_prediction_2022)\n",
    "dogecoin_price_prediction_2022"
   ]
  },
  {
   "cell_type": "code",
   "execution_count": 494,
   "metadata": {
    "colab": {
     "base_uri": "https://localhost:8080/",
     "height": 479
    },
    "executionInfo": {
     "elapsed": 531,
     "status": "ok",
     "timestamp": 1641091926427,
     "user": {
      "displayName": "Ruslan Shulhan",
      "photoUrl": "https://lh3.googleusercontent.com/a-/AOh14Gjwuxtlwg9WSlvNyShGXVeX_wkQ56fQFp5e25km=s64",
      "userId": "10991312474810858840"
     },
     "user_tz": 300
    },
    "id": "rqhUA90lfebP",
    "outputId": "45050cda-378a-419e-9722-d3d2ae6fccdb"
   },
   "outputs": [
    {
     "data": {
      "image/png": "[encoded data removed]",
      "text/plain": [
       "<Figure size 842.4x523.44 with 1 Axes>"
      ]
     },
     "metadata": {},
     "output_type": "display_data"
    }
   ],
   "source": [
    "# graphing prediction\n",
    "_ = plt.plot(model_1_pred_final.index, model_1_pred_final.values)\n",
    "_ = plt.title(\"Forecasting for 2022 (first two weeks of Jan)\")\n",
    "_ = plt.ylabel(\"Stock price (USD)\")\n",
    "_ = plt.xlabel(\"Date\")\n",
    "plt.show()"
   ]
  }
 ],
 "metadata": {
  "colab": {
   "authorship_tag": "ABX9TyP/WBDY1j4pLJbtqco3mAP5",
   "collapsed_sections": [],
   "mount_file_id": "1hpV5az-6fUEkt5uzOzqfjW5X0PKNcM5U",
   "name": "Time_Series_Analysis_5-Forecasting_Dogecoin_With_SARIMA_FINAL.ipynb",
   "provenance": []
  },
  "kernelspec": {
   "display_name": "Python 3",
   "language": "python",
   "name": "python3"
  },
  "language_info": {
   "codemirror_mode": {
    "name": "ipython",
    "version": 3
   },
   "file_extension": ".py",
   "mimetype": "text/x-python",
   "name": "python",
   "nbconvert_exporter": "python",
   "pygments_lexer": "ipython3",
   "version": "3.8.5"
  }
 },
 "nbformat": 4,
 "nbformat_minor": 1
}
