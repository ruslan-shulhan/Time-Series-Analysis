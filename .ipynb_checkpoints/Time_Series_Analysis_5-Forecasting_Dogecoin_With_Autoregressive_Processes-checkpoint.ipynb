{
 "cells": [
  {
   "cell_type": "markdown",
   "metadata": {
    "id": "3lf1JnMg06HO"
   },
   "source": [
    "### **Time Series Forecasting with Autoregressive Processes - DogeCoin**"
   ]
  },
  {
   "cell_type": "markdown",
   "metadata": {
    "id": "K3cD7SAG1KFo"
   },
   "source": [
    "**Objective**: predict DogeCoin stock price for first two weeks of Jan, 2022"
   ]
  },
  {
   "cell_type": "markdown",
   "metadata": {
    "id": "_TBW0RtH1Xfk"
   },
   "source": [
    "**Origin of dataset:** [link text](https://finance.yahoo.com/quote/DOGE-USD/history/)"
   ]
  },
  {
   "cell_type": "markdown",
   "metadata": {
    "id": "pzj-xHLX3X5H"
   },
   "source": [
    "**Constrains:** AR(p) model is applied to stationary time series only."
   ]
  },
  {
   "cell_type": "markdown",
   "metadata": {
    "id": "KoCbBRMi4DD-"
   },
   "source": [
    "![temp_1.png](data:image/png;base64,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)"
   ]
  },
  {
   "cell_type": "markdown",
   "metadata": {
    "id": "WUQvuIqB4YdI"
   },
   "source": [
    "**Where:** '*p*' is the order number; '*c*' is a constant; '*epsilon*' is noise."
   ]
  },
  {
   "cell_type": "code",
   "execution_count": 3,
   "metadata": {
    "colab": {
     "base_uri": "https://localhost:8080/",
     "height": 34
    },
    "executionInfo": {
     "elapsed": 10,
     "status": "ok",
     "timestamp": 1641244446105,
     "user": {
      "displayName": "Ruslan Shulhan",
      "photoUrl": "https://lh3.googleusercontent.com/a-/AOh14Gjwuxtlwg9WSlvNyShGXVeX_wkQ56fQFp5e25km=s64",
      "userId": "10991312474810858840"
     },
     "user_tz": 300
    },
    "id": "cQmetrzr0sAe",
    "outputId": "acbbdf71-70e6-428b-8e05-56c56b093a6d"
   },
   "outputs": [
    {
     "data": {
      "text/plain": [
       "<Figure size 864x432 with 0 Axes>"
      ]
     },
     "metadata": {},
     "output_type": "display_data"
    }
   ],
   "source": [
    "# loadng libraries\n",
    "import warnings\n",
    "warnings.filterwarnings('ignore')\n",
    "\n",
    "import numpy as np\n",
    "import pandas as pd\n",
    "\n",
    "import matplotlib.pyplot as plt\n",
    "%matplotlib inline\n",
    "import seaborn as sns\n",
    "plt.figure(figsize = (12, 6))\n",
    "sns.set(rc={'figure.figsize':(11.7,7.27)})\n",
    "sns.set_style(\"darkgrid\", {\"grid.color\": \".6\", \"grid.linestyle\": \":\"})\n",
    "\n",
    "from statsmodels.graphics.tsaplots import plot_pacf, plot_acf\n",
    "from statsmodels.tsa.arima_process import ArmaProcess\n",
    "from statsmodels.tsa.stattools import pacf\n",
    "from statsmodels.regression.linear_model import yule_walker\n",
    "from statsmodels.tsa.stattools import adfuller\n",
    "\n",
    "from statsmodels.tsa.ar_model import AR\n",
    "\n",
    "from sklearn.metrics import mean_squared_error, mean_absolute_error\n",
    "import math"
   ]
  },
  {
   "cell_type": "code",
   "execution_count": 4,
   "metadata": {
    "colab": {
     "base_uri": "https://localhost:8080/",
     "height": 423
    },
    "executionInfo": {
     "elapsed": 1468,
     "status": "ok",
     "timestamp": 1641244447567,
     "user": {
      "displayName": "Ruslan Shulhan",
      "photoUrl": "https://lh3.googleusercontent.com/a-/AOh14Gjwuxtlwg9WSlvNyShGXVeX_wkQ56fQFp5e25km=s64",
      "userId": "10991312474810858840"
     },
     "user_tz": 300
    },
    "id": "X6fEGtBR17_L",
    "outputId": "1afeb130-1aeb-45f5-a933-aad1e16b3cab"
   },
   "outputs": [
    {
     "data": {
      "text/html": [
       "\n",
       "  <div id=\"df-5cbc2faa-2e37-46d8-9aef-9f9c2729b2ab\">\n",
       "    <div class=\"colab-df-container\">\n",
       "      <div>\n",
       "<style scoped>\n",
       "    .dataframe tbody tr th:only-of-type {\n",
       "        vertical-align: middle;\n",
       "    }\n",
       "\n",
       "    .dataframe tbody tr th {\n",
       "        vertical-align: top;\n",
       "    }\n",
       "\n",
       "    .dataframe thead th {\n",
       "        text-align: right;\n",
       "    }\n",
       "</style>\n",
       "<table border=\"1\" class=\"dataframe\">\n",
       "  <thead>\n",
       "    <tr style=\"text-align: right;\">\n",
       "      <th></th>\n",
       "      <th>Date</th>\n",
       "      <th>Open</th>\n",
       "      <th>High</th>\n",
       "      <th>Low</th>\n",
       "      <th>Close</th>\n",
       "      <th>Adj Close</th>\n",
       "      <th>Volume</th>\n",
       "    </tr>\n",
       "  </thead>\n",
       "  <tbody>\n",
       "    <tr>\n",
       "      <th>0</th>\n",
       "      <td>2021-01-02</td>\n",
       "      <td>0.005686</td>\n",
       "      <td>0.013698</td>\n",
       "      <td>0.005584</td>\n",
       "      <td>0.010615</td>\n",
       "      <td>0.010615</td>\n",
       "      <td>3.421563e+09</td>\n",
       "    </tr>\n",
       "    <tr>\n",
       "      <th>1</th>\n",
       "      <td>2021-01-03</td>\n",
       "      <td>0.010602</td>\n",
       "      <td>0.013867</td>\n",
       "      <td>0.009409</td>\n",
       "      <td>0.009771</td>\n",
       "      <td>0.009771</td>\n",
       "      <td>2.707004e+09</td>\n",
       "    </tr>\n",
       "    <tr>\n",
       "      <th>2</th>\n",
       "      <td>2021-01-04</td>\n",
       "      <td>0.009785</td>\n",
       "      <td>0.011421</td>\n",
       "      <td>0.007878</td>\n",
       "      <td>0.009767</td>\n",
       "      <td>0.009767</td>\n",
       "      <td>1.372399e+09</td>\n",
       "    </tr>\n",
       "    <tr>\n",
       "      <th>3</th>\n",
       "      <td>2021-01-05</td>\n",
       "      <td>0.009767</td>\n",
       "      <td>0.010219</td>\n",
       "      <td>0.008972</td>\n",
       "      <td>0.009920</td>\n",
       "      <td>0.009920</td>\n",
       "      <td>6.872561e+08</td>\n",
       "    </tr>\n",
       "    <tr>\n",
       "      <th>4</th>\n",
       "      <td>2021-01-06</td>\n",
       "      <td>0.009923</td>\n",
       "      <td>0.010854</td>\n",
       "      <td>0.009685</td>\n",
       "      <td>0.010465</td>\n",
       "      <td>0.010465</td>\n",
       "      <td>7.499155e+08</td>\n",
       "    </tr>\n",
       "    <tr>\n",
       "      <th>...</th>\n",
       "      <td>...</td>\n",
       "      <td>...</td>\n",
       "      <td>...</td>\n",
       "      <td>...</td>\n",
       "      <td>...</td>\n",
       "      <td>...</td>\n",
       "      <td>...</td>\n",
       "    </tr>\n",
       "    <tr>\n",
       "      <th>361</th>\n",
       "      <td>2021-12-29</td>\n",
       "      <td>0.174095</td>\n",
       "      <td>0.177339</td>\n",
       "      <td>0.166760</td>\n",
       "      <td>0.167765</td>\n",
       "      <td>0.167765</td>\n",
       "      <td>8.236283e+08</td>\n",
       "    </tr>\n",
       "    <tr>\n",
       "      <th>362</th>\n",
       "      <td>2021-12-30</td>\n",
       "      <td>0.168137</td>\n",
       "      <td>0.175771</td>\n",
       "      <td>0.165381</td>\n",
       "      <td>0.171313</td>\n",
       "      <td>0.171313</td>\n",
       "      <td>5.992368e+08</td>\n",
       "    </tr>\n",
       "    <tr>\n",
       "      <th>363</th>\n",
       "      <td>2021-12-31</td>\n",
       "      <td>0.171317</td>\n",
       "      <td>0.175294</td>\n",
       "      <td>0.167307</td>\n",
       "      <td>0.170496</td>\n",
       "      <td>0.170496</td>\n",
       "      <td>6.444167e+08</td>\n",
       "    </tr>\n",
       "    <tr>\n",
       "      <th>364</th>\n",
       "      <td>2022-01-01</td>\n",
       "      <td>NaN</td>\n",
       "      <td>NaN</td>\n",
       "      <td>NaN</td>\n",
       "      <td>NaN</td>\n",
       "      <td>NaN</td>\n",
       "      <td>NaN</td>\n",
       "    </tr>\n",
       "    <tr>\n",
       "      <th>365</th>\n",
       "      <td>2022-01-02</td>\n",
       "      <td>0.173025</td>\n",
       "      <td>0.173139</td>\n",
       "      <td>0.172475</td>\n",
       "      <td>0.172649</td>\n",
       "      <td>0.172649</td>\n",
       "      <td>3.608727e+08</td>\n",
       "    </tr>\n",
       "  </tbody>\n",
       "</table>\n",
       "<p>366 rows × 7 columns</p>\n",
       "</div>\n",
       "      <button class=\"colab-df-convert\" onclick=\"convertToInteractive('df-5cbc2faa-2e37-46d8-9aef-9f9c2729b2ab')\"\n",
       "              title=\"Convert this dataframe to an interactive table.\"\n",
       "              style=\"display:none;\">\n",
       "        \n",
       "  <svg xmlns=\"http://www.w3.org/2000/svg\" height=\"24px\"viewBox=\"0 0 24 24\"\n",
       "       width=\"24px\">\n",
       "    <path d=\"M0 0h24v24H0V0z\" fill=\"none\"/>\n",
       "    <path d=\"M18.56 5.44l.94 2.06.94-2.06 2.06-.94-2.06-.94-.94-2.06-.94 2.06-2.06.94zm-11 1L8.5 8.5l.94-2.06 2.06-.94-2.06-.94L8.5 2.5l-.94 2.06-2.06.94zm10 10l.94 2.06.94-2.06 2.06-.94-2.06-.94-.94-2.06-.94 2.06-2.06.94z\"/><path d=\"M17.41 7.96l-1.37-1.37c-.4-.4-.92-.59-1.43-.59-.52 0-1.04.2-1.43.59L10.3 9.45l-7.72 7.72c-.78.78-.78 2.05 0 2.83L4 21.41c.39.39.9.59 1.41.59.51 0 1.02-.2 1.41-.59l7.78-7.78 2.81-2.81c.8-.78.8-2.07 0-2.86zM5.41 20L4 18.59l7.72-7.72 1.47 1.35L5.41 20z\"/>\n",
       "  </svg>\n",
       "      </button>\n",
       "      \n",
       "  <style>\n",
       "    .colab-df-container {\n",
       "      display:flex;\n",
       "      flex-wrap:wrap;\n",
       "      gap: 12px;\n",
       "    }\n",
       "\n",
       "    .colab-df-convert {\n",
       "      background-color: #E8F0FE;\n",
       "      border: none;\n",
       "      border-radius: 50%;\n",
       "      cursor: pointer;\n",
       "      display: none;\n",
       "      fill: #1967D2;\n",
       "      height: 32px;\n",
       "      padding: 0 0 0 0;\n",
       "      width: 32px;\n",
       "    }\n",
       "\n",
       "    .colab-df-convert:hover {\n",
       "      background-color: #E2EBFA;\n",
       "      box-shadow: 0px 1px 2px rgba(60, 64, 67, 0.3), 0px 1px 3px 1px rgba(60, 64, 67, 0.15);\n",
       "      fill: #174EA6;\n",
       "    }\n",
       "\n",
       "    [theme=dark] .colab-df-convert {\n",
       "      background-color: #3B4455;\n",
       "      fill: #D2E3FC;\n",
       "    }\n",
       "\n",
       "    [theme=dark] .colab-df-convert:hover {\n",
       "      background-color: #434B5C;\n",
       "      box-shadow: 0px 1px 3px 1px rgba(0, 0, 0, 0.15);\n",
       "      filter: drop-shadow(0px 1px 2px rgba(0, 0, 0, 0.3));\n",
       "      fill: #FFFFFF;\n",
       "    }\n",
       "  </style>\n",
       "\n",
       "      <script>\n",
       "        const buttonEl =\n",
       "          document.querySelector('#df-5cbc2faa-2e37-46d8-9aef-9f9c2729b2ab button.colab-df-convert');\n",
       "        buttonEl.style.display =\n",
       "          google.colab.kernel.accessAllowed ? 'block' : 'none';\n",
       "\n",
       "        async function convertToInteractive(key) {\n",
       "          const element = document.querySelector('#df-5cbc2faa-2e37-46d8-9aef-9f9c2729b2ab');\n",
       "          const dataTable =\n",
       "            await google.colab.kernel.invokeFunction('convertToInteractive',\n",
       "                                                     [key], {});\n",
       "          if (!dataTable) return;\n",
       "\n",
       "          const docLinkHtml = 'Like what you see? Visit the ' +\n",
       "            '<a target=\"_blank\" href=https://colab.research.google.com/notebooks/data_table.ipynb>data table notebook</a>'\n",
       "            + ' to learn more about interactive tables.';\n",
       "          element.innerHTML = '';\n",
       "          dataTable['output_type'] = 'display_data';\n",
       "          await google.colab.output.renderOutput(dataTable, element);\n",
       "          const docLink = document.createElement('div');\n",
       "          docLink.innerHTML = docLinkHtml;\n",
       "          element.appendChild(docLink);\n",
       "        }\n",
       "      </script>\n",
       "    </div>\n",
       "  </div>\n",
       "  "
      ],
      "text/plain": [
       "           Date      Open      High  ...     Close  Adj Close        Volume\n",
       "0    2021-01-02  0.005686  0.013698  ...  0.010615   0.010615  3.421563e+09\n",
       "1    2021-01-03  0.010602  0.013867  ...  0.009771   0.009771  2.707004e+09\n",
       "2    2021-01-04  0.009785  0.011421  ...  0.009767   0.009767  1.372399e+09\n",
       "3    2021-01-05  0.009767  0.010219  ...  0.009920   0.009920  6.872561e+08\n",
       "4    2021-01-06  0.009923  0.010854  ...  0.010465   0.010465  7.499155e+08\n",
       "..          ...       ...       ...  ...       ...        ...           ...\n",
       "361  2021-12-29  0.174095  0.177339  ...  0.167765   0.167765  8.236283e+08\n",
       "362  2021-12-30  0.168137  0.175771  ...  0.171313   0.171313  5.992368e+08\n",
       "363  2021-12-31  0.171317  0.175294  ...  0.170496   0.170496  6.444167e+08\n",
       "364  2022-01-01       NaN       NaN  ...       NaN        NaN           NaN\n",
       "365  2022-01-02  0.173025  0.173139  ...  0.172649   0.172649  3.608727e+08\n",
       "\n",
       "[366 rows x 7 columns]"
      ]
     },
     "execution_count": 4,
     "metadata": {},
     "output_type": "execute_result"
    }
   ],
   "source": [
    "# loading data\n",
    "path = \"/content/drive/MyDrive/Colab Notebooks/data/4/DOGE-USD.csv\"\n",
    "df = pd.read_csv(path)\n",
    "df"
   ]
  },
  {
   "cell_type": "code",
   "execution_count": 5,
   "metadata": {
    "colab": {
     "base_uri": "https://localhost:8080/"
    },
    "executionInfo": {
     "elapsed": 8,
     "status": "ok",
     "timestamp": 1641244447567,
     "user": {
      "displayName": "Ruslan Shulhan",
      "photoUrl": "https://lh3.googleusercontent.com/a-/AOh14Gjwuxtlwg9WSlvNyShGXVeX_wkQ56fQFp5e25km=s64",
      "userId": "10991312474810858840"
     },
     "user_tz": 300
    },
    "id": "vTtr_4M43RH9",
    "outputId": "4e0b37f0-7c4f-4cb4-c098-17de5d7bd871"
   },
   "outputs": [
    {
     "data": {
      "text/plain": [
       "Index(['Date', 'Close'], dtype='object')"
      ]
     },
     "execution_count": 5,
     "metadata": {},
     "output_type": "execute_result"
    }
   ],
   "source": [
    "# dropping irrelevant columns\n",
    "df = df[['Date', 'Close']]\n",
    "df.columns"
   ]
  },
  {
   "cell_type": "code",
   "execution_count": 6,
   "metadata": {
    "colab": {
     "base_uri": "https://localhost:8080/"
    },
    "executionInfo": {
     "elapsed": 32,
     "status": "ok",
     "timestamp": 1641244447864,
     "user": {
      "displayName": "Ruslan Shulhan",
      "photoUrl": "https://lh3.googleusercontent.com/a-/AOh14Gjwuxtlwg9WSlvNyShGXVeX_wkQ56fQFp5e25km=s64",
      "userId": "10991312474810858840"
     },
     "user_tz": 300
    },
    "id": "fxOvKPPn8BtR",
    "outputId": "d5384734-5c65-48ae-9159-c0e59ee697ae"
   },
   "outputs": [
    {
     "data": {
      "text/plain": [
       "Date     0\n",
       "Close    1\n",
       "dtype: int64"
      ]
     },
     "execution_count": 6,
     "metadata": {},
     "output_type": "execute_result"
    }
   ],
   "source": [
    "# checking for missing values\n",
    "df.isnull().sum()"
   ]
  },
  {
   "cell_type": "code",
   "execution_count": 7,
   "metadata": {
    "colab": {
     "base_uri": "https://localhost:8080/",
     "height": 81
    },
    "executionInfo": {
     "elapsed": 31,
     "status": "ok",
     "timestamp": 1641244447866,
     "user": {
      "displayName": "Ruslan Shulhan",
      "photoUrl": "https://lh3.googleusercontent.com/a-/AOh14Gjwuxtlwg9WSlvNyShGXVeX_wkQ56fQFp5e25km=s64",
      "userId": "10991312474810858840"
     },
     "user_tz": 300
    },
    "id": "47W4_n6B8Haq",
    "outputId": "e7a87e68-ac1d-4c00-93b1-390bf6ee7d75"
   },
   "outputs": [
    {
     "data": {
      "text/html": [
       "\n",
       "  <div id=\"df-11f06ca6-c7a8-4956-bf42-976a7a071a58\">\n",
       "    <div class=\"colab-df-container\">\n",
       "      <div>\n",
       "<style scoped>\n",
       "    .dataframe tbody tr th:only-of-type {\n",
       "        vertical-align: middle;\n",
       "    }\n",
       "\n",
       "    .dataframe tbody tr th {\n",
       "        vertical-align: top;\n",
       "    }\n",
       "\n",
       "    .dataframe thead th {\n",
       "        text-align: right;\n",
       "    }\n",
       "</style>\n",
       "<table border=\"1\" class=\"dataframe\">\n",
       "  <thead>\n",
       "    <tr style=\"text-align: right;\">\n",
       "      <th></th>\n",
       "      <th>Date</th>\n",
       "      <th>Close</th>\n",
       "    </tr>\n",
       "  </thead>\n",
       "  <tbody>\n",
       "    <tr>\n",
       "      <th>364</th>\n",
       "      <td>2022-01-01</td>\n",
       "      <td>NaN</td>\n",
       "    </tr>\n",
       "  </tbody>\n",
       "</table>\n",
       "</div>\n",
       "      <button class=\"colab-df-convert\" onclick=\"convertToInteractive('df-11f06ca6-c7a8-4956-bf42-976a7a071a58')\"\n",
       "              title=\"Convert this dataframe to an interactive table.\"\n",
       "              style=\"display:none;\">\n",
       "        \n",
       "  <svg xmlns=\"http://www.w3.org/2000/svg\" height=\"24px\"viewBox=\"0 0 24 24\"\n",
       "       width=\"24px\">\n",
       "    <path d=\"M0 0h24v24H0V0z\" fill=\"none\"/>\n",
       "    <path d=\"M18.56 5.44l.94 2.06.94-2.06 2.06-.94-2.06-.94-.94-2.06-.94 2.06-2.06.94zm-11 1L8.5 8.5l.94-2.06 2.06-.94-2.06-.94L8.5 2.5l-.94 2.06-2.06.94zm10 10l.94 2.06.94-2.06 2.06-.94-2.06-.94-.94-2.06-.94 2.06-2.06.94z\"/><path d=\"M17.41 7.96l-1.37-1.37c-.4-.4-.92-.59-1.43-.59-.52 0-1.04.2-1.43.59L10.3 9.45l-7.72 7.72c-.78.78-.78 2.05 0 2.83L4 21.41c.39.39.9.59 1.41.59.51 0 1.02-.2 1.41-.59l7.78-7.78 2.81-2.81c.8-.78.8-2.07 0-2.86zM5.41 20L4 18.59l7.72-7.72 1.47 1.35L5.41 20z\"/>\n",
       "  </svg>\n",
       "      </button>\n",
       "      \n",
       "  <style>\n",
       "    .colab-df-container {\n",
       "      display:flex;\n",
       "      flex-wrap:wrap;\n",
       "      gap: 12px;\n",
       "    }\n",
       "\n",
       "    .colab-df-convert {\n",
       "      background-color: #E8F0FE;\n",
       "      border: none;\n",
       "      border-radius: 50%;\n",
       "      cursor: pointer;\n",
       "      display: none;\n",
       "      fill: #1967D2;\n",
       "      height: 32px;\n",
       "      padding: 0 0 0 0;\n",
       "      width: 32px;\n",
       "    }\n",
       "\n",
       "    .colab-df-convert:hover {\n",
       "      background-color: #E2EBFA;\n",
       "      box-shadow: 0px 1px 2px rgba(60, 64, 67, 0.3), 0px 1px 3px 1px rgba(60, 64, 67, 0.15);\n",
       "      fill: #174EA6;\n",
       "    }\n",
       "\n",
       "    [theme=dark] .colab-df-convert {\n",
       "      background-color: #3B4455;\n",
       "      fill: #D2E3FC;\n",
       "    }\n",
       "\n",
       "    [theme=dark] .colab-df-convert:hover {\n",
       "      background-color: #434B5C;\n",
       "      box-shadow: 0px 1px 3px 1px rgba(0, 0, 0, 0.15);\n",
       "      filter: drop-shadow(0px 1px 2px rgba(0, 0, 0, 0.3));\n",
       "      fill: #FFFFFF;\n",
       "    }\n",
       "  </style>\n",
       "\n",
       "      <script>\n",
       "        const buttonEl =\n",
       "          document.querySelector('#df-11f06ca6-c7a8-4956-bf42-976a7a071a58 button.colab-df-convert');\n",
       "        buttonEl.style.display =\n",
       "          google.colab.kernel.accessAllowed ? 'block' : 'none';\n",
       "\n",
       "        async function convertToInteractive(key) {\n",
       "          const element = document.querySelector('#df-11f06ca6-c7a8-4956-bf42-976a7a071a58');\n",
       "          const dataTable =\n",
       "            await google.colab.kernel.invokeFunction('convertToInteractive',\n",
       "                                                     [key], {});\n",
       "          if (!dataTable) return;\n",
       "\n",
       "          const docLinkHtml = 'Like what you see? Visit the ' +\n",
       "            '<a target=\"_blank\" href=https://colab.research.google.com/notebooks/data_table.ipynb>data table notebook</a>'\n",
       "            + ' to learn more about interactive tables.';\n",
       "          element.innerHTML = '';\n",
       "          dataTable['output_type'] = 'display_data';\n",
       "          await google.colab.output.renderOutput(dataTable, element);\n",
       "          const docLink = document.createElement('div');\n",
       "          docLink.innerHTML = docLinkHtml;\n",
       "          element.appendChild(docLink);\n",
       "        }\n",
       "      </script>\n",
       "    </div>\n",
       "  </div>\n",
       "  "
      ],
      "text/plain": [
       "           Date  Close\n",
       "364  2022-01-01    NaN"
      ]
     },
     "execution_count": 7,
     "metadata": {},
     "output_type": "execute_result"
    }
   ],
   "source": [
    "mask_1 = df['Close'].isnull()\n",
    "df[mask_1]"
   ]
  },
  {
   "cell_type": "code",
   "execution_count": 8,
   "metadata": {
    "colab": {
     "base_uri": "https://localhost:8080/"
    },
    "executionInfo": {
     "elapsed": 31,
     "status": "ok",
     "timestamp": 1641244447867,
     "user": {
      "displayName": "Ruslan Shulhan",
      "photoUrl": "https://lh3.googleusercontent.com/a-/AOh14Gjwuxtlwg9WSlvNyShGXVeX_wkQ56fQFp5e25km=s64",
      "userId": "10991312474810858840"
     },
     "user_tz": 300
    },
    "id": "zyWLAKSG8Qsp",
    "outputId": "d8dbaeb6-6566-493e-9180-9653356e65ec"
   },
   "outputs": [
    {
     "data": {
      "text/plain": [
       "Date     0\n",
       "Close    0\n",
       "dtype: int64"
      ]
     },
     "execution_count": 8,
     "metadata": {},
     "output_type": "execute_result"
    }
   ],
   "source": [
    "df['Close'] = df['Close'].fillna(method='ffill')\n",
    "df.isnull().sum()"
   ]
  },
  {
   "cell_type": "code",
   "execution_count": 9,
   "metadata": {
    "colab": {
     "base_uri": "https://localhost:8080/"
    },
    "executionInfo": {
     "elapsed": 28,
     "status": "ok",
     "timestamp": 1641244447868,
     "user": {
      "displayName": "Ruslan Shulhan",
      "photoUrl": "https://lh3.googleusercontent.com/a-/AOh14Gjwuxtlwg9WSlvNyShGXVeX_wkQ56fQFp5e25km=s64",
      "userId": "10991312474810858840"
     },
     "user_tz": 300
    },
    "id": "OJusRpjH8pa-",
    "outputId": "50491f25-a773-49dc-90b6-389566cb39ba"
   },
   "outputs": [
    {
     "name": "stdout",
     "output_type": "stream",
     "text": [
      "<class 'pandas.core.frame.DataFrame'>\n",
      "RangeIndex: 366 entries, 0 to 365\n",
      "Data columns (total 2 columns):\n",
      " #   Column  Non-Null Count  Dtype  \n",
      "---  ------  --------------  -----  \n",
      " 0   Date    366 non-null    object \n",
      " 1   Close   366 non-null    float64\n",
      "dtypes: float64(1), object(1)\n",
      "memory usage: 5.8+ KB\n"
     ]
    }
   ],
   "source": [
    "# checking dtypes\n",
    "df.info()"
   ]
  },
  {
   "cell_type": "code",
   "execution_count": 10,
   "metadata": {
    "colab": {
     "base_uri": "https://localhost:8080/"
    },
    "executionInfo": {
     "elapsed": 26,
     "status": "ok",
     "timestamp": 1641244447869,
     "user": {
      "displayName": "Ruslan Shulhan",
      "photoUrl": "https://lh3.googleusercontent.com/a-/AOh14Gjwuxtlwg9WSlvNyShGXVeX_wkQ56fQFp5e25km=s64",
      "userId": "10991312474810858840"
     },
     "user_tz": 300
    },
    "id": "VKcNScBd9Dyy",
    "outputId": "2839de3c-db8f-446b-901b-7bbe24c0803d"
   },
   "outputs": [
    {
     "name": "stdout",
     "output_type": "stream",
     "text": [
      "<class 'pandas.core.frame.DataFrame'>\n",
      "RangeIndex: 366 entries, 0 to 365\n",
      "Data columns (total 2 columns):\n",
      " #   Column  Non-Null Count  Dtype         \n",
      "---  ------  --------------  -----         \n",
      " 0   Date    366 non-null    datetime64[ns]\n",
      " 1   Close   366 non-null    float64       \n",
      "dtypes: datetime64[ns](1), float64(1)\n",
      "memory usage: 5.8 KB\n"
     ]
    }
   ],
   "source": [
    "# converting 'Date' column to different type\n",
    "df['Date'] = pd.to_datetime(df['Date'])\n",
    "df.info()"
   ]
  },
  {
   "cell_type": "code",
   "execution_count": 11,
   "metadata": {
    "colab": {
     "base_uri": "https://localhost:8080/",
     "height": 423
    },
    "executionInfo": {
     "elapsed": 25,
     "status": "ok",
     "timestamp": 1641244447870,
     "user": {
      "displayName": "Ruslan Shulhan",
      "photoUrl": "https://lh3.googleusercontent.com/a-/AOh14Gjwuxtlwg9WSlvNyShGXVeX_wkQ56fQFp5e25km=s64",
      "userId": "10991312474810858840"
     },
     "user_tz": 300
    },
    "id": "bfby3Ytm9VpV",
    "outputId": "a8b668dc-958d-4a32-ddf7-44a59937de54"
   },
   "outputs": [
    {
     "data": {
      "text/html": [
       "\n",
       "  <div id=\"df-92c02f7f-3072-4f37-995b-0e3ef56c664d\">\n",
       "    <div class=\"colab-df-container\">\n",
       "      <div>\n",
       "<style scoped>\n",
       "    .dataframe tbody tr th:only-of-type {\n",
       "        vertical-align: middle;\n",
       "    }\n",
       "\n",
       "    .dataframe tbody tr th {\n",
       "        vertical-align: top;\n",
       "    }\n",
       "\n",
       "    .dataframe thead th {\n",
       "        text-align: right;\n",
       "    }\n",
       "</style>\n",
       "<table border=\"1\" class=\"dataframe\">\n",
       "  <thead>\n",
       "    <tr style=\"text-align: right;\">\n",
       "      <th></th>\n",
       "      <th>Date</th>\n",
       "      <th>Close</th>\n",
       "    </tr>\n",
       "  </thead>\n",
       "  <tbody>\n",
       "    <tr>\n",
       "      <th>0</th>\n",
       "      <td>2021-01-02</td>\n",
       "      <td>0.010615</td>\n",
       "    </tr>\n",
       "    <tr>\n",
       "      <th>1</th>\n",
       "      <td>2021-01-03</td>\n",
       "      <td>0.009771</td>\n",
       "    </tr>\n",
       "    <tr>\n",
       "      <th>2</th>\n",
       "      <td>2021-01-04</td>\n",
       "      <td>0.009767</td>\n",
       "    </tr>\n",
       "    <tr>\n",
       "      <th>3</th>\n",
       "      <td>2021-01-05</td>\n",
       "      <td>0.009920</td>\n",
       "    </tr>\n",
       "    <tr>\n",
       "      <th>4</th>\n",
       "      <td>2021-01-06</td>\n",
       "      <td>0.010465</td>\n",
       "    </tr>\n",
       "    <tr>\n",
       "      <th>...</th>\n",
       "      <td>...</td>\n",
       "      <td>...</td>\n",
       "    </tr>\n",
       "    <tr>\n",
       "      <th>359</th>\n",
       "      <td>2021-12-27</td>\n",
       "      <td>0.187705</td>\n",
       "    </tr>\n",
       "    <tr>\n",
       "      <th>360</th>\n",
       "      <td>2021-12-28</td>\n",
       "      <td>0.174117</td>\n",
       "    </tr>\n",
       "    <tr>\n",
       "      <th>361</th>\n",
       "      <td>2021-12-29</td>\n",
       "      <td>0.167765</td>\n",
       "    </tr>\n",
       "    <tr>\n",
       "      <th>362</th>\n",
       "      <td>2021-12-30</td>\n",
       "      <td>0.171313</td>\n",
       "    </tr>\n",
       "    <tr>\n",
       "      <th>363</th>\n",
       "      <td>2021-12-31</td>\n",
       "      <td>0.170496</td>\n",
       "    </tr>\n",
       "  </tbody>\n",
       "</table>\n",
       "<p>364 rows × 2 columns</p>\n",
       "</div>\n",
       "      <button class=\"colab-df-convert\" onclick=\"convertToInteractive('df-92c02f7f-3072-4f37-995b-0e3ef56c664d')\"\n",
       "              title=\"Convert this dataframe to an interactive table.\"\n",
       "              style=\"display:none;\">\n",
       "        \n",
       "  <svg xmlns=\"http://www.w3.org/2000/svg\" height=\"24px\"viewBox=\"0 0 24 24\"\n",
       "       width=\"24px\">\n",
       "    <path d=\"M0 0h24v24H0V0z\" fill=\"none\"/>\n",
       "    <path d=\"M18.56 5.44l.94 2.06.94-2.06 2.06-.94-2.06-.94-.94-2.06-.94 2.06-2.06.94zm-11 1L8.5 8.5l.94-2.06 2.06-.94-2.06-.94L8.5 2.5l-.94 2.06-2.06.94zm10 10l.94 2.06.94-2.06 2.06-.94-2.06-.94-.94-2.06-.94 2.06-2.06.94z\"/><path d=\"M17.41 7.96l-1.37-1.37c-.4-.4-.92-.59-1.43-.59-.52 0-1.04.2-1.43.59L10.3 9.45l-7.72 7.72c-.78.78-.78 2.05 0 2.83L4 21.41c.39.39.9.59 1.41.59.51 0 1.02-.2 1.41-.59l7.78-7.78 2.81-2.81c.8-.78.8-2.07 0-2.86zM5.41 20L4 18.59l7.72-7.72 1.47 1.35L5.41 20z\"/>\n",
       "  </svg>\n",
       "      </button>\n",
       "      \n",
       "  <style>\n",
       "    .colab-df-container {\n",
       "      display:flex;\n",
       "      flex-wrap:wrap;\n",
       "      gap: 12px;\n",
       "    }\n",
       "\n",
       "    .colab-df-convert {\n",
       "      background-color: #E8F0FE;\n",
       "      border: none;\n",
       "      border-radius: 50%;\n",
       "      cursor: pointer;\n",
       "      display: none;\n",
       "      fill: #1967D2;\n",
       "      height: 32px;\n",
       "      padding: 0 0 0 0;\n",
       "      width: 32px;\n",
       "    }\n",
       "\n",
       "    .colab-df-convert:hover {\n",
       "      background-color: #E2EBFA;\n",
       "      box-shadow: 0px 1px 2px rgba(60, 64, 67, 0.3), 0px 1px 3px 1px rgba(60, 64, 67, 0.15);\n",
       "      fill: #174EA6;\n",
       "    }\n",
       "\n",
       "    [theme=dark] .colab-df-convert {\n",
       "      background-color: #3B4455;\n",
       "      fill: #D2E3FC;\n",
       "    }\n",
       "\n",
       "    [theme=dark] .colab-df-convert:hover {\n",
       "      background-color: #434B5C;\n",
       "      box-shadow: 0px 1px 3px 1px rgba(0, 0, 0, 0.15);\n",
       "      filter: drop-shadow(0px 1px 2px rgba(0, 0, 0, 0.3));\n",
       "      fill: #FFFFFF;\n",
       "    }\n",
       "  </style>\n",
       "\n",
       "      <script>\n",
       "        const buttonEl =\n",
       "          document.querySelector('#df-92c02f7f-3072-4f37-995b-0e3ef56c664d button.colab-df-convert');\n",
       "        buttonEl.style.display =\n",
       "          google.colab.kernel.accessAllowed ? 'block' : 'none';\n",
       "\n",
       "        async function convertToInteractive(key) {\n",
       "          const element = document.querySelector('#df-92c02f7f-3072-4f37-995b-0e3ef56c664d');\n",
       "          const dataTable =\n",
       "            await google.colab.kernel.invokeFunction('convertToInteractive',\n",
       "                                                     [key], {});\n",
       "          if (!dataTable) return;\n",
       "\n",
       "          const docLinkHtml = 'Like what you see? Visit the ' +\n",
       "            '<a target=\"_blank\" href=https://colab.research.google.com/notebooks/data_table.ipynb>data table notebook</a>'\n",
       "            + ' to learn more about interactive tables.';\n",
       "          element.innerHTML = '';\n",
       "          dataTable['output_type'] = 'display_data';\n",
       "          await google.colab.output.renderOutput(dataTable, element);\n",
       "          const docLink = document.createElement('div');\n",
       "          docLink.innerHTML = docLinkHtml;\n",
       "          element.appendChild(docLink);\n",
       "        }\n",
       "      </script>\n",
       "    </div>\n",
       "  </div>\n",
       "  "
      ],
      "text/plain": [
       "          Date     Close\n",
       "0   2021-01-02  0.010615\n",
       "1   2021-01-03  0.009771\n",
       "2   2021-01-04  0.009767\n",
       "3   2021-01-05  0.009920\n",
       "4   2021-01-06  0.010465\n",
       "..         ...       ...\n",
       "359 2021-12-27  0.187705\n",
       "360 2021-12-28  0.174117\n",
       "361 2021-12-29  0.167765\n",
       "362 2021-12-30  0.171313\n",
       "363 2021-12-31  0.170496\n",
       "\n",
       "[364 rows x 2 columns]"
      ]
     },
     "execution_count": 11,
     "metadata": {},
     "output_type": "execute_result"
    }
   ],
   "source": [
    "# leaving data for 2021 year only\n",
    "mask_2 = (df['Date'] > \"2020-12-31\") & (df['Date'] < \"2022-01-01\")\n",
    "df = df[mask_2]\n",
    "df"
   ]
  },
  {
   "cell_type": "code",
   "execution_count": 12,
   "metadata": {
    "colab": {
     "base_uri": "https://localhost:8080/",
     "height": 237
    },
    "executionInfo": {
     "elapsed": 24,
     "status": "ok",
     "timestamp": 1641244447871,
     "user": {
      "displayName": "Ruslan Shulhan",
      "photoUrl": "https://lh3.googleusercontent.com/a-/AOh14Gjwuxtlwg9WSlvNyShGXVeX_wkQ56fQFp5e25km=s64",
      "userId": "10991312474810858840"
     },
     "user_tz": 300
    },
    "id": "ipwmZ0yF-Eat",
    "outputId": "e089a924-f962-4789-f7a7-70005c1f9d83"
   },
   "outputs": [
    {
     "data": {
      "text/html": [
       "\n",
       "  <div id=\"df-4af2850a-8b9b-499d-b5a4-6efefe0723c8\">\n",
       "    <div class=\"colab-df-container\">\n",
       "      <div>\n",
       "<style scoped>\n",
       "    .dataframe tbody tr th:only-of-type {\n",
       "        vertical-align: middle;\n",
       "    }\n",
       "\n",
       "    .dataframe tbody tr th {\n",
       "        vertical-align: top;\n",
       "    }\n",
       "\n",
       "    .dataframe thead th {\n",
       "        text-align: right;\n",
       "    }\n",
       "</style>\n",
       "<table border=\"1\" class=\"dataframe\">\n",
       "  <thead>\n",
       "    <tr style=\"text-align: right;\">\n",
       "      <th></th>\n",
       "      <th>Close</th>\n",
       "    </tr>\n",
       "    <tr>\n",
       "      <th>Date</th>\n",
       "      <th></th>\n",
       "    </tr>\n",
       "  </thead>\n",
       "  <tbody>\n",
       "    <tr>\n",
       "      <th>2021-01-02</th>\n",
       "      <td>0.010615</td>\n",
       "    </tr>\n",
       "    <tr>\n",
       "      <th>2021-01-03</th>\n",
       "      <td>0.009771</td>\n",
       "    </tr>\n",
       "    <tr>\n",
       "      <th>2021-01-04</th>\n",
       "      <td>0.009767</td>\n",
       "    </tr>\n",
       "    <tr>\n",
       "      <th>2021-01-05</th>\n",
       "      <td>0.009920</td>\n",
       "    </tr>\n",
       "    <tr>\n",
       "      <th>2021-01-06</th>\n",
       "      <td>0.010465</td>\n",
       "    </tr>\n",
       "  </tbody>\n",
       "</table>\n",
       "</div>\n",
       "      <button class=\"colab-df-convert\" onclick=\"convertToInteractive('df-4af2850a-8b9b-499d-b5a4-6efefe0723c8')\"\n",
       "              title=\"Convert this dataframe to an interactive table.\"\n",
       "              style=\"display:none;\">\n",
       "        \n",
       "  <svg xmlns=\"http://www.w3.org/2000/svg\" height=\"24px\"viewBox=\"0 0 24 24\"\n",
       "       width=\"24px\">\n",
       "    <path d=\"M0 0h24v24H0V0z\" fill=\"none\"/>\n",
       "    <path d=\"M18.56 5.44l.94 2.06.94-2.06 2.06-.94-2.06-.94-.94-2.06-.94 2.06-2.06.94zm-11 1L8.5 8.5l.94-2.06 2.06-.94-2.06-.94L8.5 2.5l-.94 2.06-2.06.94zm10 10l.94 2.06.94-2.06 2.06-.94-2.06-.94-.94-2.06-.94 2.06-2.06.94z\"/><path d=\"M17.41 7.96l-1.37-1.37c-.4-.4-.92-.59-1.43-.59-.52 0-1.04.2-1.43.59L10.3 9.45l-7.72 7.72c-.78.78-.78 2.05 0 2.83L4 21.41c.39.39.9.59 1.41.59.51 0 1.02-.2 1.41-.59l7.78-7.78 2.81-2.81c.8-.78.8-2.07 0-2.86zM5.41 20L4 18.59l7.72-7.72 1.47 1.35L5.41 20z\"/>\n",
       "  </svg>\n",
       "      </button>\n",
       "      \n",
       "  <style>\n",
       "    .colab-df-container {\n",
       "      display:flex;\n",
       "      flex-wrap:wrap;\n",
       "      gap: 12px;\n",
       "    }\n",
       "\n",
       "    .colab-df-convert {\n",
       "      background-color: #E8F0FE;\n",
       "      border: none;\n",
       "      border-radius: 50%;\n",
       "      cursor: pointer;\n",
       "      display: none;\n",
       "      fill: #1967D2;\n",
       "      height: 32px;\n",
       "      padding: 0 0 0 0;\n",
       "      width: 32px;\n",
       "    }\n",
       "\n",
       "    .colab-df-convert:hover {\n",
       "      background-color: #E2EBFA;\n",
       "      box-shadow: 0px 1px 2px rgba(60, 64, 67, 0.3), 0px 1px 3px 1px rgba(60, 64, 67, 0.15);\n",
       "      fill: #174EA6;\n",
       "    }\n",
       "\n",
       "    [theme=dark] .colab-df-convert {\n",
       "      background-color: #3B4455;\n",
       "      fill: #D2E3FC;\n",
       "    }\n",
       "\n",
       "    [theme=dark] .colab-df-convert:hover {\n",
       "      background-color: #434B5C;\n",
       "      box-shadow: 0px 1px 3px 1px rgba(0, 0, 0, 0.15);\n",
       "      filter: drop-shadow(0px 1px 2px rgba(0, 0, 0, 0.3));\n",
       "      fill: #FFFFFF;\n",
       "    }\n",
       "  </style>\n",
       "\n",
       "      <script>\n",
       "        const buttonEl =\n",
       "          document.querySelector('#df-4af2850a-8b9b-499d-b5a4-6efefe0723c8 button.colab-df-convert');\n",
       "        buttonEl.style.display =\n",
       "          google.colab.kernel.accessAllowed ? 'block' : 'none';\n",
       "\n",
       "        async function convertToInteractive(key) {\n",
       "          const element = document.querySelector('#df-4af2850a-8b9b-499d-b5a4-6efefe0723c8');\n",
       "          const dataTable =\n",
       "            await google.colab.kernel.invokeFunction('convertToInteractive',\n",
       "                                                     [key], {});\n",
       "          if (!dataTable) return;\n",
       "\n",
       "          const docLinkHtml = 'Like what you see? Visit the ' +\n",
       "            '<a target=\"_blank\" href=https://colab.research.google.com/notebooks/data_table.ipynb>data table notebook</a>'\n",
       "            + ' to learn more about interactive tables.';\n",
       "          element.innerHTML = '';\n",
       "          dataTable['output_type'] = 'display_data';\n",
       "          await google.colab.output.renderOutput(dataTable, element);\n",
       "          const docLink = document.createElement('div');\n",
       "          docLink.innerHTML = docLinkHtml;\n",
       "          element.appendChild(docLink);\n",
       "        }\n",
       "      </script>\n",
       "    </div>\n",
       "  </div>\n",
       "  "
      ],
      "text/plain": [
       "               Close\n",
       "Date                \n",
       "2021-01-02  0.010615\n",
       "2021-01-03  0.009771\n",
       "2021-01-04  0.009767\n",
       "2021-01-05  0.009920\n",
       "2021-01-06  0.010465"
      ]
     },
     "execution_count": 12,
     "metadata": {},
     "output_type": "execute_result"
    }
   ],
   "source": [
    "# setting 'Date' columns as index for simplicity of visualization\n",
    "df_idx = df.set_index('Date')\n",
    "df_idx.head()"
   ]
  },
  {
   "cell_type": "code",
   "execution_count": 13,
   "metadata": {
    "colab": {
     "base_uri": "https://localhost:8080/",
     "height": 514
    },
    "executionInfo": {
     "elapsed": 435,
     "status": "ok",
     "timestamp": 1641244448283,
     "user": {
      "displayName": "Ruslan Shulhan",
      "photoUrl": "https://lh3.googleusercontent.com/a-/AOh14Gjwuxtlwg9WSlvNyShGXVeX_wkQ56fQFp5e25km=s64",
      "userId": "10991312474810858840"
     },
     "user_tz": 300
    },
    "id": "pTHMegn6-e-0",
    "outputId": "67ec2196-9291-4cdf-d720-f2b9402e1bfd"
   },
   "outputs": [
    {
     "data": {
      "image/png": "[encoded data removed]",
      "text/plain": [
       "<Figure size 842.4x523.44 with 1 Axes>"
      ]
     },
     "metadata": {},
     "output_type": "display_data"
    }
   ],
   "source": [
    "# taking the first look at our time series\n",
    "_ = plt.plot(df_idx)\n",
    "_ = plt.title(\"Time Series - DogeCoin Stock Price for whole year of 2021\")\n",
    "_ = plt.xlabel('Date')\n",
    "_ = plt.ylabel('Stock price - USD')\n",
    "_ = plt.xticks(rotation=90)\n",
    "plt.show()"
   ]
  },
  {
   "cell_type": "code",
   "execution_count": 21,
   "metadata": {
    "executionInfo": {
     "elapsed": 42,
     "status": "ok",
     "timestamp": 1641244449378,
     "user": {
      "displayName": "Ruslan Shulhan",
      "photoUrl": "https://lh3.googleusercontent.com/a-/AOh14Gjwuxtlwg9WSlvNyShGXVeX_wkQ56fQFp5e25km=s64",
      "userId": "10991312474810858840"
     },
     "user_tz": 300
    },
    "id": "dyZcYl3-BH4p"
   },
   "outputs": [],
   "source": [
    "# splitting data into training and testing parts\n",
    "data_train = df_idx[:-15]\n",
    "data_test = df_idx[-15:]"
   ]
  },
  {
   "cell_type": "code",
   "execution_count": 22,
   "metadata": {
    "colab": {
     "base_uri": "https://localhost:8080/"
    },
    "executionInfo": {
     "elapsed": 42,
     "status": "ok",
     "timestamp": 1641244449378,
     "user": {
      "displayName": "Ruslan Shulhan",
      "photoUrl": "https://lh3.googleusercontent.com/a-/AOh14Gjwuxtlwg9WSlvNyShGXVeX_wkQ56fQFp5e25km=s64",
      "userId": "10991312474810858840"
     },
     "user_tz": 300
    },
    "id": "u_ZsnW4FBQtL",
    "outputId": "09c6c6a7-fa81-4830-9a40-cf2f3b5d1f2d"
   },
   "outputs": [
    {
     "data": {
      "text/plain": [
       "<statsmodels.tsa.ar_model.ARResultsWrapper at 0x7fba58c4d210>"
      ]
     },
     "execution_count": 22,
     "metadata": {},
     "output_type": "execute_result"
    }
   ],
   "source": [
    "# train autoregression model\n",
    "# https://www.statsmodels.org/v0.12.2/generated/statsmodels.tsa.ar_model.AR.html\n",
    "model_1 = AR(data_train, freq='D')\n",
    "model_1_fit = model_1.fit()\n",
    "model_1_fit"
   ]
  },
  {
   "cell_type": "code",
   "execution_count": 23,
   "metadata": {
    "colab": {
     "base_uri": "https://localhost:8080/"
    },
    "executionInfo": {
     "elapsed": 40,
     "status": "ok",
     "timestamp": 1641244449379,
     "user": {
      "displayName": "Ruslan Shulhan",
      "photoUrl": "https://lh3.googleusercontent.com/a-/AOh14Gjwuxtlwg9WSlvNyShGXVeX_wkQ56fQFp5e25km=s64",
      "userId": "10991312474810858840"
     },
     "user_tz": 300
    },
    "id": "JWYWExj_Beg0",
    "outputId": "194658b3-cb2a-4443-8b8d-28952dd49c42"
   },
   "outputs": [
    {
     "data": {
      "text/plain": [
       "16"
      ]
     },
     "execution_count": 23,
     "metadata": {},
     "output_type": "execute_result"
    }
   ],
   "source": [
    "# getting lag_length\n",
    "window = model_1_fit.k_ar\n",
    "window"
   ]
  },
  {
   "cell_type": "code",
   "execution_count": 24,
   "metadata": {
    "colab": {
     "base_uri": "https://localhost:8080/"
    },
    "executionInfo": {
     "elapsed": 32,
     "status": "ok",
     "timestamp": 1641244449379,
     "user": {
      "displayName": "Ruslan Shulhan",
      "photoUrl": "https://lh3.googleusercontent.com/a-/AOh14Gjwuxtlwg9WSlvNyShGXVeX_wkQ56fQFp5e25km=s64",
      "userId": "10991312474810858840"
     },
     "user_tz": 300
    },
    "id": "Em7qSLKPCsBR",
    "outputId": "6b8d818e-ec5a-42bd-f39b-ea936ba28299"
   },
   "outputs": [
    {
     "data": {
      "text/plain": [
       "const        0.005822\n",
       "L1.Close     0.865997\n",
       "L2.Close     0.220283\n",
       "L3.Close     0.048027\n",
       "L4.Close    -0.087164\n",
       "L5.Close    -0.302755\n",
       "L6.Close     0.088474\n",
       "L7.Close     0.164409\n",
       "L8.Close    -0.012883\n",
       "L9.Close     0.150586\n",
       "L10.Close   -0.122626\n",
       "L11.Close   -0.084845\n",
       "L12.Close   -0.063623\n",
       "L13.Close    0.151272\n",
       "L14.Close   -0.138974\n",
       "L15.Close    0.156008\n",
       "L16.Close   -0.056721\n",
       "dtype: float64"
      ]
     },
     "execution_count": 24,
     "metadata": {},
     "output_type": "execute_result"
    }
   ],
   "source": [
    "# getting the fitted parameters of the model\n",
    "coef = model_1_fit.params\n",
    "coef"
   ]
  },
  {
   "cell_type": "code",
   "execution_count": 25,
   "metadata": {
    "colab": {
     "base_uri": "https://localhost:8080/"
    },
    "executionInfo": {
     "elapsed": 29,
     "status": "ok",
     "timestamp": 1641244449379,
     "user": {
      "displayName": "Ruslan Shulhan",
      "photoUrl": "https://lh3.googleusercontent.com/a-/AOh14Gjwuxtlwg9WSlvNyShGXVeX_wkQ56fQFp5e25km=s64",
      "userId": "10991312474810858840"
     },
     "user_tz": 300
    },
    "id": "0AX2FqkiFSt_",
    "outputId": "60ca19ff-baa6-4854-950b-fe5a539f0ecd"
   },
   "outputs": [
    {
     "data": {
      "text/plain": [
       "[0.20948699999999998,\n",
       " 0.20972600000000002,\n",
       " 0.199993,\n",
       " 0.17885299999999998,\n",
       " 0.171255,\n",
       " 0.1784,\n",
       " 0.176805,\n",
       " 0.179151,\n",
       " 0.169484,\n",
       " 0.164422,\n",
       " 0.169019,\n",
       " 0.16989100000000001,\n",
       " 0.157565,\n",
       " 0.18015699999999998,\n",
       " 0.181082,\n",
       " 0.173454]"
      ]
     },
     "execution_count": 25,
     "metadata": {},
     "output_type": "execute_result"
    }
   ],
   "source": [
    "# walking further, over time steps in test\n",
    "history = data_train[len(data_train) - window:]\n",
    "history = [history.iloc[i].values[0] for i in range(len(history))]\n",
    "history"
   ]
  },
  {
   "cell_type": "code",
   "execution_count": 26,
   "metadata": {
    "colab": {
     "base_uri": "https://localhost:8080/"
    },
    "executionInfo": {
     "elapsed": 27,
     "status": "ok",
     "timestamp": 1641244449380,
     "user": {
      "displayName": "Ruslan Shulhan",
      "photoUrl": "https://lh3.googleusercontent.com/a-/AOh14Gjwuxtlwg9WSlvNyShGXVeX_wkQ56fQFp5e25km=s64",
      "userId": "10991312474810858840"
     },
     "user_tz": 300
    },
    "id": "_n54kH3iFrjW",
    "outputId": "6226b124-40ae-4109-c83b-268bc61b1899"
   },
   "outputs": [
    {
     "name": "stdout",
     "output_type": "stream",
     "text": [
      "Predicted: 0.17857092761496596 --- Expected value: 0.16901\n",
      "Predicted: 0.17394114370813885 --- Expected value: 0.1724\n",
      "Predicted: 0.167321133032751 --- Expected value: 0.169576\n",
      "Predicted: 0.1665181968437579 --- Expected value: 0.167322\n",
      "Predicted: 0.17349302072361467 --- Expected value: 0.171175\n",
      "Predicted: 0.1719601673107576 --- Expected value: 0.173214\n",
      "Predicted: 0.1776082732214597 --- Expected value: 0.18449000000000002\n",
      "Predicted: 0.18684340935537508 --- Expected value: 0.186622\n",
      "Predicted: 0.18883980817446008 --- Expected value: 0.190657\n",
      "Predicted: 0.18906252821554795 --- Expected value: 0.19002\n",
      "Predicted: 0.19455823956570475 --- Expected value: 0.18770499999999998\n",
      "Predicted: 0.1848993607083289 --- Expected value: 0.174117\n",
      "Predicted: 0.17582091258041668 --- Expected value: 0.167765\n",
      "Predicted: 0.16819709283901826 --- Expected value: 0.17131300000000002\n",
      "Predicted: 0.17026811325413765 --- Expected value: 0.170496\n"
     ]
    }
   ],
   "source": [
    "# making predictions\n",
    "predictions = []\n",
    "\n",
    "for i in range(len(data_test)): # 15 times\n",
    "  length_hist = len(history) # 16\n",
    "  #lag = [history[j] for j in range(length_hist - window, length_hist)]\n",
    "  lag = history[i:]\n",
    "\n",
    "  yhat = coef[0] # 0.005822\n",
    "\n",
    "  for d in range(window): # 16\n",
    "    #yhat += coef[d + 1] * lag[window - d - 1]\n",
    "    yhat += coef[d + 1] * lag[(-1) - d]\n",
    "\n",
    "  obs = data_test.iloc[i].values[0]\n",
    "  predictions.append(yhat)\n",
    "  history.append(obs)\n",
    "\n",
    "  print(f\"Predicted: {yhat} --- Expected value: {obs}\")"
   ]
  },
  {
   "cell_type": "code",
   "execution_count": 27,
   "metadata": {
    "colab": {
     "base_uri": "https://localhost:8080/",
     "height": 237
    },
    "executionInfo": {
     "elapsed": 21,
     "status": "ok",
     "timestamp": 1641244449380,
     "user": {
      "displayName": "Ruslan Shulhan",
      "photoUrl": "https://lh3.googleusercontent.com/a-/AOh14Gjwuxtlwg9WSlvNyShGXVeX_wkQ56fQFp5e25km=s64",
      "userId": "10991312474810858840"
     },
     "user_tz": 300
    },
    "id": "Ff9iDRO5Jhk2",
    "outputId": "beef352c-b0d7-4488-8238-20193b718111"
   },
   "outputs": [
    {
     "data": {
      "text/html": [
       "\n",
       "  <div id=\"df-050a5d94-1fe8-4b6a-8c64-9ae5bd068d67\">\n",
       "    <div class=\"colab-df-container\">\n",
       "      <div>\n",
       "<style scoped>\n",
       "    .dataframe tbody tr th:only-of-type {\n",
       "        vertical-align: middle;\n",
       "    }\n",
       "\n",
       "    .dataframe tbody tr th {\n",
       "        vertical-align: top;\n",
       "    }\n",
       "\n",
       "    .dataframe thead th {\n",
       "        text-align: right;\n",
       "    }\n",
       "</style>\n",
       "<table border=\"1\" class=\"dataframe\">\n",
       "  <thead>\n",
       "    <tr style=\"text-align: right;\">\n",
       "      <th></th>\n",
       "      <th>Close</th>\n",
       "      <th>Predicted</th>\n",
       "    </tr>\n",
       "    <tr>\n",
       "      <th>Date</th>\n",
       "      <th></th>\n",
       "      <th></th>\n",
       "    </tr>\n",
       "  </thead>\n",
       "  <tbody>\n",
       "    <tr>\n",
       "      <th>2021-12-17</th>\n",
       "      <td>0.169010</td>\n",
       "      <td>0.178571</td>\n",
       "    </tr>\n",
       "    <tr>\n",
       "      <th>2021-12-18</th>\n",
       "      <td>0.172400</td>\n",
       "      <td>0.173941</td>\n",
       "    </tr>\n",
       "    <tr>\n",
       "      <th>2021-12-19</th>\n",
       "      <td>0.169576</td>\n",
       "      <td>0.167321</td>\n",
       "    </tr>\n",
       "    <tr>\n",
       "      <th>2021-12-20</th>\n",
       "      <td>0.167322</td>\n",
       "      <td>0.166518</td>\n",
       "    </tr>\n",
       "    <tr>\n",
       "      <th>2021-12-21</th>\n",
       "      <td>0.171175</td>\n",
       "      <td>0.173493</td>\n",
       "    </tr>\n",
       "  </tbody>\n",
       "</table>\n",
       "</div>\n",
       "      <button class=\"colab-df-convert\" onclick=\"convertToInteractive('df-050a5d94-1fe8-4b6a-8c64-9ae5bd068d67')\"\n",
       "              title=\"Convert this dataframe to an interactive table.\"\n",
       "              style=\"display:none;\">\n",
       "        \n",
       "  <svg xmlns=\"http://www.w3.org/2000/svg\" height=\"24px\"viewBox=\"0 0 24 24\"\n",
       "       width=\"24px\">\n",
       "    <path d=\"M0 0h24v24H0V0z\" fill=\"none\"/>\n",
       "    <path d=\"M18.56 5.44l.94 2.06.94-2.06 2.06-.94-2.06-.94-.94-2.06-.94 2.06-2.06.94zm-11 1L8.5 8.5l.94-2.06 2.06-.94-2.06-.94L8.5 2.5l-.94 2.06-2.06.94zm10 10l.94 2.06.94-2.06 2.06-.94-2.06-.94-.94-2.06-.94 2.06-2.06.94z\"/><path d=\"M17.41 7.96l-1.37-1.37c-.4-.4-.92-.59-1.43-.59-.52 0-1.04.2-1.43.59L10.3 9.45l-7.72 7.72c-.78.78-.78 2.05 0 2.83L4 21.41c.39.39.9.59 1.41.59.51 0 1.02-.2 1.41-.59l7.78-7.78 2.81-2.81c.8-.78.8-2.07 0-2.86zM5.41 20L4 18.59l7.72-7.72 1.47 1.35L5.41 20z\"/>\n",
       "  </svg>\n",
       "      </button>\n",
       "      \n",
       "  <style>\n",
       "    .colab-df-container {\n",
       "      display:flex;\n",
       "      flex-wrap:wrap;\n",
       "      gap: 12px;\n",
       "    }\n",
       "\n",
       "    .colab-df-convert {\n",
       "      background-color: #E8F0FE;\n",
       "      border: none;\n",
       "      border-radius: 50%;\n",
       "      cursor: pointer;\n",
       "      display: none;\n",
       "      fill: #1967D2;\n",
       "      height: 32px;\n",
       "      padding: 0 0 0 0;\n",
       "      width: 32px;\n",
       "    }\n",
       "\n",
       "    .colab-df-convert:hover {\n",
       "      background-color: #E2EBFA;\n",
       "      box-shadow: 0px 1px 2px rgba(60, 64, 67, 0.3), 0px 1px 3px 1px rgba(60, 64, 67, 0.15);\n",
       "      fill: #174EA6;\n",
       "    }\n",
       "\n",
       "    [theme=dark] .colab-df-convert {\n",
       "      background-color: #3B4455;\n",
       "      fill: #D2E3FC;\n",
       "    }\n",
       "\n",
       "    [theme=dark] .colab-df-convert:hover {\n",
       "      background-color: #434B5C;\n",
       "      box-shadow: 0px 1px 3px 1px rgba(0, 0, 0, 0.15);\n",
       "      filter: drop-shadow(0px 1px 2px rgba(0, 0, 0, 0.3));\n",
       "      fill: #FFFFFF;\n",
       "    }\n",
       "  </style>\n",
       "\n",
       "      <script>\n",
       "        const buttonEl =\n",
       "          document.querySelector('#df-050a5d94-1fe8-4b6a-8c64-9ae5bd068d67 button.colab-df-convert');\n",
       "        buttonEl.style.display =\n",
       "          google.colab.kernel.accessAllowed ? 'block' : 'none';\n",
       "\n",
       "        async function convertToInteractive(key) {\n",
       "          const element = document.querySelector('#df-050a5d94-1fe8-4b6a-8c64-9ae5bd068d67');\n",
       "          const dataTable =\n",
       "            await google.colab.kernel.invokeFunction('convertToInteractive',\n",
       "                                                     [key], {});\n",
       "          if (!dataTable) return;\n",
       "\n",
       "          const docLinkHtml = 'Like what you see? Visit the ' +\n",
       "            '<a target=\"_blank\" href=https://colab.research.google.com/notebooks/data_table.ipynb>data table notebook</a>'\n",
       "            + ' to learn more about interactive tables.';\n",
       "          element.innerHTML = '';\n",
       "          dataTable['output_type'] = 'display_data';\n",
       "          await google.colab.output.renderOutput(dataTable, element);\n",
       "          const docLink = document.createElement('div');\n",
       "          docLink.innerHTML = docLinkHtml;\n",
       "          element.appendChild(docLink);\n",
       "        }\n",
       "      </script>\n",
       "    </div>\n",
       "  </div>\n",
       "  "
      ],
      "text/plain": [
       "               Close  Predicted\n",
       "Date                           \n",
       "2021-12-17  0.169010   0.178571\n",
       "2021-12-18  0.172400   0.173941\n",
       "2021-12-19  0.169576   0.167321\n",
       "2021-12-20  0.167322   0.166518\n",
       "2021-12-21  0.171175   0.173493"
      ]
     },
     "execution_count": 27,
     "metadata": {},
     "output_type": "execute_result"
    }
   ],
   "source": [
    "# adding prediction to our testing DataFrame for further analysis\n",
    "data_test['Predicted'] = predictions\n",
    "data_test.head()"
   ]
  },
  {
   "cell_type": "code",
   "execution_count": 28,
   "metadata": {
    "colab": {
     "base_uri": "https://localhost:8080/",
     "height": 529
    },
    "executionInfo": {
     "elapsed": 497,
     "status": "ok",
     "timestamp": 1641244449860,
     "user": {
      "displayName": "Ruslan Shulhan",
      "photoUrl": "https://lh3.googleusercontent.com/a-/AOh14Gjwuxtlwg9WSlvNyShGXVeX_wkQ56fQFp5e25km=s64",
      "userId": "10991312474810858840"
     },
     "user_tz": 300
    },
    "id": "OTkR_t5cKdlt",
    "outputId": "be7b9a86-aa4f-4fd1-bc6d-b65d76dc5ad0"
   },
   "outputs": [
    {
     "data": {
      "image/png": "[encoded data removed]",
      "text/plain": [
       "<Figure size 842.4x523.44 with 1 Axes>"
      ]
     },
     "metadata": {},
     "output_type": "display_data"
    }
   ],
   "source": [
    "# looking at prediction via graph\n",
    "_ = plt.plot(data_test['Close'], label='Original')\n",
    "_ = plt.plot(data_test['Predicted'], label='Predicted')\n",
    "_ = plt.legend(loc='best')\n",
    "_ = plt.title(\"Prediction VS Original data\")\n",
    "_ = plt.xlabel(\"Date\")\n",
    "_ = plt.ylabel(\"Stock Price - USD\")\n",
    "_ = plt.xticks(rotation=60)\n",
    "plt.show()"
   ]
  },
  {
   "cell_type": "code",
   "execution_count": 29,
   "metadata": {
    "colab": {
     "base_uri": "https://localhost:8080/"
    },
    "executionInfo": {
     "elapsed": 19,
     "status": "ok",
     "timestamp": 1641244449861,
     "user": {
      "displayName": "Ruslan Shulhan",
      "photoUrl": "https://lh3.googleusercontent.com/a-/AOh14Gjwuxtlwg9WSlvNyShGXVeX_wkQ56fQFp5e25km=s64",
      "userId": "10991312474810858840"
     },
     "user_tz": 300
    },
    "id": "cMYbK_YaKtai",
    "outputId": "ee5fa36f-2e79-4a4e-a4c4-6e0db9c4c1ca"
   },
   "outputs": [
    {
     "name": "stdout",
     "output_type": "stream",
     "text": [
      "Lags: 16\n",
      "MSE: 0.00002640\n",
      "MAE: 0.00377638\n",
      "RMSE: 0.00513792\n"
     ]
    }
   ],
   "source": [
    "# applying some metrics\n",
    "print(f\"Lags: {window}\")\n",
    "mse_result = mean_squared_error(data_test['Close'], data_test['Predicted'])\n",
    "print(f\"MSE: {format(mse_result, '.8f')}\")\n",
    "mae_reult = mean_absolute_error(data_test['Close'], data_test['Predicted'])\n",
    "print(f\"MAE: {format(mae_reult, '.8f')}\")\n",
    "rmse_reult = math.sqrt(mean_squared_error(data_test['Close'],\n",
    "                                         data_test['Predicted']))\n",
    "print(f\"RMSE: {format(rmse_reult, '.8f')}\")"
   ]
  },
  {
   "cell_type": "code",
   "execution_count": 30,
   "metadata": {
    "colab": {
     "base_uri": "https://localhost:8080/",
     "height": 237
    },
    "executionInfo": {
     "elapsed": 15,
     "status": "ok",
     "timestamp": 1641244449861,
     "user": {
      "displayName": "Ruslan Shulhan",
      "photoUrl": "https://lh3.googleusercontent.com/a-/AOh14Gjwuxtlwg9WSlvNyShGXVeX_wkQ56fQFp5e25km=s64",
      "userId": "10991312474810858840"
     },
     "user_tz": 300
    },
    "id": "GbCcTJAmrTSc",
    "outputId": "5b722d87-0701-4d42-b18b-ad0b2409e67c"
   },
   "outputs": [
    {
     "data": {
      "text/html": [
       "\n",
       "  <div id=\"df-63ff5a05-df9b-487f-a743-565171cac18a\">\n",
       "    <div class=\"colab-df-container\">\n",
       "      <div>\n",
       "<style scoped>\n",
       "    .dataframe tbody tr th:only-of-type {\n",
       "        vertical-align: middle;\n",
       "    }\n",
       "\n",
       "    .dataframe tbody tr th {\n",
       "        vertical-align: top;\n",
       "    }\n",
       "\n",
       "    .dataframe thead th {\n",
       "        text-align: right;\n",
       "    }\n",
       "</style>\n",
       "<table border=\"1\" class=\"dataframe\">\n",
       "  <thead>\n",
       "    <tr style=\"text-align: right;\">\n",
       "      <th></th>\n",
       "      <th>Close</th>\n",
       "    </tr>\n",
       "    <tr>\n",
       "      <th>Date</th>\n",
       "      <th></th>\n",
       "    </tr>\n",
       "  </thead>\n",
       "  <tbody>\n",
       "    <tr>\n",
       "      <th>2021-12-27</th>\n",
       "      <td>0.187705</td>\n",
       "    </tr>\n",
       "    <tr>\n",
       "      <th>2021-12-28</th>\n",
       "      <td>0.174117</td>\n",
       "    </tr>\n",
       "    <tr>\n",
       "      <th>2021-12-29</th>\n",
       "      <td>0.167765</td>\n",
       "    </tr>\n",
       "    <tr>\n",
       "      <th>2021-12-30</th>\n",
       "      <td>0.171313</td>\n",
       "    </tr>\n",
       "    <tr>\n",
       "      <th>2021-12-31</th>\n",
       "      <td>0.170496</td>\n",
       "    </tr>\n",
       "  </tbody>\n",
       "</table>\n",
       "</div>\n",
       "      <button class=\"colab-df-convert\" onclick=\"convertToInteractive('df-63ff5a05-df9b-487f-a743-565171cac18a')\"\n",
       "              title=\"Convert this dataframe to an interactive table.\"\n",
       "              style=\"display:none;\">\n",
       "        \n",
       "  <svg xmlns=\"http://www.w3.org/2000/svg\" height=\"24px\"viewBox=\"0 0 24 24\"\n",
       "       width=\"24px\">\n",
       "    <path d=\"M0 0h24v24H0V0z\" fill=\"none\"/>\n",
       "    <path d=\"M18.56 5.44l.94 2.06.94-2.06 2.06-.94-2.06-.94-.94-2.06-.94 2.06-2.06.94zm-11 1L8.5 8.5l.94-2.06 2.06-.94-2.06-.94L8.5 2.5l-.94 2.06-2.06.94zm10 10l.94 2.06.94-2.06 2.06-.94-2.06-.94-.94-2.06-.94 2.06-2.06.94z\"/><path d=\"M17.41 7.96l-1.37-1.37c-.4-.4-.92-.59-1.43-.59-.52 0-1.04.2-1.43.59L10.3 9.45l-7.72 7.72c-.78.78-.78 2.05 0 2.83L4 21.41c.39.39.9.59 1.41.59.51 0 1.02-.2 1.41-.59l7.78-7.78 2.81-2.81c.8-.78.8-2.07 0-2.86zM5.41 20L4 18.59l7.72-7.72 1.47 1.35L5.41 20z\"/>\n",
       "  </svg>\n",
       "      </button>\n",
       "      \n",
       "  <style>\n",
       "    .colab-df-container {\n",
       "      display:flex;\n",
       "      flex-wrap:wrap;\n",
       "      gap: 12px;\n",
       "    }\n",
       "\n",
       "    .colab-df-convert {\n",
       "      background-color: #E8F0FE;\n",
       "      border: none;\n",
       "      border-radius: 50%;\n",
       "      cursor: pointer;\n",
       "      display: none;\n",
       "      fill: #1967D2;\n",
       "      height: 32px;\n",
       "      padding: 0 0 0 0;\n",
       "      width: 32px;\n",
       "    }\n",
       "\n",
       "    .colab-df-convert:hover {\n",
       "      background-color: #E2EBFA;\n",
       "      box-shadow: 0px 1px 2px rgba(60, 64, 67, 0.3), 0px 1px 3px 1px rgba(60, 64, 67, 0.15);\n",
       "      fill: #174EA6;\n",
       "    }\n",
       "\n",
       "    [theme=dark] .colab-df-convert {\n",
       "      background-color: #3B4455;\n",
       "      fill: #D2E3FC;\n",
       "    }\n",
       "\n",
       "    [theme=dark] .colab-df-convert:hover {\n",
       "      background-color: #434B5C;\n",
       "      box-shadow: 0px 1px 3px 1px rgba(0, 0, 0, 0.15);\n",
       "      filter: drop-shadow(0px 1px 2px rgba(0, 0, 0, 0.3));\n",
       "      fill: #FFFFFF;\n",
       "    }\n",
       "  </style>\n",
       "\n",
       "      <script>\n",
       "        const buttonEl =\n",
       "          document.querySelector('#df-63ff5a05-df9b-487f-a743-565171cac18a button.colab-df-convert');\n",
       "        buttonEl.style.display =\n",
       "          google.colab.kernel.accessAllowed ? 'block' : 'none';\n",
       "\n",
       "        async function convertToInteractive(key) {\n",
       "          const element = document.querySelector('#df-63ff5a05-df9b-487f-a743-565171cac18a');\n",
       "          const dataTable =\n",
       "            await google.colab.kernel.invokeFunction('convertToInteractive',\n",
       "                                                     [key], {});\n",
       "          if (!dataTable) return;\n",
       "\n",
       "          const docLinkHtml = 'Like what you see? Visit the ' +\n",
       "            '<a target=\"_blank\" href=https://colab.research.google.com/notebooks/data_table.ipynb>data table notebook</a>'\n",
       "            + ' to learn more about interactive tables.';\n",
       "          element.innerHTML = '';\n",
       "          dataTable['output_type'] = 'display_data';\n",
       "          await google.colab.output.renderOutput(dataTable, element);\n",
       "          const docLink = document.createElement('div');\n",
       "          docLink.innerHTML = docLinkHtml;\n",
       "          element.appendChild(docLink);\n",
       "        }\n",
       "      </script>\n",
       "    </div>\n",
       "  </div>\n",
       "  "
      ],
      "text/plain": [
       "               Close\n",
       "Date                \n",
       "2021-12-27  0.187705\n",
       "2021-12-28  0.174117\n",
       "2021-12-29  0.167765\n",
       "2021-12-30  0.171313\n",
       "2021-12-31  0.170496"
      ]
     },
     "execution_count": 30,
     "metadata": {},
     "output_type": "execute_result"
    }
   ],
   "source": [
    "df_idx.tail()"
   ]
  },
  {
   "cell_type": "code",
   "execution_count": 31,
   "metadata": {
    "executionInfo": {
     "elapsed": 15,
     "status": "ok",
     "timestamp": 1641244449862,
     "user": {
      "displayName": "Ruslan Shulhan",
      "photoUrl": "https://lh3.googleusercontent.com/a-/AOh14Gjwuxtlwg9WSlvNyShGXVeX_wkQ56fQFp5e25km=s64",
      "userId": "10991312474810858840"
     },
     "user_tz": 300
    },
    "id": "KnWngLn5kMNo"
   },
   "outputs": [],
   "source": [
    "# applying to all data\n",
    "\n",
    "model_1_final = AR(df_idx, freq='D')\n",
    "model_1_final_fit = model_1_final.fit()\n",
    "\n",
    "# getting lag_length\n",
    "window = model_1_final_fit.k_ar\n",
    "\n",
    "# getting the fitted parameters of the model\n",
    "coef = model_1_final_fit.params\n",
    "\n",
    "# walking further, over time steps in test\n",
    "history = df_idx[len(df_idx) - window:]\n",
    "history = [history.iloc[i].values[0] for i in range(len(history))]\n",
    "\n",
    "# making predictions\n",
    "predictions = []\n",
    "\n",
    "for i in range(15): # 15 times\n",
    "  length_hist = len(history) # \n",
    "  #lag = [history[j] for j in range(length_hist - window, length_hist)]\n",
    "  lag = history[i:]\n",
    "\n",
    "  yhat = coef[0] # 0.005822\n",
    "\n",
    "  for d in range(window): # 16\n",
    "    #yhat += coef[d + 1] * lag[window - d - 1]\n",
    "    yhat += coef[d + 1] * lag[(-1) - d]\n",
    "\n",
    "  #obs = data_test.iloc[i].values[0]\n",
    "  predictions.append(yhat)\n",
    "  history.append(yhat)"
   ]
  },
  {
   "cell_type": "code",
   "execution_count": 32,
   "metadata": {
    "colab": {
     "base_uri": "https://localhost:8080/",
     "height": 551
    },
    "executionInfo": {
     "elapsed": 14,
     "status": "ok",
     "timestamp": 1641244449862,
     "user": {
      "displayName": "Ruslan Shulhan",
      "photoUrl": "https://lh3.googleusercontent.com/a-/AOh14Gjwuxtlwg9WSlvNyShGXVeX_wkQ56fQFp5e25km=s64",
      "userId": "10991312474810858840"
     },
     "user_tz": 300
    },
    "id": "ejanpBvzstlB",
    "outputId": "e19d6230-e14d-4711-c97e-86864b5818eb"
   },
   "outputs": [
    {
     "data": {
      "text/html": [
       "\n",
       "  <div id=\"df-bb528fa9-8572-46fd-84d7-6dab7e8ade2a\">\n",
       "    <div class=\"colab-df-container\">\n",
       "      <div>\n",
       "<style scoped>\n",
       "    .dataframe tbody tr th:only-of-type {\n",
       "        vertical-align: middle;\n",
       "    }\n",
       "\n",
       "    .dataframe tbody tr th {\n",
       "        vertical-align: top;\n",
       "    }\n",
       "\n",
       "    .dataframe thead th {\n",
       "        text-align: right;\n",
       "    }\n",
       "</style>\n",
       "<table border=\"1\" class=\"dataframe\">\n",
       "  <thead>\n",
       "    <tr style=\"text-align: right;\">\n",
       "      <th></th>\n",
       "      <th>Prediction</th>\n",
       "    </tr>\n",
       "    <tr>\n",
       "      <th>Date</th>\n",
       "      <th></th>\n",
       "    </tr>\n",
       "  </thead>\n",
       "  <tbody>\n",
       "    <tr>\n",
       "      <th>2022-01-01</th>\n",
       "      <td>0.172116</td>\n",
       "    </tr>\n",
       "    <tr>\n",
       "      <th>2022-01-02</th>\n",
       "      <td>0.177448</td>\n",
       "    </tr>\n",
       "    <tr>\n",
       "      <th>2022-01-03</th>\n",
       "      <td>0.182467</td>\n",
       "    </tr>\n",
       "    <tr>\n",
       "      <th>2022-01-04</th>\n",
       "      <td>0.182004</td>\n",
       "    </tr>\n",
       "    <tr>\n",
       "      <th>2022-01-05</th>\n",
       "      <td>0.183853</td>\n",
       "    </tr>\n",
       "    <tr>\n",
       "      <th>2022-01-06</th>\n",
       "      <td>0.182304</td>\n",
       "    </tr>\n",
       "    <tr>\n",
       "      <th>2022-01-07</th>\n",
       "      <td>0.182143</td>\n",
       "    </tr>\n",
       "    <tr>\n",
       "      <th>2022-01-08</th>\n",
       "      <td>0.182943</td>\n",
       "    </tr>\n",
       "    <tr>\n",
       "      <th>2022-01-09</th>\n",
       "      <td>0.185636</td>\n",
       "    </tr>\n",
       "    <tr>\n",
       "      <th>2022-01-10</th>\n",
       "      <td>0.187056</td>\n",
       "    </tr>\n",
       "    <tr>\n",
       "      <th>2022-01-11</th>\n",
       "      <td>0.190217</td>\n",
       "    </tr>\n",
       "    <tr>\n",
       "      <th>2022-01-12</th>\n",
       "      <td>0.192773</td>\n",
       "    </tr>\n",
       "    <tr>\n",
       "      <th>2022-01-13</th>\n",
       "      <td>0.192415</td>\n",
       "    </tr>\n",
       "    <tr>\n",
       "      <th>2022-01-14</th>\n",
       "      <td>0.193169</td>\n",
       "    </tr>\n",
       "    <tr>\n",
       "      <th>2022-01-15</th>\n",
       "      <td>0.193434</td>\n",
       "    </tr>\n",
       "  </tbody>\n",
       "</table>\n",
       "</div>\n",
       "      <button class=\"colab-df-convert\" onclick=\"convertToInteractive('df-bb528fa9-8572-46fd-84d7-6dab7e8ade2a')\"\n",
       "              title=\"Convert this dataframe to an interactive table.\"\n",
       "              style=\"display:none;\">\n",
       "        \n",
       "  <svg xmlns=\"http://www.w3.org/2000/svg\" height=\"24px\"viewBox=\"0 0 24 24\"\n",
       "       width=\"24px\">\n",
       "    <path d=\"M0 0h24v24H0V0z\" fill=\"none\"/>\n",
       "    <path d=\"M18.56 5.44l.94 2.06.94-2.06 2.06-.94-2.06-.94-.94-2.06-.94 2.06-2.06.94zm-11 1L8.5 8.5l.94-2.06 2.06-.94-2.06-.94L8.5 2.5l-.94 2.06-2.06.94zm10 10l.94 2.06.94-2.06 2.06-.94-2.06-.94-.94-2.06-.94 2.06-2.06.94z\"/><path d=\"M17.41 7.96l-1.37-1.37c-.4-.4-.92-.59-1.43-.59-.52 0-1.04.2-1.43.59L10.3 9.45l-7.72 7.72c-.78.78-.78 2.05 0 2.83L4 21.41c.39.39.9.59 1.41.59.51 0 1.02-.2 1.41-.59l7.78-7.78 2.81-2.81c.8-.78.8-2.07 0-2.86zM5.41 20L4 18.59l7.72-7.72 1.47 1.35L5.41 20z\"/>\n",
       "  </svg>\n",
       "      </button>\n",
       "      \n",
       "  <style>\n",
       "    .colab-df-container {\n",
       "      display:flex;\n",
       "      flex-wrap:wrap;\n",
       "      gap: 12px;\n",
       "    }\n",
       "\n",
       "    .colab-df-convert {\n",
       "      background-color: #E8F0FE;\n",
       "      border: none;\n",
       "      border-radius: 50%;\n",
       "      cursor: pointer;\n",
       "      display: none;\n",
       "      fill: #1967D2;\n",
       "      height: 32px;\n",
       "      padding: 0 0 0 0;\n",
       "      width: 32px;\n",
       "    }\n",
       "\n",
       "    .colab-df-convert:hover {\n",
       "      background-color: #E2EBFA;\n",
       "      box-shadow: 0px 1px 2px rgba(60, 64, 67, 0.3), 0px 1px 3px 1px rgba(60, 64, 67, 0.15);\n",
       "      fill: #174EA6;\n",
       "    }\n",
       "\n",
       "    [theme=dark] .colab-df-convert {\n",
       "      background-color: #3B4455;\n",
       "      fill: #D2E3FC;\n",
       "    }\n",
       "\n",
       "    [theme=dark] .colab-df-convert:hover {\n",
       "      background-color: #434B5C;\n",
       "      box-shadow: 0px 1px 3px 1px rgba(0, 0, 0, 0.15);\n",
       "      filter: drop-shadow(0px 1px 2px rgba(0, 0, 0, 0.3));\n",
       "      fill: #FFFFFF;\n",
       "    }\n",
       "  </style>\n",
       "\n",
       "      <script>\n",
       "        const buttonEl =\n",
       "          document.querySelector('#df-bb528fa9-8572-46fd-84d7-6dab7e8ade2a button.colab-df-convert');\n",
       "        buttonEl.style.display =\n",
       "          google.colab.kernel.accessAllowed ? 'block' : 'none';\n",
       "\n",
       "        async function convertToInteractive(key) {\n",
       "          const element = document.querySelector('#df-bb528fa9-8572-46fd-84d7-6dab7e8ade2a');\n",
       "          const dataTable =\n",
       "            await google.colab.kernel.invokeFunction('convertToInteractive',\n",
       "                                                     [key], {});\n",
       "          if (!dataTable) return;\n",
       "\n",
       "          const docLinkHtml = 'Like what you see? Visit the ' +\n",
       "            '<a target=\"_blank\" href=https://colab.research.google.com/notebooks/data_table.ipynb>data table notebook</a>'\n",
       "            + ' to learn more about interactive tables.';\n",
       "          element.innerHTML = '';\n",
       "          dataTable['output_type'] = 'display_data';\n",
       "          await google.colab.output.renderOutput(dataTable, element);\n",
       "          const docLink = document.createElement('div');\n",
       "          docLink.innerHTML = docLinkHtml;\n",
       "          element.appendChild(docLink);\n",
       "        }\n",
       "      </script>\n",
       "    </div>\n",
       "  </div>\n",
       "  "
      ],
      "text/plain": [
       "            Prediction\n",
       "Date                  \n",
       "2022-01-01    0.172116\n",
       "2022-01-02    0.177448\n",
       "2022-01-03    0.182467\n",
       "2022-01-04    0.182004\n",
       "2022-01-05    0.183853\n",
       "2022-01-06    0.182304\n",
       "2022-01-07    0.182143\n",
       "2022-01-08    0.182943\n",
       "2022-01-09    0.185636\n",
       "2022-01-10    0.187056\n",
       "2022-01-11    0.190217\n",
       "2022-01-12    0.192773\n",
       "2022-01-13    0.192415\n",
       "2022-01-14    0.193169\n",
       "2022-01-15    0.193434"
      ]
     },
     "execution_count": 32,
     "metadata": {},
     "output_type": "execute_result"
    }
   ],
   "source": [
    "# converting to DF for simplicity of observation\n",
    "df_pred_results = pd.DataFrame({\n",
    "    'Date': pd.date_range(start='01/01/2022', end='01/15/2022'),\n",
    "    'Prediction': predictions\n",
    "})\n",
    "\n",
    "df_pred_results = df_pred_results.set_index('Date')\n",
    "df_pred_results"
   ]
  },
  {
   "cell_type": "code",
   "execution_count": 33,
   "metadata": {
    "colab": {
     "base_uri": "https://localhost:8080/",
     "height": 529
    },
    "executionInfo": {
     "elapsed": 418,
     "status": "ok",
     "timestamp": 1641244450267,
     "user": {
      "displayName": "Ruslan Shulhan",
      "photoUrl": "https://lh3.googleusercontent.com/a-/AOh14Gjwuxtlwg9WSlvNyShGXVeX_wkQ56fQFp5e25km=s64",
      "userId": "10991312474810858840"
     },
     "user_tz": 300
    },
    "id": "ICXhMwUks7oP",
    "outputId": "5ebb4130-36f1-43b6-a692-0bd2a6b6015a"
   },
   "outputs": [
    {
     "data": {
      "image/png": "[encoded data removed]",
      "text/plain": [
       "<Figure size 842.4x523.44 with 1 Axes>"
      ]
     },
     "metadata": {},
     "output_type": "display_data"
    }
   ],
   "source": [
    "# graphing results\n",
    "_ = plt.plot(df_pred_results)\n",
    "_ = plt.title(\"Prediction for first 2 weeks of Jan, 2022\")\n",
    "_ = plt.xlabel(\"Date\")\n",
    "_ = plt.ylabel(\"Stock Price - USD\")\n",
    "_ = plt.xticks(rotation=60)\n",
    "plt.show()"
   ]
  }
 ],
 "metadata": {
  "colab": {
   "authorship_tag": "ABX9TyOV+jF2HzZG+yFRUOTK5kXq",
   "collapsed_sections": [],
   "mount_file_id": "1CiH8AYc7RqT8wCWEzsta8YZ6zSrjLGAo",
   "name": "Copy of Time_Series_Analysis_5-Forecasting_Dogecoin_With_Autoregressive_Processes_FINAL.ipynb",
   "provenance": []
  },
  "kernelspec": {
   "display_name": "Python 3",
   "language": "python",
   "name": "python3"
  },
  "language_info": {
   "codemirror_mode": {
    "name": "ipython",
    "version": 3
   },
   "file_extension": ".py",
   "mimetype": "text/x-python",
   "name": "python",
   "nbconvert_exporter": "python",
   "pygments_lexer": "ipython3",
   "version": "3.8.5"
  }
 },
 "nbformat": 4,
 "nbformat_minor": 1
}
